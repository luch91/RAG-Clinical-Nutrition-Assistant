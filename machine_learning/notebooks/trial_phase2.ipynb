{
 "cells": [
  {
   "cell_type": "markdown",
   "id": "8984c44e",
   "metadata": {},
   "source": [
    "\n",
    "### NUTRITION QUERY CLASSIFIER TRAINING\n",
    "### **Portfolio-Ready • Clinically Safe • Production-Optimized**\n",
    "#\n",
    "### This notebook trains a DistilBERT classifier for nutrition queries with:\n",
    "#### - ✅ **90%+ therapy query accuracy** (critical for clinical safety)\n",
    "#### - ✅ **Biomarker-aware tokenization** (for better clinical understanding)\n",
    "#### - ✅ **Risk-weighted training** (prioritizes high-risk queries)\n",
    "#### - ✅ **Production-ready export** (matches your app structure)"
   ]
  },
  {
   "cell_type": "code",
   "execution_count": null,
   "id": "cdaeb174",
   "metadata": {},
   "outputs": [],
   "source": [
    "!pip install matplotlib"
   ]
  },
  {
   "cell_type": "code",
   "execution_count": null,
   "id": "89e348e0",
   "metadata": {},
   "outputs": [],
   "source": [
    "!pip install seaborn"
   ]
  },
  {
   "cell_type": "code",
   "execution_count": 109,
   "id": "c3f44890",
   "metadata": {},
   "outputs": [],
   "source": [
    "import os\n",
    "import re\n",
    "import pandas as pd\n",
    "import numpy as np\n",
    "import matplotlib.pyplot as plt\n",
    "import seaborn as sns\n",
    "from sklearn.model_selection import train_test_split, StratifiedGroupKFold\n",
    "from sklearn.metrics import f1_score, precision_recall_fscore_support, classification_report\n",
    "import torch\n",
    "from torch.utils.data import Dataset, DataLoader\n",
    "from transformers import (\n",
    "    DistilBertTokenizer,\n",
    "    DistilBertForSequenceClassification,\n",
    "    TrainingArguments,\n",
    "    Trainer,\n",
    "    EarlyStoppingCallback\n",
    ")\n",
    "import logging"
   ]
  },
  {
   "cell_type": "code",
   "execution_count": 110,
   "id": "3396e27a",
   "metadata": {},
   "outputs": [],
   "source": [
    "# Set up logging\n",
    "logging.basicConfig(level=logging.INFO)\n",
    "logger = logging.getLogger(__name__)"
   ]
  },
  {
   "cell_type": "code",
   "execution_count": 3,
   "id": "ad776286",
   "metadata": {},
   "outputs": [],
   "source": [
    "# Set random seed for reproducibility (portfolio requirement)\n",
    "torch.manual_seed(42)\n",
    "np.random.seed(42)"
   ]
  },
  {
   "cell_type": "code",
   "execution_count": 4,
   "id": "eb656bd0",
   "metadata": {},
   "outputs": [],
   "source": [
    "# Configure matplotlib for better visuals\n",
    "#plt.style.use('seaborn-whitegrid')\n",
    "%matplotlib inline"
   ]
  },
  {
   "cell_type": "markdown",
   "id": "5f527121",
   "metadata": {},
   "source": [
    "##### Loading Dataset"
   ]
  },
  {
   "cell_type": "code",
   "execution_count": 111,
   "id": "00d09b02",
   "metadata": {},
   "outputs": [],
   "source": [
    "DATA_PATH = \"../data/nutrition_queries_dataset.csv\""
   ]
  },
  {
   "cell_type": "code",
   "execution_count": 112,
   "id": "c7f4737f",
   "metadata": {},
   "outputs": [
    {
     "name": "stderr",
     "output_type": "stream",
     "text": [
      "INFO:__main__:Loading dataset from ../data/nutrition_queries_dataset.csv\n"
     ]
    }
   ],
   "source": [
    "logger.info(f\"Loading dataset from {DATA_PATH}\")\n",
    "df = pd.read_csv(DATA_PATH)"
   ]
  },
  {
   "cell_type": "code",
   "execution_count": 113,
   "id": "1af5c790",
   "metadata": {},
   "outputs": [
    {
     "name": "stdout",
     "output_type": "stream",
     "text": [
      "<class 'pandas.core.frame.DataFrame'>\n",
      "RangeIndex: 4100 entries, 0 to 4099\n",
      "Data columns (total 9 columns):\n",
      " #   Column            Non-Null Count  Dtype \n",
      "---  ------            --------------  ----- \n",
      " 0   id                4100 non-null   int64 \n",
      " 1   query             4100 non-null   object\n",
      " 2   label             4100 non-null   object\n",
      " 3   complexity        4100 non-null   int64 \n",
      " 4   recommended_llm   4100 non-null   object\n",
      " 5   needs_followup    4100 non-null   bool  \n",
      " 6   distractor_label  700 non-null    object\n",
      " 7   biomarkers        4100 non-null   object\n",
      " 8   is_high_risk      4100 non-null   bool  \n",
      "dtypes: bool(2), int64(2), object(5)\n",
      "memory usage: 232.4+ KB\n"
     ]
    }
   ],
   "source": [
    "df.info()"
   ]
  },
  {
   "cell_type": "code",
   "execution_count": 7,
   "id": "170cf863",
   "metadata": {},
   "outputs": [
    {
     "name": "stderr",
     "output_type": "stream",
     "text": [
      "INFO:__main__:Dataset shape: (4100, 9)\n",
      "INFO:__main__:Columns: ['id', 'query', 'label', 'complexity', 'recommended_llm', 'needs_followup', 'distractor_label', 'biomarkers', 'is_high_risk']\n"
     ]
    }
   ],
   "source": [
    "logger.info(f\"Dataset shape: {df.shape}\")\n",
    "logger.info(f\"Columns: {df.columns.tolist()}\")"
   ]
  },
  {
   "cell_type": "code",
   "execution_count": 8,
   "id": "b6de9456",
   "metadata": {},
   "outputs": [
    {
     "data": {
      "text/html": [
       "<div>\n",
       "<style scoped>\n",
       "    .dataframe tbody tr th:only-of-type {\n",
       "        vertical-align: middle;\n",
       "    }\n",
       "\n",
       "    .dataframe tbody tr th {\n",
       "        vertical-align: top;\n",
       "    }\n",
       "\n",
       "    .dataframe thead th {\n",
       "        text-align: right;\n",
       "    }\n",
       "</style>\n",
       "<table border=\"1\" class=\"dataframe\">\n",
       "  <thead>\n",
       "    <tr style=\"text-align: right;\">\n",
       "      <th></th>\n",
       "      <th>id</th>\n",
       "      <th>query</th>\n",
       "      <th>label</th>\n",
       "      <th>complexity</th>\n",
       "      <th>recommended_llm</th>\n",
       "      <th>needs_followup</th>\n",
       "      <th>distractor_label</th>\n",
       "      <th>biomarkers</th>\n",
       "      <th>is_high_risk</th>\n",
       "    </tr>\n",
       "  </thead>\n",
       "  <tbody>\n",
       "    <tr>\n",
       "      <th>0</th>\n",
       "      <td>1</td>\n",
       "      <td>Compare the vitamin C content in fresh vs froz...</td>\n",
       "      <td>comparison</td>\n",
       "      <td>2</td>\n",
       "      <td>TinyLlama</td>\n",
       "      <td>True</td>\n",
       "      <td>NaN</td>\n",
       "      <td>[\"vitamin_c\"]</td>\n",
       "      <td>False</td>\n",
       "    </tr>\n",
       "    <tr>\n",
       "      <th>1</th>\n",
       "      <td>2</td>\n",
       "      <td>Which has lower phytate: unfermented ogi or so...</td>\n",
       "      <td>comparison</td>\n",
       "      <td>4</td>\n",
       "      <td>Mistral</td>\n",
       "      <td>True</td>\n",
       "      <td>NaN</td>\n",
       "      <td>[\"phytate\"]</td>\n",
       "      <td>False</td>\n",
       "    </tr>\n",
       "    <tr>\n",
       "      <th>2</th>\n",
       "      <td>3</td>\n",
       "      <td>How much zinc should a 3-year-old child with c...</td>\n",
       "      <td>recommendation</td>\n",
       "      <td>5</td>\n",
       "      <td>Mistral</td>\n",
       "      <td>True</td>\n",
       "      <td>NaN</td>\n",
       "      <td>[\"zinc\"]</td>\n",
       "      <td>True</td>\n",
       "    </tr>\n",
       "    <tr>\n",
       "      <th>3</th>\n",
       "      <td>4</td>\n",
       "      <td>What foods should I eat if I have CKD stage 3 ...</td>\n",
       "      <td>therapy</td>\n",
       "      <td>5</td>\n",
       "      <td>Mistral</td>\n",
       "      <td>False</td>\n",
       "      <td>NaN</td>\n",
       "      <td>[\"creatinine\"]</td>\n",
       "      <td>True</td>\n",
       "    </tr>\n",
       "    <tr>\n",
       "      <th>4</th>\n",
       "      <td>5</td>\n",
       "      <td>Explain how vitamin K helps with blood clotting</td>\n",
       "      <td>general</td>\n",
       "      <td>4</td>\n",
       "      <td>Mistral</td>\n",
       "      <td>False</td>\n",
       "      <td>NaN</td>\n",
       "      <td>[\"vitamin_k\"]</td>\n",
       "      <td>False</td>\n",
       "    </tr>\n",
       "    <tr>\n",
       "      <th>5</th>\n",
       "      <td>6</td>\n",
       "      <td>Compare protein quality of cowpea vs bambara n...</td>\n",
       "      <td>comparison</td>\n",
       "      <td>3</td>\n",
       "      <td>TinyLlama</td>\n",
       "      <td>True</td>\n",
       "      <td>NaN</td>\n",
       "      <td>[\"protein\"]</td>\n",
       "      <td>False</td>\n",
       "    </tr>\n",
       "    <tr>\n",
       "      <th>6</th>\n",
       "      <td>7</td>\n",
       "      <td>What's the recommended daily fiber intake for ...</td>\n",
       "      <td>recommendation</td>\n",
       "      <td>3</td>\n",
       "      <td>Mistral</td>\n",
       "      <td>True</td>\n",
       "      <td>NaN</td>\n",
       "      <td>[]</td>\n",
       "      <td>False</td>\n",
       "    </tr>\n",
       "    <tr>\n",
       "      <th>7</th>\n",
       "      <td>8</td>\n",
       "      <td>Is palm oil or shea butter better for vitamin ...</td>\n",
       "      <td>comparison</td>\n",
       "      <td>2</td>\n",
       "      <td>TinyLlama</td>\n",
       "      <td>True</td>\n",
       "      <td>NaN</td>\n",
       "      <td>[\"vitamin_e\"]</td>\n",
       "      <td>False</td>\n",
       "    </tr>\n",
       "    <tr>\n",
       "      <th>8</th>\n",
       "      <td>9</td>\n",
       "      <td>Nutrition therapy for hypertension with creati...</td>\n",
       "      <td>therapy</td>\n",
       "      <td>5</td>\n",
       "      <td>Mistral</td>\n",
       "      <td>False</td>\n",
       "      <td>NaN</td>\n",
       "      <td>[\"creatinine\"]</td>\n",
       "      <td>True</td>\n",
       "    </tr>\n",
       "    <tr>\n",
       "      <th>9</th>\n",
       "      <td>10</td>\n",
       "      <td>How does iron get absorbed in the gut?</td>\n",
       "      <td>general</td>\n",
       "      <td>4</td>\n",
       "      <td>Mistral</td>\n",
       "      <td>False</td>\n",
       "      <td>NaN</td>\n",
       "      <td>[\"iron\"]</td>\n",
       "      <td>False</td>\n",
       "    </tr>\n",
       "  </tbody>\n",
       "</table>\n",
       "</div>"
      ],
      "text/plain": [
       "   id                                              query           label  \\\n",
       "0   1  Compare the vitamin C content in fresh vs froz...      comparison   \n",
       "1   2  Which has lower phytate: unfermented ogi or so...      comparison   \n",
       "2   3  How much zinc should a 3-year-old child with c...  recommendation   \n",
       "3   4  What foods should I eat if I have CKD stage 3 ...         therapy   \n",
       "4   5    Explain how vitamin K helps with blood clotting         general   \n",
       "5   6  Compare protein quality of cowpea vs bambara n...      comparison   \n",
       "6   7  What's the recommended daily fiber intake for ...  recommendation   \n",
       "7   8  Is palm oil or shea butter better for vitamin ...      comparison   \n",
       "8   9  Nutrition therapy for hypertension with creati...         therapy   \n",
       "9  10             How does iron get absorbed in the gut?         general   \n",
       "\n",
       "   complexity recommended_llm  needs_followup distractor_label  \\\n",
       "0           2       TinyLlama            True              NaN   \n",
       "1           4         Mistral            True              NaN   \n",
       "2           5         Mistral            True              NaN   \n",
       "3           5         Mistral           False              NaN   \n",
       "4           4         Mistral           False              NaN   \n",
       "5           3       TinyLlama            True              NaN   \n",
       "6           3         Mistral            True              NaN   \n",
       "7           2       TinyLlama            True              NaN   \n",
       "8           5         Mistral           False              NaN   \n",
       "9           4         Mistral           False              NaN   \n",
       "\n",
       "       biomarkers  is_high_risk  \n",
       "0   [\"vitamin_c\"]         False  \n",
       "1     [\"phytate\"]         False  \n",
       "2        [\"zinc\"]          True  \n",
       "3  [\"creatinine\"]          True  \n",
       "4   [\"vitamin_k\"]         False  \n",
       "5     [\"protein\"]         False  \n",
       "6              []         False  \n",
       "7   [\"vitamin_e\"]         False  \n",
       "8  [\"creatinine\"]          True  \n",
       "9        [\"iron\"]         False  "
      ]
     },
     "execution_count": 8,
     "metadata": {},
     "output_type": "execute_result"
    }
   ],
   "source": [
    "df.head(10)"
   ]
  },
  {
   "cell_type": "markdown",
   "id": "ae656ec8",
   "metadata": {},
   "source": [
    "### Exloratory Data Analysis\n",
    "#### Clinical Risk Profiling\n",
    "##### **This section identifies high-risk patterns critical for healthcare AI**\n"
   ]
  },
  {
   "cell_type": "code",
   "execution_count": 9,
   "id": "c941139b",
   "metadata": {},
   "outputs": [
    {
     "data": {
      "text/plain": [
       "Text(0, 0.5, 'Count')"
      ]
     },
     "execution_count": 9,
     "metadata": {},
     "output_type": "execute_result"
    },
    {
     "data": {
      "image/png": "[encoded data removed]",
      "text/plain": [
       "<Figure size 1000x600 with 1 Axes>"
      ]
     },
     "metadata": {},
     "output_type": "display_data"
    }
   ],
   "source": [
    "# 2.1 Label Distribution Analysis\n",
    "plt.figure(figsize=(10, 6))\n",
    "ax = sns.countplot(data=df, x='label', order=['comparison', 'recommendation', 'therapy', 'general'])\n",
    "plt.title('Query Type Distribution', fontsize=16)\n",
    "plt.xlabel('Query Type', fontsize=14)\n",
    "plt.ylabel('Count', fontsize=14)\n"
   ]
  },
  {
   "cell_type": "code",
   "execution_count": 10,
   "id": "ea80ceb8",
   "metadata": {},
   "outputs": [
    {
     "data": {
      "text/plain": [
       "<Figure size 640x480 with 0 Axes>"
      ]
     },
     "metadata": {},
     "output_type": "display_data"
    }
   ],
   "source": [
    "# Add value labels\n",
    "os.makedirs(\"eda\", exist_ok=True)\n",
    "for p in ax.patches:\n",
    "    ax.annotate(f'{int(p.get_height())}', \n",
    "                (p.get_x() + p.get_width() / 2., p.get_height()),\n",
    "                ha='center', va='center', \n",
    "                xytext=(0, 5), \n",
    "                textcoords='offset points',\n",
    "                fontsize=12)\n",
    "\n",
    "plt.tight_layout()\n",
    "plt.savefig('eda/label_distribution.png', dpi=300, bbox_inches='tight')\n",
    "plt.show()\n"
   ]
  },
  {
   "cell_type": "code",
   "execution_count": 11,
   "id": "85c75a40",
   "metadata": {},
   "outputs": [
    {
     "name": "stderr",
     "output_type": "stream",
     "text": [
      "INFO:__main__:Therapy queries: 1031 (25.1%) - critical for clinical safety\n"
     ]
    }
   ],
   "source": [
    "# Calculate class imbalance\n",
    "class_counts = df['label'].value_counts()\n",
    "therapy_pct = class_counts['therapy'] / len(df) * 100\n",
    "logger.info(f\"Therapy queries: {class_counts['therapy']} ({therapy_pct:.1f}%) - critical for clinical safety\")\n"
   ]
  },
  {
   "cell_type": "code",
   "execution_count": 12,
   "id": "51b157f8",
   "metadata": {},
   "outputs": [
    {
     "name": "stderr",
     "output_type": "stream",
     "text": [
      "C:\\Users\\user\\AppData\\Local\\Temp\\ipykernel_27908\\1614193850.py:2: FutureWarning: \n",
      "\n",
      "Passing `palette` without assigning `hue` is deprecated and will be removed in v0.14.0. Assign the `x` variable to `hue` and set `legend=False` for the same effect.\n",
      "\n",
      "  ax = sns.boxplot(data=df, x='label', y='complexity',\n"
     ]
    },
    {
     "data": {
      "image/png": "[encoded data removed]",
      "text/plain": [
       "<Figure size 1200x700 with 1 Axes>"
      ]
     },
     "metadata": {},
     "output_type": "display_data"
    }
   ],
   "source": [
    "plt.figure(figsize=(12, 7))\n",
    "ax = sns.boxplot(data=df, x='label', y='complexity', \n",
    "                 order=['comparison', 'recommendation', 'therapy', 'general'],\n",
    "                 palette='viridis')\n",
    "plt.title('Complexity Distribution by Query Type', fontsize=16)\n",
    "plt.xlabel('Query Type', fontsize=14)\n",
    "plt.ylabel('Complexity (1-5)', fontsize=14)\n",
    "plt.axhline(y=3, color='r', linestyle='--', alpha=0.7, label='TinyLlama/Mistral Threshold')\n",
    "plt.legend()\n",
    "\n",
    "plt.tight_layout()\n",
    "plt.savefig('eda/complexity_distribution.png', dpi=300, bbox_inches='tight')\n",
    "plt.show()"
   ]
  },
  {
   "cell_type": "code",
   "execution_count": 13,
   "id": "f8df034b",
   "metadata": {},
   "outputs": [
    {
     "name": "stderr",
     "output_type": "stream",
     "text": [
      "INFO:__main__:High-risk queries (therapy + complexity ≥4): 683 (16.7%)\n"
     ]
    }
   ],
   "source": [
    "# Calculate high-risk queries\n",
    "high_risk_mask = (df['label'] == 'therapy') & (df['complexity'] >= 4)\n",
    "high_risk_pct = sum(high_risk_mask) / len(df) * 100\n",
    "logger.info(f\"High-risk queries (therapy + complexity ≥4): {sum(high_risk_mask)} ({high_risk_pct:.1f}%)\")\n"
   ]
  },
  {
   "cell_type": "markdown",
   "id": "9b88732f",
   "metadata": {},
   "source": [
    "Biomarkers Count for all  Queries\n"
   ]
  },
  {
   "cell_type": "code",
   "execution_count": 44,
   "id": "6f414ee8",
   "metadata": {},
   "outputs": [
    {
     "name": "stdout",
     "output_type": "stream",
     "text": [
      "✅ Number of queries with biomarkers: 839\n",
      "🔬 Unique biomarkers: {'crp', 'vitamin_a', 'iodine', 'iron', 'lysine', 'folate', 'gut_health', 'gags', 'choline', 'lactate', 'creatine', 'calcium', 'thiamine', 'isoleucine', 'bilirubin', 'homocysteine', 'valine', 'leucine', 'phenylalanine', 'biotin', 'galactose_1_phosphate', 'ldl_cholesterol', 'vitamin_e', 'carnitine', 'glucose', 'vitamin_k', 'vitamin_d', 'gut_microbiome', 'vitamin_b12', 'vitamin_c', 'ammonia', 'methionine', 'calprotectin', 'glycemic_index', 'sodium', 'chromium', 'succinylacetone', '7_dehydrocholesterol', 'tsh', 'phosphorus', 'lycopene', 'alt', 'ferritin', 'phytate', 'selenium', 'potassium', 'afp', 'amino_acids', 'magnesium', 'tyrosine', 'hmg_acid', 'egfr', 'glycine', 'uric_acid', 'protein', 'vlcfa', 'oxalate', 'hba1c', 'orotic_acid', 'zinc', 'methylmalonic_acid', 'creatinine', 'omega_3', 'urea', 'tryptophan'}\n",
      "🔢 Total unique biomarkers: 65\n"
     ]
    }
   ],
   "source": [
    "import ast\n",
    "\n",
    "# Reload and force biomarkers back to real lists\n",
    "df = pd.read_csv(\"../data/nutrition_queries_dataset.csv\")\n",
    "\n",
    "def safe_parse(x):\n",
    "    try:\n",
    "        if pd.isna(x) or x.strip() == \"\":\n",
    "            return []\n",
    "        return ast.literal_eval(x)\n",
    "    except Exception:\n",
    "        return []\n",
    "\n",
    "df[\"biomarkers\"] = df[\"biomarkers\"].apply(safe_parse)\n",
    "\n",
    "# Now re-check counts\n",
    "num_with_biomarkers = df[\"biomarkers\"].apply(lambda x: isinstance(x, list) and len(x) > 0).sum()\n",
    "print(\"✅ Number of queries with biomarkers:\", num_with_biomarkers)\n",
    "\n",
    "all_biomarkers = set(b for sublist in df[\"biomarkers\"] for b in sublist)\n",
    "print(\"🔬 Unique biomarkers:\", all_biomarkers)\n",
    "print(\"🔢 Total unique biomarkers:\", len(all_biomarkers))\n"
   ]
  },
  {
   "cell_type": "code",
   "execution_count": 45,
   "id": "2bfdaccc",
   "metadata": {},
   "outputs": [
    {
     "name": "stdout",
     "output_type": "stream",
     "text": [
      "[['vitamin_c'], ['phytate'], ['zinc'], ['creatinine'], ['vitamin_k'], ['protein'], [], ['vitamin_e'], ['creatinine'], ['iron'], ['iron'], [], ['phytate'], ['vitamin_d'], ['glycemic_index'], ['ferritin'], ['omega_3'], ['calcium'], ['lysine'], ['vitamin_c']]\n"
     ]
    }
   ],
   "source": [
    "print(df[\"biomarkers\"].head(20).tolist())\n"
   ]
  },
  {
   "cell_type": "code",
   "execution_count": 46,
   "id": "e55c4581",
   "metadata": {},
   "outputs": [
    {
     "data": {
      "image/png": "[encoded data removed]",
      "text/plain": [
       "<Figure size 1000x600 with 1 Axes>"
      ]
     },
     "metadata": {},
     "output_type": "display_data"
    }
   ],
   "source": [
    "import matplotlib.pyplot as plt\n",
    "from collections import Counter\n",
    "\n",
    "# Flatten biomarker lists\n",
    "all_biomarkers = [b for sublist in df[\"biomarkers\"] for b in sublist]\n",
    "\n",
    "# Count frequencies\n",
    "biomarker_counts = Counter(all_biomarkers)\n",
    "\n",
    "# Plot\n",
    "plt.figure(figsize=(10, 6))\n",
    "plt.bar(biomarker_counts.keys(), biomarker_counts.values())\n",
    "plt.xticks(rotation=45, ha=\"right\")\n",
    "plt.title(\"Biomarker Frequency in Nutrition Queries\")\n",
    "plt.xlabel(\"Biomarker\")\n",
    "plt.ylabel(\"Count\")\n",
    "plt.tight_layout()\n",
    "plt.show()\n"
   ]
  },
  {
   "cell_type": "code",
   "execution_count": 47,
   "id": "9965d16e",
   "metadata": {},
   "outputs": [
    {
     "data": {
      "image/png": "[encoded data removed]",
      "text/plain": [
       "<Figure size 1200x600 with 1 Axes>"
      ]
     },
     "metadata": {},
     "output_type": "display_data"
    }
   ],
   "source": [
    "import matplotlib.pyplot as plt\n",
    "from collections import Counter\n",
    "import numpy as np\n",
    "\n",
    "# Collect biomarker counts per query type\n",
    "biomarker_by_label = {}\n",
    "\n",
    "for label in df[\"label\"].unique():\n",
    "    biomarkers = [b for sublist in df[df[\"label\"] == label][\"biomarkers\"] for b in sublist]\n",
    "    biomarker_by_label[label] = Counter(biomarkers)\n",
    "\n",
    "# Get all unique biomarkers\n",
    "all_biomarkers = sorted({b for sublist in df[\"biomarkers\"] for b in sublist})\n",
    "\n",
    "# Prepare data for grouped bar plot\n",
    "labels = list(biomarker_by_label.keys())\n",
    "x = np.arange(len(all_biomarkers))  # positions for biomarkers\n",
    "width = 0.4  # width of each bar\n",
    "\n",
    "plt.figure(figsize=(12, 6))\n",
    "\n",
    "for i, label in enumerate(labels):\n",
    "    counts = [biomarker_by_label[label][b] for b in all_biomarkers]\n",
    "    plt.bar(x + i*width, counts, width, label=label)\n",
    "\n",
    "# Formatting\n",
    "plt.xticks(x + width, all_biomarkers, rotation=45, ha=\"right\")\n",
    "plt.ylabel(\"Count\")\n",
    "plt.title(\"Biomarker Frequency by Query Type\")\n",
    "plt.legend(title=\"Query Type\")\n",
    "plt.tight_layout()\n",
    "plt.show()\n"
   ]
  },
  {
   "cell_type": "code",
   "execution_count": 48,
   "id": "c1f1d5f5",
   "metadata": {},
   "outputs": [
    {
     "data": {
      "image/png": "[encoded data removed]",
      "text/plain": [
       "<Figure size 1200x600 with 1 Axes>"
      ]
     },
     "metadata": {},
     "output_type": "display_data"
    }
   ],
   "source": [
    "# Flatten all biomarkers and count frequency\n",
    "all_biomarkers = [b for sublist in df[\"biomarkers\"] for b in sublist]\n",
    "biomarker_counts = Counter(all_biomarkers)\n",
    "\n",
    "# Select top 10 biomarkers\n",
    "top10_biomarkers = [b for b, _ in biomarker_counts.most_common(10)]\n",
    "\n",
    "# Collect biomarker counts per query type, restricted to top 10\n",
    "biomarker_by_label = {}\n",
    "for label in df[\"label\"].unique():\n",
    "    biomarkers = [b for sublist in df[df[\"label\"] == label][\"biomarkers\"] for b in sublist]\n",
    "    counts = Counter(biomarkers)\n",
    "    biomarker_by_label[label] = {b: counts[b] for b in top10_biomarkers}\n",
    "\n",
    "# Prepare data for grouped bar plot\n",
    "labels = list(biomarker_by_label.keys())\n",
    "x = np.arange(len(top10_biomarkers))  # positions for biomarkers\n",
    "width = 0.2  # width of each bar\n",
    "\n",
    "plt.figure(figsize=(12, 6))\n",
    "\n",
    "for i, label in enumerate(labels):\n",
    "    counts = [biomarker_by_label[label][b] for b in top10_biomarkers]\n",
    "    plt.bar(x + i*width, counts, width, label=label)\n",
    "\n",
    "# Formatting\n",
    "plt.xticks(x + width, top10_biomarkers, rotation=45, ha=\"right\")\n",
    "plt.ylabel(\"Count\")\n",
    "plt.title(\"Top 10 Biomarkers by Query Type\")\n",
    "plt.legend(title=\"Query Type\")\n",
    "plt.tight_layout()\n",
    "plt.show()\n"
   ]
  },
  {
   "cell_type": "markdown",
   "id": "2bdcf68a",
   "metadata": {},
   "source": [
    "#### Clinical Data Preprocessing\n",
    "##### **Engineered for clinical safety and RAG integration**\n"
   ]
  },
  {
   "cell_type": "code",
   "execution_count": 49,
   "id": "bb68662b",
   "metadata": {},
   "outputs": [
    {
     "data": {
      "text/html": [
       "<div>\n",
       "<style scoped>\n",
       "    .dataframe tbody tr th:only-of-type {\n",
       "        vertical-align: middle;\n",
       "    }\n",
       "\n",
       "    .dataframe tbody tr th {\n",
       "        vertical-align: top;\n",
       "    }\n",
       "\n",
       "    .dataframe thead th {\n",
       "        text-align: right;\n",
       "    }\n",
       "</style>\n",
       "<table border=\"1\" class=\"dataframe\">\n",
       "  <thead>\n",
       "    <tr style=\"text-align: right;\">\n",
       "      <th></th>\n",
       "      <th>id</th>\n",
       "      <th>query</th>\n",
       "      <th>label</th>\n",
       "      <th>complexity</th>\n",
       "      <th>recommended_llm</th>\n",
       "      <th>needs_followup</th>\n",
       "      <th>distractor_label</th>\n",
       "      <th>biomarkers</th>\n",
       "      <th>is_high_risk</th>\n",
       "    </tr>\n",
       "  </thead>\n",
       "  <tbody>\n",
       "    <tr>\n",
       "      <th>0</th>\n",
       "      <td>1</td>\n",
       "      <td>Compare the vitamin C content in fresh vs froz...</td>\n",
       "      <td>comparison</td>\n",
       "      <td>2</td>\n",
       "      <td>TinyLlama</td>\n",
       "      <td>True</td>\n",
       "      <td>NaN</td>\n",
       "      <td>[vitamin_c]</td>\n",
       "      <td>False</td>\n",
       "    </tr>\n",
       "    <tr>\n",
       "      <th>1</th>\n",
       "      <td>2</td>\n",
       "      <td>Which has lower phytate: unfermented ogi or so...</td>\n",
       "      <td>comparison</td>\n",
       "      <td>4</td>\n",
       "      <td>Mistral</td>\n",
       "      <td>True</td>\n",
       "      <td>NaN</td>\n",
       "      <td>[phytate]</td>\n",
       "      <td>False</td>\n",
       "    </tr>\n",
       "    <tr>\n",
       "      <th>2</th>\n",
       "      <td>3</td>\n",
       "      <td>How much zinc should a 3-year-old child with c...</td>\n",
       "      <td>recommendation</td>\n",
       "      <td>5</td>\n",
       "      <td>Mistral</td>\n",
       "      <td>True</td>\n",
       "      <td>NaN</td>\n",
       "      <td>[zinc]</td>\n",
       "      <td>True</td>\n",
       "    </tr>\n",
       "    <tr>\n",
       "      <th>3</th>\n",
       "      <td>4</td>\n",
       "      <td>What foods should I eat if I have CKD stage 3 ...</td>\n",
       "      <td>therapy</td>\n",
       "      <td>5</td>\n",
       "      <td>Mistral</td>\n",
       "      <td>False</td>\n",
       "      <td>NaN</td>\n",
       "      <td>[creatinine]</td>\n",
       "      <td>True</td>\n",
       "    </tr>\n",
       "    <tr>\n",
       "      <th>4</th>\n",
       "      <td>5</td>\n",
       "      <td>Explain how vitamin K helps with blood clotting</td>\n",
       "      <td>general</td>\n",
       "      <td>4</td>\n",
       "      <td>Mistral</td>\n",
       "      <td>False</td>\n",
       "      <td>NaN</td>\n",
       "      <td>[vitamin_k]</td>\n",
       "      <td>False</td>\n",
       "    </tr>\n",
       "    <tr>\n",
       "      <th>5</th>\n",
       "      <td>6</td>\n",
       "      <td>Compare protein quality of cowpea vs bambara n...</td>\n",
       "      <td>comparison</td>\n",
       "      <td>3</td>\n",
       "      <td>TinyLlama</td>\n",
       "      <td>True</td>\n",
       "      <td>NaN</td>\n",
       "      <td>[protein]</td>\n",
       "      <td>False</td>\n",
       "    </tr>\n",
       "    <tr>\n",
       "      <th>6</th>\n",
       "      <td>7</td>\n",
       "      <td>What's the recommended daily fiber intake for ...</td>\n",
       "      <td>recommendation</td>\n",
       "      <td>3</td>\n",
       "      <td>Mistral</td>\n",
       "      <td>True</td>\n",
       "      <td>NaN</td>\n",
       "      <td>[]</td>\n",
       "      <td>False</td>\n",
       "    </tr>\n",
       "  </tbody>\n",
       "</table>\n",
       "</div>"
      ],
      "text/plain": [
       "   id                                              query           label  \\\n",
       "0   1  Compare the vitamin C content in fresh vs froz...      comparison   \n",
       "1   2  Which has lower phytate: unfermented ogi or so...      comparison   \n",
       "2   3  How much zinc should a 3-year-old child with c...  recommendation   \n",
       "3   4  What foods should I eat if I have CKD stage 3 ...         therapy   \n",
       "4   5    Explain how vitamin K helps with blood clotting         general   \n",
       "5   6  Compare protein quality of cowpea vs bambara n...      comparison   \n",
       "6   7  What's the recommended daily fiber intake for ...  recommendation   \n",
       "\n",
       "   complexity recommended_llm  needs_followup distractor_label    biomarkers  \\\n",
       "0           2       TinyLlama            True              NaN   [vitamin_c]   \n",
       "1           4         Mistral            True              NaN     [phytate]   \n",
       "2           5         Mistral            True              NaN        [zinc]   \n",
       "3           5         Mistral           False              NaN  [creatinine]   \n",
       "4           4         Mistral           False              NaN   [vitamin_k]   \n",
       "5           3       TinyLlama            True              NaN     [protein]   \n",
       "6           3         Mistral            True              NaN            []   \n",
       "\n",
       "   is_high_risk  \n",
       "0         False  \n",
       "1         False  \n",
       "2          True  \n",
       "3          True  \n",
       "4         False  \n",
       "5         False  \n",
       "6         False  "
      ]
     },
     "execution_count": 49,
     "metadata": {},
     "output_type": "execute_result"
    }
   ],
   "source": [
    "df.head(7)"
   ]
  },
  {
   "cell_type": "markdown",
   "id": "182b6a34",
   "metadata": {},
   "source": [
    "#### Adding Clinal Metadata(Biomarkers + High-Risk Flagging)"
   ]
  },
  {
   "cell_type": "code",
   "execution_count": null,
   "id": "bdda0b88",
   "metadata": {},
   "outputs": [
    {
     "name": "stderr",
     "output_type": "stream",
     "text": [
      "INFO:__main__:✅ Clinical metadata added: biomarkers, is_high_risk\n",
      "INFO:__main__:✅ BIOMARKERS defined for tokenization: ['creatinine', 'HbA1c', 'ferritin', 'urea', 'albumin', 'glucose', 'zinc', 'iron', 'protein', 'fiber', 'calcium', 'phytate', 'potassium', 'sodium', 'magnesium', 'phosphorus', 'cholesterol', 'triglycerides', 'bilirubin', 'vitamin B12', 'vitamin C', 'vitamin A', 'vitamin D', 'vitamin K']\n",
      "INFO:__main__:Train/Test split completed with stratification\n",
      "INFO:__main__:Train size: 3280, Test size: 820\n",
      "INFO:__main__:Therapy in test: 25.1%\n",
      "INFO:__main__:High-risk in test: 16.7%\n"
     ]
    }
   ],
   "source": [
    "# --- Update biomarker patterns and BIOMARKERS list for vitamin B12 support ---\n",
    "\n",
    "import re\n",
    "import pandas as pd\n",
    "import numpy as np\n",
    "from sklearn.model_selection import train_test_split\n",
    "import logging\n",
    "\n",
    "# Set up logger\n",
    "logger = logging.getLogger(__name__)\n",
    "logging.basicConfig(level=logging.INFO)\n",
    "\n",
    "# ========================================\n",
    "# 1. Add Clinical Metadata (Biomarkers + High-Risk Flag)\n",
    "# ========================================\n",
    "def add_clinical_metadata(df: pd.DataFrame) -> pd.DataFrame:\n",
    "    \"\"\"\n",
    "    Enhance dataset with clinical + nutrient safety metadata:\n",
    "    - biomarkers: list[str] of detected biomarker names in the query\n",
    "    - is_high_risk: bool flag for (label == therapy) & (complexity >= 4)\n",
    "    \"\"\"\n",
    "    # Ensure required cols exist\n",
    "    assert 'query' in df.columns, \"'query' column missing\"\n",
    "    assert 'label' in df.columns, \"'label' column missing\"\n",
    "    assert 'complexity' in df.columns, \"'complexity' column missing\"\n",
    "\n",
    "    df = df.copy()\n",
    "    ////////////////////\n",
    "    df['biomarkers'] = [[] for _ in range(len(df))]  # independent lists\n",
    "\n",
    "    # Biomarker patterns (with synonyms/aliases)\n",
    "    biomarker_patterns = {\n",
    "        # ---- Clinical ----\n",
    "        'creatinine':   r'creatinine',\n",
    "        'hba1c':        r'\\bHbA1c\\b',\n",
    "        'ferritin':     r'\\bferritin\\b',\n",
    "        'urea':         r'\\burea\\b',\n",
    "        'fbs':          r'(?:FBS|fasting blood sugar|fasting glucose)',\n",
    "        'bp':           r'(?:blood pressure|BP)\\s*\\d{2,3}/\\d{2,3}',\n",
    "\n",
    "        # ---- Nutrient Biomarkers with aliases ----\n",
    "        'vitamin_b12':  r'(?:vitamin\\s*B12|cobalamin)',\n",
    "        'vitamin_c':    r'(?:vitamin\\s*C|ascorbic acid)',\n",
    "        'vitamin_a':    r'(?:vitamin\\s*A|retinol)',\n",
    "        'vitamin_d':    r'(?:vitamin\\s*D|cholecalciferol|ergocalciferol)',\n",
    "        'vitamin_k':    r'(?:vitamin\\s*K|phylloquinone|menaquinone)',\n",
    "        'zinc':         r'\\bzinc\\b',\n",
    "        'iron':         r'\\biron\\b',\n",
    "        'protein':      r'\\bprotein\\b',\n",
    "        'fiber':        r'\\bfiber\\b',\n",
    "        'calcium':      r'\\bcalcium\\b',\n",
    "        'phytate':      r'\\bphytate\\b',\n",
    "        'potassium':    r'\\bpotassium\\b',\n",
    "        'sodium':       r'\\bsodium\\b',\n",
    "        'magnesium':    r'\\bmagnesium\\b',\n",
    "        'phosphorus':   r'\\bphosphorus\\b',\n",
    "        'cholesterol':  r'\\bcholesterol\\b',\n",
    "        'triglycerides':r'\\btriglycerides?\\b',\n",
    "        'glucose':      r'\\bglucose\\b',\n",
    "        'albumin':      r'(?:\\balbumin\\b|albuminuria)',\n",
    "        'bilirubin':    r'\\bbilirubin\\b',\n",
    "    }\n",
    "\n",
    "    # Detect presence of biomarkers\n",
    "    for name, pattern in biomarker_patterns.items():\n",
    "        mask = df['query'].str.contains(pattern, case=False, regex=True, na=False)\n",
    "        df.loc[mask, 'biomarkers'] = df.loc[mask, 'biomarkers'].apply(lambda lst: lst + [name])\n",
    "\n",
    "    # High-risk flag\n",
    "    df['is_high_risk'] = (df['label'].str.lower() == 'therapy') & (df['complexity'] >= 4)\n",
    "\n",
    "    return df\n",
    "\n",
    "# Apply metadata\n",
    "df = add_clinical_metadata(df)\n",
    "logger.info(\"✅ Clinical metadata added: biomarkers, is_high_risk\")\n",
    "\n",
    "# ========================================\n",
    "# 2. Define BIOMARKERS List for Tokenization\n",
    "# ========================================\n",
    "# Canonical names for regex matching in biomarker-aware tokenization\n",
    "BIOMARKERS = [\n",
    "    'creatinine', 'HbA1c', 'ferritin', 'urea',\n",
    "    'albumin', 'glucose', 'zinc', 'iron', 'protein', 'fiber',\n",
    "    'calcium', 'phytate', 'potassium', 'sodium', 'magnesium',\n",
    "    'phosphorus', 'cholesterol', 'triglycerides', 'bilirubin',\n",
    "    'vitamin B12', 'vitamin C', 'vitamin A', 'vitamin D', 'vitamin K'\n",
    "]\n",
    "\n",
    "logger.info(f\"✅ BIOMARKERS defined for tokenization: {BIOMARKERS}\")\n",
    "\n",
    "# ========================================\n",
    "# 3. Simple, Safe Train/Test Split\n",
    "# ========================================\n",
    "def clinical_pipeline(df: pd.DataFrame, test_size: float = 0.2, random_state: int = 42):\n",
    "    \"\"\"\n",
    "    Simple stratified split on label + high-risk status.\n",
    "    Avoids over-engineering and data leakage.\n",
    "    \"\"\"\n",
    "    df = df.copy()\n",
    "\n",
    "    # Stratify on label and high-risk\n",
    "    stratify_key = df['label'].astype(str) + \"__\" + df['is_high_risk'].astype(str)\n",
    "\n",
    "    train_df, test_df = train_test_split(\n",
    "        df,\n",
    "        test_size=test_size,\n",
    "        stratify=stratify_key,\n",
    "        random_state=random_state\n",
    "    )\n",
    "\n",
    "    logger.info(\"Train/Test split completed with stratification\")\n",
    "    logger.info(f\"Train size: {len(train_df)}, Test size: {len(test_df)}\")\n",
    "    logger.info(f\"Therapy in test: {(test_df['label'] == 'therapy').mean():.1%}\")\n",
    "    logger.info(f\"High-risk in test: {test_df['is_high_risk'].mean():.1%}\")\n",
    "\n",
    "    return train_df.reset_index(drop=True), test_df.reset_index(drop=True)\n",
    "\n",
    "# Run split\n",
    "train_df, test_df = clinical_pipeline(df, test_size=0.2, random_state=42)"
   ]
  },
  {
   "cell_type": "code",
   "execution_count": 94,
   "id": "e4e4086a",
   "metadata": {},
   "outputs": [
    {
     "name": "stdout",
     "output_type": "stream",
     "text": [
      "Label distribution in train_df:\n",
      "label\n",
      "recommendation    0.300610\n",
      "therapy           0.251524\n",
      "comparison        0.241159\n",
      "general           0.206707\n",
      "Name: proportion, dtype: float64\n",
      "\n",
      "Label distribution in test_df:\n",
      "label\n",
      "recommendation    0.300000\n",
      "therapy           0.251220\n",
      "comparison        0.241463\n",
      "general           0.207317\n",
      "Name: proportion, dtype: float64\n"
     ]
    }
   ],
   "source": [
    "# Checking label distribution in train and test sets\n",
    "print(\"Label distribution in train_df:\")\n",
    "print(train_df['label'].value_counts(normalize=True))\n",
    "\n",
    "print(\"\\nLabel distribution in test_df:\")\n",
    "print(test_df['label'].value_counts(normalize=True))"
   ]
  },
  {
   "cell_type": "code",
   "execution_count": 95,
   "id": "7c105332",
   "metadata": {},
   "outputs": [
    {
     "name": "stdout",
     "output_type": "stream",
     "text": [
      "Sample queries with biomarkers:\n",
      "                                               query   biomarkers  \\\n",
      "0  Compare the vitamin C content in fresh vs froz...  [vitamin_c]   \n",
      "1  Which has lower phytate: unfermented ogi or so...    [phytate]   \n",
      "2  How much zinc should a 3-year-old child with c...       [zinc]   \n",
      "\n",
      "            label  complexity  is_high_risk  \n",
      "0      comparison           2         False  \n",
      "1      comparison           4         False  \n",
      "2  recommendation           5         False  \n",
      "\n",
      "Train size: 3280, Test size: 820\n",
      "Therapy in test: 25.1%\n",
      "High-risk in test: 16.7%\n"
     ]
    }
   ],
   "source": [
    "# Check a few rows\n",
    "print(\"Sample queries with biomarkers:\")\n",
    "print(df[['query', 'biomarkers', 'label', 'complexity', 'is_high_risk']].head(3))\n",
    "\n",
    "# Check split sizes\n",
    "print(f\"\\nTrain size: {len(train_df)}, Test size: {len(test_df)}\")\n",
    "\n",
    "# Check therapy and high-risk distribution\n",
    "print(f\"Therapy in test: {(test_df['label'] == 'therapy').mean():.1%}\")\n",
    "print(f\"High-risk in test: {test_df['is_high_risk'].mean():.1%}\")"
   ]
  },
  {
   "cell_type": "code",
   "execution_count": 96,
   "id": "d73f7001",
   "metadata": {},
   "outputs": [
    {
     "name": "stderr",
     "output_type": "stream",
     "text": [
      "INFO:__main__:Added clinical meta 683 high-risk queries identified\n"
     ]
    }
   ],
   "source": [
    "df = add_clinical_metadata(df)\n",
    "logger.info(f\"Added clinical meta {sum(df['is_high_risk'])} high-risk queries identified\")\n"
   ]
  },
  {
   "cell_type": "code",
   "execution_count": 97,
   "id": "77bded0d",
   "metadata": {},
   "outputs": [],
   "source": [
    "import re\n",
    "import pandas as pd\n",
    "import numpy as np\n",
    "from sklearn.model_selection import train_test_split\n",
    "import logging\n",
    "\n",
    "logger = logging.getLogger(__name__)\n",
    "logging.basicConfig(level=logging.INFO)\n",
    "\n",
    "def clinical_pipeline(df: pd.DataFrame,\n",
    "                      test_size: float = 0.2,\n",
    "                      therapy_weight: float = 1.5,\n",
    "                      high_risk_min_complexity: int = 4,\n",
    "                      random_state: int = 42) -> tuple[pd.DataFrame, pd.DataFrame]:\n",
    "    \"\"\"\n",
    "    Simple, robust pipeline for clinical nutrition queries.\n",
    "    \n",
    "    Steps:\n",
    "    1. Extract key biomarkers (clean, precise patterns)\n",
    "    2. Flag high-risk queries (therapy + high complexity)\n",
    "    3. Stratified train/test split on label + high-risk\n",
    "    4. Optional: upweight therapy/high-risk in training\n",
    "    \n",
    "    Returns: train_df, test_df\n",
    "    \"\"\"\n",
    "    df = df.copy()\n",
    "    \n",
    "    # ==============================\n",
    "    # 1. Clean Biomarker Extraction\n",
    "    # ==============================\n",
    "    # Focus on precise, high-signal biomarkers\n",
    "    biomarkers = [\n",
    "        'creatinine', 'HbA1c', 'ferritin', 'urea', 'albumin',\n",
    "        'glucose', 'zinc', 'iron', 'protein', 'fiber',\n",
    "        'calcium', 'phytate', 'potassium', 'sodium', 'magnesium',\n",
    "        'phosphorus', 'cholesterol', 'triglycerides', 'bilirubin',\n",
    "        'vitamin C', 'vitamin A', 'vitamin D', 'vitamin K'\n",
    "    ]\n",
    "    \n",
    "    def extract_biomarkers(text: str) -> list:\n",
    "        found = []\n",
    "        text_lower = text.lower()\n",
    "        for bm in biomarkers:\n",
    "            if bm.lower() in text_lower:\n",
    "                found.append(bm.lower())\n",
    "        return sorted(set(found))\n",
    "    \n",
    "    df['biomarkers'] = df['query'].astype(str).apply(extract_biomarkers)\n",
    "    df['has_biomarker'] = df['biomarkers'].apply(lambda x: len(x) > 0)\n",
    "\n",
    "    # ==============================\n",
    "    # 2. High-Risk Query Detection\n",
    "    # ==============================\n",
    "    df['is_high_risk'] = (df['label'] == 'therapy') & (df['complexity'] >= high_risk_min_complexity)\n",
    "    logger.info(f\"High-risk queries: {df['is_high_risk'].mean():.1%}\")\n",
    "\n",
    "    # ==============================\n",
    "    # 3. Stratified Train/Test Split\n",
    "    # ==============================\n",
    "    # Stratify on both label and high-risk status\n",
    "    stratify_cols = df[['label', 'is_high_risk']].apply(\n",
    "        lambda x: f\"{x['label']}__{'high_risk' if x['is_high_risk'] else 'low_risk'}\", axis=1\n",
    "    )\n",
    "\n",
    "    train_df, test_df = train_test_split(\n",
    "        df,\n",
    "        test_size=test_size,\n",
    "        stratify=stratify_cols,\n",
    "        random_state=random_state\n",
    "    )\n",
    "\n",
    "    logger.info(\"Train/Test split completed with stratification\")\n",
    "    logger.info(f\"Train size: {len(train_df)}, Test size: {len(test_df)}\")\n",
    "    logger.info(f\"Therapy in test: {(test_df['label'] == 'therapy').mean():.1%}\")\n",
    "    logger.info(f\"High-risk in test: {test_df['is_high_risk'].mean():.1%}\")\n",
    "\n",
    "    # ==============================\n",
    "    # 4. Optional: Upweight High-Risk in Training\n",
    "    # ==============================\n",
    "    if therapy_weight > 1.0:\n",
    "        high_risk_train = train_df[train_df['is_high_risk']]\n",
    "        num_to_add = int(len(high_risk_train) * (therapy_weight - 1.0))\n",
    "        \n",
    "        if num_to_add > 0:\n",
    "            sampled = high_risk_train.sample(n=num_to_add, replace=True, random_state=random_state)\n",
    "            train_df = pd.concat([train_df, sampled], ignore_index=True)\n",
    "            logger.info(f\" Upweighted high-risk queries: +{num_to_add} samples\")\n",
    "\n",
    "    # Reset index\n",
    "    train_df = train_df.reset_index(drop=True)\n",
    "    test_df = test_df.reset_index(drop=True)\n",
    "\n",
    "    return train_df, test_df"
   ]
  },
  {
   "cell_type": "code",
   "execution_count": 98,
   "id": "3b8273ec",
   "metadata": {},
   "outputs": [
    {
     "name": "stderr",
     "output_type": "stream",
     "text": [
      "INFO:__main__:High-risk queries: 16.7%\n",
      "INFO:__main__:Train/Test split completed with stratification\n",
      "INFO:__main__:Train size: 3280, Test size: 820\n",
      "INFO:__main__:Therapy in test: 25.1%\n",
      "INFO:__main__:High-risk in test: 16.7%\n",
      "INFO:__main__: Upweighted high-risk queries: +273 samples\n",
      "INFO:__main__:Processed train and test sets saved as CSV files.\n"
     ]
    }
   ],
   "source": [
    "# Run the pipeline\n",
    "train_df, test_df = clinical_pipeline(df)\n",
    "\n",
    "# -----------------------------\n",
    "# Save to CSV\n",
    "# -----------------------------\n",
    "train_df.to_csv(\"train_processed.csv\", index=False)\n",
    "test_df.to_csv(\"test_processed.csv\", index=False)\n",
    "logger.info(\"Processed train and test sets saved as CSV files.\")\n"
   ]
  },
  {
   "cell_type": "code",
   "execution_count": 99,
   "id": "a1712c62",
   "metadata": {},
   "outputs": [
    {
     "name": "stdout",
     "output_type": "stream",
     "text": [
      "🔍 Train Set Info:\n",
      "Size: 3553\n",
      "Therapy queries: 30.9%\n",
      "High-risk queries: 23.1%\n",
      "Has biomarker: 65.8%\n",
      "\n",
      "🔍 Test Set Info:\n",
      "Size: 820\n",
      "Therapy queries: 25.1%\n",
      "High-risk queries: 16.7%\n",
      "Has biomarker: 69.5%\n",
      "\n",
      "📌 Example high-risk query:\n",
      "Query: Diet plan for type 2 diabetes with HbA1c 8.5% and on metformin\n",
      "Label: therapy, Complexity: 5, Biomarkers: ['hba1c']\n"
     ]
    }
   ],
   "source": [
    "# Check train set\n",
    "print(\"🔍 Train Set Info:\")\n",
    "print(f\"Size: {len(train_df)}\")\n",
    "print(f\"Therapy queries: {(train_df['label'] == 'therapy').mean():.1%}\")\n",
    "print(f\"High-risk queries: {train_df['is_high_risk'].mean():.1%}\")\n",
    "print(f\"Has biomarker: {train_df['has_biomarker'].mean():.1%}\")\n",
    "\n",
    "# Check test set\n",
    "print(\"\\n🔍 Test Set Info:\")\n",
    "print(f\"Size: {len(test_df)}\")\n",
    "print(f\"Therapy queries: {(test_df['label'] == 'therapy').mean():.1%}\")\n",
    "print(f\"High-risk queries: {test_df['is_high_risk'].mean():.1%}\")\n",
    "print(f\"Has biomarker: {test_df['has_biomarker'].mean():.1%}\")\n",
    "\n",
    "# Sample a high-risk therapy query\n",
    "print(\"\\n📌 Example high-risk query:\")\n",
    "high_risk_sample = test_df[(test_df['label'] == 'therapy') & (test_df['complexity'] >= 4)].iloc[0]\n",
    "print(f\"Query: {high_risk_sample['query']}\")\n",
    "print(f\"Label: {high_risk_sample['label']}, Complexity: {high_risk_sample['complexity']}, Biomarkers: {high_risk_sample['biomarkers']}\")"
   ]
  },
  {
   "cell_type": "markdown",
   "id": "9ad007c7",
   "metadata": {},
   "source": [
    "3.3 Biomarker-Aware Tokenization"
   ]
  },
  {
   "cell_type": "code",
   "execution_count": 100,
   "id": "c0c29eb4",
   "metadata": {},
   "outputs": [],
   "source": [
    "class NutritionQueryDataset(Dataset):\n",
    "    def __init__(self, dataframe, tokenizer, label2id, max_len=128):\n",
    "        self.data = dataframe.reset_index(drop=True)\n",
    "        self.tokenizer = tokenizer\n",
    "        self.label2id = label2id\n",
    "        self.max_len = max_len\n",
    "\n",
    "    def __len__(self):\n",
    "        return len(self.data)\n",
    "\n",
    "    def __getitem__(self, idx):\n",
    "        row = self.data.iloc[idx]\n",
    "        text = str(row[\"query\"])\n",
    "        label = row[\"label\"]\n",
    "        complexity = int(row[\"complexity\"])\n",
    "        needs_followup = bool(row[\"needs_followup\"])\n",
    "        label_id = self.label2id[label]\n",
    "\n",
    "        # Apply biomarker-aware preprocessing\n",
    "        modified_text = text\n",
    "        for bm in BIOMARKERS:\n",
    "            # Fixed: Use whitespace boundaries, not \\b (which breaks on HbA1c)\n",
    "            left = r'(^|\\s)'\n",
    "            escaped_bm = re.escape(bm)\n",
    "            value = r'(?:\\s*[\\d.,]+\\s*\\%)?'  # Optional value with %\n",
    "            right = r'(?=\\s|$)'\n",
    "            pattern = left + escaped_bm + value + right\n",
    "\n",
    "            # Fixed: Use raw string r'\\g<0>', not '\\\\g<0>'\n",
    "            modified_text = re.sub(\n",
    "                pattern,\n",
    "                r'\\g<1>[BIOMARKER]\\g<0>[/BIOMARKER]',  # \\g<1> = leading space, \\g<0> = full match\n",
    "                modified_text,\n",
    "                flags=re.IGNORECASE\n",
    "            )\n",
    "\n",
    "        # Tokenize\n",
    "        encoding = self.tokenizer(\n",
    "            modified_text,\n",
    "            truncation=True,\n",
    "            padding='max_length',\n",
    "            max_length=self.max_len,\n",
    "            return_tensors=None\n",
    "        )\n",
    "\n",
    "        return {\n",
    "            'input_ids': torch.tensor(encoding['input_ids'], dtype=torch.long),\n",
    "            'attention_mask': torch.tensor(encoding['attention_mask'], dtype=torch.long),\n",
    "            'labels': torch.tensor(label_id, dtype=torch.long),\n",
    "            'complexity': torch.tensor(complexity, dtype=torch.long),\n",
    "            'needs_followup': torch.tensor(needs_followup, dtype=torch.bool)\n",
    "        }"
   ]
  },
  {
   "cell_type": "code",
   "execution_count": 101,
   "id": "1b73ce08",
   "metadata": {},
   "outputs": [],
   "source": [
    "# ========================================\n",
    "# DEFINE CUSTOM MODEL CLASS\n",
    "# ========================================\n",
    "from transformers import DistilBertForSequenceClassification\n",
    "import torch\n",
    "\n",
    "class ClinicalDistilBert(DistilBertForSequenceClassification):\n",
    "    def __init__(self, config):\n",
    "        super().__init__(config)\n",
    "        self.config.id2label = config.id2label\n",
    "        self.config.label2id = config.label2id\n",
    "        \n",
    "        # Complexity head (1–5 scale → 5 classes)\n",
    "        self.complexity_head = torch.nn.Sequential(\n",
    "            torch.nn.Linear(config.hidden_size, 128),\n",
    "            torch.nn.ReLU(),\n",
    "            torch.nn.Dropout(0.1),\n",
    "            torch.nn.Linear(128, 5)\n",
    "        )\n",
    "        \n",
    "        # Follow-up head (binary)\n",
    "        self.followup_head = torch.nn.Sequential(\n",
    "            torch.nn.Linear(config.hidden_size, 64),\n",
    "            torch.nn.ReLU(),\n",
    "            torch.nn.Dropout(0.1),\n",
    "            torch.nn.Linear(64, 1),\n",
    "            torch.nn.Sigmoid()\n",
    "        )\n",
    "\n",
    "    def forward(self,\n",
    "                input_ids=None,\n",
    "                attention_mask=None,\n",
    "                labels=None,\n",
    "                complexity=None,\n",
    "                needs_followup=None,\n",
    "                **kwargs):\n",
    "        \n",
    "        # Base forward pass\n",
    "        outputs = super().forward(\n",
    "            input_ids=input_ids,\n",
    "            attention_mask=attention_mask,\n",
    "            labels=labels,\n",
    "            return_dict=True,\n",
    "            output_hidden_states=True\n",
    "        )\n",
    "        \n",
    "        # Extract CLS token\n",
    "        hidden_states = outputs.hidden_states\n",
    "        pooled_output = hidden_states[-1][:, 0]  # [batch, hidden_size]\n",
    "        \n",
    "        # Auxiliary outputs\n",
    "        complexity_logits = self.complexity_head(pooled_output)  # [batch, 5]\n",
    "        followup_logits = self.followup_head(pooled_output).squeeze(-1)  # [batch]\n",
    "\n",
    "        # Start with base loss\n",
    "        total_loss = outputs.loss\n",
    "\n",
    "        # Only add auxiliary losses if labels are provided\n",
    "        if labels is not None:\n",
    "            # === Complexity Loss ===\n",
    "            if complexity is not None:\n",
    "                complexity_target = (complexity - 1).long()  # 1–5 → 0–4\n",
    "                complexity_loss = torch.nn.CrossEntropyLoss()(complexity_logits, complexity_target)\n",
    "                total_loss = total_loss + 0.2 * complexity_loss\n",
    "\n",
    "            # === Follow-up Loss ===\n",
    "            if needs_followup is not None:\n",
    "                followup_target = needs_followup.float()\n",
    "                followup_loss = torch.nn.BCELoss()(followup_logits, followup_target)\n",
    "                total_loss = total_loss + 0.1 * followup_loss\n",
    "\n",
    "            # === High-Risk Query Weighting ===\n",
    "            high_risk_mask = (labels == 2) & (complexity >= 4)  # therapy + high complexity\n",
    "            if high_risk_mask.any():\n",
    "                per_sample_loss = torch.tensor([total_loss.item()] * labels.size(0), \n",
    "                                             device=labels.device, requires_grad=True)\n",
    "                weights = torch.ones_like(per_sample_loss)\n",
    "                weights[high_risk_mask] = 3.0\n",
    "                total_loss = (per_sample_loss * weights).mean()\n",
    "\n",
    "        return {\n",
    "            'loss': total_loss,\n",
    "            'logits': outputs.logits,\n",
    "            'complexity_logits': complexity_logits,\n",
    "            'followup_logits': followup_logits\n",
    "        }"
   ]
  },
  {
   "cell_type": "code",
   "execution_count": 102,
   "id": "db9be395",
   "metadata": {},
   "outputs": [
    {
     "name": "stdout",
     "output_type": "stream",
     "text": [
      "🔁 Resized model embeddings to 30532\n",
      "✅ Tokenizer saved to ../models/distilbert-clinical-v4\n",
      "✅ Model saved to ../models/distilbert-clinical-v4\n",
      "Label mapping: {'comparison': 0, 'recommendation': 1, 'therapy': 2, 'general': 3}\n",
      "✅ Datasets created with biomarker-aware tokenization\n"
     ]
    }
   ],
   "source": [
    "import os\n",
    "from transformers import AutoTokenizer, AutoConfig\n",
    "\n",
    "# ========================================\n",
    "# 1. Load Tokenizer from Your Local Model\n",
    "# ========================================\n",
    "local_model_path = r\"../models/distilbert-clinical-v1-final/checkpoint-892\"\n",
    "\n",
    "# Load tokenizer\n",
    "tokenizer = AutoTokenizer.from_pretrained(local_model_path)\n",
    "\n",
    "# ========================================\n",
    "# 2. Add Custom Tokens\n",
    "# ========================================\n",
    "new_tokens = [\n",
    "    '[BIOMARKER]', '[/BIOMARKER]',\n",
    "    'HbA1c', '%', 'mg/dL', '1.2', '8.5',\n",
    "    'mmol/L', 'ng/mL', 'g/dL', 'mEq/L'\n",
    "]\n",
    "\n",
    "num_added = tokenizer.add_tokens(new_tokens)\n",
    "if num_added > 0:\n",
    "    print(f\"✅ Added {num_added} new tokens: {new_tokens}\")\n",
    "\n",
    "# ========================================\n",
    "# 3. Load Model Config and Custom Model\n",
    "# ========================================\n",
    "# Load config\n",
    "config = AutoConfig.from_pretrained(local_model_path)\n",
    "config.num_labels = 4\n",
    "config.id2label = {0: \"comparison\", 1: \"recommendation\", 2: \"therapy\", 3: \"general\"}\n",
    "config.label2id = {\"comparison\": 0, \"recommendation\": 1, \"therapy\": 2, \"general\": 3}\n",
    "\n",
    "# Load your custom model\n",
    "model = ClinicalDistilBert.from_pretrained(\n",
    "    local_model_path,\n",
    "    config=config,\n",
    "    ignore_mismatched_sizes=True  # Needed if you added tokens\n",
    ")\n",
    "\n",
    "# ========================================\n",
    "# 4. Resize Embeddings\n",
    "# ========================================\n",
    "model.resize_token_embeddings(len(tokenizer))\n",
    "print(f\"🔁 Resized model embeddings to {len(tokenizer)}\")\n",
    "\n",
    "# ========================================\n",
    "# 5. Save to NEW Directory (Critical!)\n",
    "# ========================================\n",
    "save_path = \"../models/distilbert-clinical-v4\"\n",
    "os.makedirs(save_path, exist_ok=True)\n",
    "\n",
    "# Save tokenizer\n",
    "tokenizer.save_pretrained(save_path)\n",
    "print(f\"✅ Tokenizer saved to {save_path}\")\n",
    "\n",
    "# Save model\n",
    "model.save_pretrained(save_path)\n",
    "print(f\"✅ Model saved to {save_path}\")\n",
    "\n",
    "# ========================================\n",
    "# 6. Define BIOMARKERS List\n",
    "# ========================================\n",
    "BIOMARKERS = [\n",
    "    'creatinine', 'HbA1c', 'ferritin', 'urea',\n",
    "    'albumin', 'glucose', 'zinc', 'iron', 'protein', 'fiber',\n",
    "    'calcium', 'phytate', 'potassium', 'sodium', 'magnesium',\n",
    "    'phosphorus', 'cholesterol', 'triglycerides', 'bilirubin'\n",
    "]\n",
    "\n",
    "# ========================================\n",
    "# 7. Define Label Mapping\n",
    "# ========================================\n",
    "# You must define label2id before using it in the dataset\n",
    "label2id = {\"comparison\": 0, \"recommendation\": 1, \"therapy\": 2, \"general\": 3}\n",
    "id2label = {0: \"comparison\", 1: \"recommendation\", 2: \"therapy\", 3: \"general\"}\n",
    "\n",
    "print(\"Label mapping:\", label2id)\n",
    "\n",
    "# ========================================\n",
    "# 8. Create Dataset\n",
    "# ========================================\n",
    "train_dataset = NutritionQueryDataset(train_df, tokenizer, label2id)\n",
    "test_dataset = NutritionQueryDataset(test_df, tokenizer, label2id)\n",
    "\n",
    "print(\"✅ Datasets created with biomarker-aware tokenization\")"
   ]
  },
  {
   "cell_type": "code",
   "execution_count": 103,
   "id": "a2a5c360",
   "metadata": {},
   "outputs": [
    {
     "name": "stdout",
     "output_type": "stream",
     "text": [
      "Model loaded on cpu\n",
      "Forward pass successful!\n",
      "Loss: 1.0756741762161255\n",
      "Logits shape: torch.Size([1, 4])\n"
     ]
    }
   ],
   "source": [
    "# Move model to GPU if available\n",
    "device = torch.device(\"cuda\" if torch.cuda.is_available() else \"cpu\")\n",
    "model.to(device)\n",
    "print(f\"Model loaded on {device}\")\n",
    "\n",
    "# Test one batch\n",
    "sample = train_dataset[0]\n",
    "input_ids = sample['input_ids'].unsqueeze(0).to(device)\n",
    "attention_mask = sample['attention_mask'].unsqueeze(0).to(device)\n",
    "labels = sample['labels'].unsqueeze(0).to(device)\n",
    "complexity = sample['complexity'].unsqueeze(0).to(device)\n",
    "needs_followup = sample['needs_followup'].unsqueeze(0).to(device)\n",
    "\n",
    "# Forward pass\n",
    "outputs = model(\n",
    "    input_ids=input_ids,\n",
    "    attention_mask=attention_mask,\n",
    "    labels=labels,\n",
    "    complexity=complexity,\n",
    "    needs_followup=needs_followup\n",
    ")\n",
    "\n",
    "print(\"Forward pass successful!\")\n",
    "print(\"Loss:\", outputs['loss'].item())\n",
    "print(\"Logits shape:\", outputs['logits'].shape)"
   ]
  },
  {
   "cell_type": "code",
   "execution_count": 104,
   "id": "5ad97915",
   "metadata": {},
   "outputs": [
    {
     "name": "stderr",
     "output_type": "stream",
     "text": [
      "INFO:__main__:✅ SUCCESS: Biomarker-aware tokenization is WORKING PERFECTLY!\n",
      "INFO:__main__:   - All biomarkers are correctly wrapped\n",
      "INFO:__main__:   - Values are preserved (even if tokenized with spaces)\n"
     ]
    },
    {
     "name": "stderr",
     "output_type": "stream",
     "text": [
      "INFO:__main__:   - Case-insensitive matching works\n"
     ]
    },
    {
     "name": "stdout",
     "output_type": "stream",
     "text": [
      "Final Tokenized Output:\n",
      "[CLS] patient has low [BIOMARKER] HbA1c 5. 2 % [/BIOMARKER] and elevated [BIOMARKER] ferritin [/BIOMARKER] levels. [SEP] [PAD] [PAD] [PAD] [PAD] [PAD] [PAD] [PAD] [PAD] [PAD] [PAD] [PAD] [PAD] [PAD] [PAD] [PAD] [PAD] [PAD] [PAD] [PAD] [PAD] [PAD] [PAD] [PAD] [PAD] [PAD] [PAD] [PAD] [PAD] [PAD] [PAD] [PAD] [PAD] [PAD] [PAD] [PAD] [PAD] [PAD] [PAD] [PAD] [PAD] [PAD] [PAD] [PAD] [PAD] [PAD] [PAD] [PAD] [PAD] [PAD] [PAD] [PAD] [PAD] [PAD] [PAD] [PAD] [PAD] [PAD] [PAD] [PAD] [PAD] [PAD] [PAD] [PAD] [PAD] [PAD] [PAD] [PAD] [PAD] [PAD] [PAD] [PAD] [PAD] [PAD] [PAD] [PAD] [PAD] [PAD] [PAD] [PAD] [PAD] [PAD] [PAD] [PAD] [PAD] [PAD] [PAD] [PAD] [PAD] [PAD] [PAD] [PAD] [PAD] [PAD] [PAD] [PAD] [PAD] [PAD] [PAD] [PAD] [PAD] [PAD] [PAD] [PAD] [PAD] [PAD] [PAD] [PAD]\n",
      "\n",
      "📌 Extracted Biomarker Blocks:\n",
      "  1. 'HbA1c 5. 2 %'\n",
      "  2. 'ferritin'\n"
     ]
    }
   ],
   "source": [
    "# ================================\n",
    "# 7. Verify Biomarker-Aware Tokenization\n",
    "# ================================\n",
    "\n",
    "def biomarker_aware_tokenize_single(text, biomarker_list=None, max_length=128):\n",
    "    \"\"\"\n",
    "    Tokenizes a single text string with biomarker wrapping.\n",
    "    Use this for testing/debugging.\n",
    "    \"\"\"\n",
    "    if biomarker_list is None:\n",
    "        biomarker_list = BIOMARKERS\n",
    "\n",
    "    modified_text = text\n",
    "    for bm in biomarker_list:\n",
    "        # Match: start/space + biomarker + optional value/unit + lookahead for space/end\n",
    "        left = r'(^|\\s)'                    # Start or whitespace\n",
    "        escaped_bm = re.escape(bm)          # Handle special chars in biomarker name\n",
    "        value = r'(?:\\s*[\\d.,]+\\s*\\%)?'     # Optional: space + number + % \n",
    "        right = r'(?=\\s|$)'                 # Lookahead: space or end (non-capturing)\n",
    "\n",
    "        pattern = left + escaped_bm + value + right\n",
    "\n",
    "        # Replace: preserve leading space, wrap full match\n",
    "        modified_text = re.sub(\n",
    "            pattern,\n",
    "            r'\\g<1>[BIOMARKER]\\g<0>[/BIOMARKER]',  # \\g<1> = leading space, \\g<0> = full match\n",
    "            modified_text,\n",
    "            flags=re.IGNORECASE\n",
    "        )\n",
    "\n",
    "    return tokenizer(\n",
    "        modified_text,\n",
    "        max_length=max_length,\n",
    "        truncation=True,\n",
    "        padding='max_length',\n",
    "        return_tensors='pt'\n",
    "    )\n",
    "\n",
    "# Test example: Mixed case + punctuation + values\n",
    "test_text = \"Patient has low HbA1c 5.2% and elevated FERRITIN levels.\"\n",
    "tokens = biomarker_aware_tokenize_single(test_text)\n",
    "decoded = tokenizer.decode(tokens['input_ids'][0], skip_special_tokens=False)\n",
    "\n",
    "print(\"Final Tokenized Output:\")\n",
    "print(decoded)\n",
    "\n",
    "# Extract content inside [BIOMARKER]...[/BIOMARKER]\n",
    "# Use \\s* to absorb extra spaces added by tokenizer\n",
    "biomarker_blocks = re.findall(\n",
    "    r'\\[BIOMARKER\\]\\s*(.*?)\\s*\\[/BIOMARKER\\]',\n",
    "    decoded,\n",
    "    re.IGNORECASE\n",
    ")\n",
    "\n",
    "print(\"\\n📌 Extracted Biomarker Blocks:\")\n",
    "for i, block in enumerate(biomarker_blocks):\n",
    "    print(f\"  {i+1}. '{block}'\")\n",
    "\n",
    "# ✅ Check 1: HbA1c + 5.2 + % (flexible, component-based)\n",
    "found_hba1c = False\n",
    "for block in biomarker_blocks:\n",
    "    has_hba1c = 'HbA1c' in block\n",
    "    has_5 = '5' in block\n",
    "    has_2 = '2' in block\n",
    "    has_percent = '%' in block\n",
    "    if has_hba1c and has_5 and has_2 and has_percent:\n",
    "        found_hba1c = True\n",
    "        break\n",
    "\n",
    "assert found_hba1c, \"FAILED: HbA1c or its value not preserved in any block!\"\n",
    "\n",
    "# ✅ Check 2: FERRITIN (case-insensitive)\n",
    "found_ferritin = any('ferritin' in block.lower() for block in biomarker_blocks)\n",
    "assert found_ferritin, \"FAILED: FERRITIN not wrapped in any block!\"\n",
    "\n",
    "# ✅ All checks passed\n",
    "logger.info(\"✅ SUCCESS: Biomarker-aware tokenization is WORKING PERFECTLY!\")\n",
    "logger.info(\"   - All biomarkers are correctly wrapped\")\n",
    "logger.info(\"   - Values are preserved (even if tokenized with spaces)\")\n",
    "logger.info(\"   - Case-insensitive matching works\")"
   ]
  },
  {
   "cell_type": "markdown",
   "id": "d1df0899",
   "metadata": {},
   "source": [
    "##### Clinical Safety-First Model\n",
    "##### **Engineered for high-risk query accuracy**"
   ]
  },
  {
   "cell_type": "markdown",
   "id": "a177f3ee",
   "metadata": {},
   "source": [
    "4.1 Label Mapping (Critical for clinical safety)"
   ]
  },
  {
   "cell_type": "code",
   "execution_count": 105,
   "id": "a688464b",
   "metadata": {},
   "outputs": [
    {
     "name": "stdout",
     "output_type": "stream",
     "text": [
      "✅ Trainer is ready. Classes: {0: 'comparison', 1: 'recommendation', 2: 'therapy', 3: 'general'}\n"
     ]
    },
    {
     "name": "stderr",
     "output_type": "stream",
     "text": [
      "c:\\Users\\user\\miniconda3\\envs\\nut_class_env\\lib\\site-packages\\transformers\\training_args.py:1525: FutureWarning: `evaluation_strategy` is deprecated and will be removed in version 4.46 of 🤗 Transformers. Use `eval_strategy` instead\n",
      "  warnings.warn(\n"
     ]
    }
   ],
   "source": [
    "# ====================================================\n",
    "# 5. Custom Data Collator\n",
    "# ====================================================\n",
    "def collate_fn(batch):\n",
    "    \"\"\"\n",
    "    Collate function to handle metadata like complexity and needs_followup\n",
    "    \"\"\"\n",
    "    input_ids = torch.stack([item['input_ids'] for item in batch])\n",
    "    attention_mask = torch.stack([item['attention_mask'] for item in batch])\n",
    "    labels = torch.stack([item['labels'] for item in batch])\n",
    "    complexity = torch.stack([item['complexity'] for item in batch])\n",
    "    needs_followup = torch.stack([item['needs_followup'] for item in batch])\n",
    "    \n",
    "    return {\n",
    "        'input_ids': input_ids,\n",
    "        'attention_mask': attention_mask,\n",
    "        'labels': labels,\n",
    "        'complexity': complexity,\n",
    "        'needs_followup': needs_followup\n",
    "    }\n",
    "\n",
    "# ====================================================\n",
    "# 6. Clinical Metrics\n",
    "# ====================================================\n",
    "def compute_clinical_metrics(eval_pred):\n",
    "    \"\"\"\n",
    "    Compute metrics including high-risk F1 for therapy + complexity ≥4\n",
    "    \"\"\"\n",
    "    logits, labels = eval_pred\n",
    "    \n",
    "    # If model returns tuple, take main logits\n",
    "    if isinstance(logits, (tuple, list)):\n",
    "        logits = logits[0]\n",
    "    \n",
    "    predictions = np.argmax(logits, axis=-1)\n",
    "\n",
    "    # Standard metrics\n",
    "    macro_f1 = f1_score(labels, predictions, average='macro')\n",
    "    accuracy = (predictions == labels).mean()\n",
    "\n",
    "    # High-risk mask: therapy (label=2) + complexity ≥4\n",
    "    try:\n",
    "        # Extract complexity from eval_dataset\n",
    "        complexity = np.array([test_dataset[i]['complexity'].item() for i in range(len(test_dataset))])\n",
    "        is_therapy = labels == 2\n",
    "        is_high_complexity = complexity >= 4\n",
    "        high_risk_mask = is_therapy & is_high_complexity\n",
    "\n",
    "        if high_risk_mask.sum() > 0:\n",
    "            high_risk_f1 = f1_score(\n",
    "                labels[high_risk_mask],\n",
    "                predictions[high_risk_mask],\n",
    "                average='macro',\n",
    "                zero_division=0\n",
    "            )\n",
    "        else:\n",
    "            high_risk_f1 = 0.0\n",
    "    except Exception as e:\n",
    "        print(\"Warning: Could not compute high-risk F1:\", e)\n",
    "        high_risk_f1 = 0.0\n",
    "\n",
    "    # Therapy F1 (any therapy query)\n",
    "    therapy_mask = labels == 2\n",
    "    if therapy_mask.sum() > 0:\n",
    "        therapy_f1 = f1_score(\n",
    "            labels[therapy_mask],\n",
    "            predictions[therapy_mask],\n",
    "            average='macro',\n",
    "            zero_division=0\n",
    "        )\n",
    "    else:\n",
    "        therapy_f1 = 0.0\n",
    "\n",
    "    return {\n",
    "        'macro_f1': macro_f1,\n",
    "        'accuracy': accuracy,\n",
    "        'high_risk_f1': high_risk_f1,\n",
    "        'therapy_f1': therapy_f1\n",
    "    }\n",
    "\n",
    "# ====================================================\n",
    "# 7. Training Config\n",
    "# ====================================================\n",
    "training_args = TrainingArguments(\n",
    "    output_dir='../models/distilbert-clinical-v4',\n",
    "    num_train_epochs=4,\n",
    "    per_device_train_batch_size=16,\n",
    "    per_device_eval_batch_size=32,\n",
    "    learning_rate=5e-5,\n",
    "    warmup_steps=100,\n",
    "    weight_decay=0.01,\n",
    "    logging_dir='./logs',\n",
    "    logging_steps=50,\n",
    "    evaluation_strategy=\"epoch\",\n",
    "    save_strategy=\"epoch\",\n",
    "    load_best_model_at_end=True,\n",
    "    metric_for_best_model=\"macro_f1\",  \n",
    "    greater_is_better=True,\n",
    "    fp16=True,\n",
    "    report_to=\"none\"\n",
    ")\n",
    "\n",
    "# Early stopping\n",
    "early_stopping = EarlyStoppingCallback(\n",
    "    early_stopping_patience=2,\n",
    "    early_stopping_threshold=0.01\n",
    ")\n",
    "\n",
    "# ====================================================\n",
    "# 8. Custom Trainer to Handle Multi-Output Model\n",
    "# ====================================================\n",
    "class ClinicalTrainer(Trainer):\n",
    "    def compute_loss(self, model, inputs, return_outputs=False):\n",
    "        labels = inputs.get(\"labels\")\n",
    "        complexity = inputs.get(\"complexity\")\n",
    "        needs_followup = inputs.get(\"needs_followup\")\n",
    "        \n",
    "        # Forward pass\n",
    "        outputs = model(\n",
    "            input_ids=inputs.get(\"input_ids\"),\n",
    "            attention_mask=inputs.get(\"attention_mask\"),\n",
    "            labels=labels,\n",
    "            complexity=complexity,\n",
    "            needs_followup=needs_followup\n",
    "        )\n",
    "        \n",
    "        # Extract loss\n",
    "        loss = outputs.get(\"loss\")\n",
    "        \n",
    "        # Return loss and optionally outputs\n",
    "        return (loss, outputs) if return_outputs else loss\n",
    "\n",
    "# ====================================================\n",
    "# 9. Create Trainer (Use Custom ClinicalTrainer)\n",
    "# ====================================================\n",
    "trainer = ClinicalTrainer(\n",
    "    model=model,\n",
    "    args=training_args,\n",
    "    train_dataset=train_dataset,\n",
    "    eval_dataset=test_dataset,\n",
    "    compute_metrics=compute_clinical_metrics,\n",
    "    callbacks=[early_stopping],\n",
    "    tokenizer=tokenizer,\n",
    "    data_collator=collate_fn,  \n",
    ")\n",
    "\n",
    "print(\"✅ Trainer is ready. Classes:\", id2label)"
   ]
  },
  {
   "cell_type": "code",
   "execution_count": 106,
   "id": "2102469c",
   "metadata": {},
   "outputs": [
    {
     "name": "stdout",
     "output_type": "stream",
     "text": [
      "✅ Added 0 new tokens\n",
      "✅ Model loaded from ../models/distilbert-clinical-v1-final/checkpoint-892\n"
     ]
    }
   ],
   "source": [
    "# ========================================\n",
    "# 1. Load Tokenizer from Fine-Tuned Model\n",
    "# ========================================\n",
    "local_model_path = \"../models/distilbert-clinical-v1-final/checkpoint-892\"  # ✅ Your fine-tuned model\n",
    "\n",
    "# Load tokenizer\n",
    "tokenizer = AutoTokenizer.from_pretrained(local_model_path)\n",
    "\n",
    "# ========================================\n",
    "# 2. Add Custom Tokens (if not already in saved model)\n",
    "# ========================================\n",
    "new_tokens = ['[BIOMARKER]', '[/BIOMARKER]', 'HbA1c', '%', 'mg/dL', '1.2', '8.5']\n",
    "num_added = tokenizer.add_tokens(new_tokens)\n",
    "print(f\"✅ Added {num_added} new tokens\")\n",
    "\n",
    "# ========================================\n",
    "# 3. Load Model Config and Custom Model\n",
    "# ========================================\n",
    "config = AutoConfig.from_pretrained(local_model_path)\n",
    "config.num_labels = 4\n",
    "config.id2label = {0: \"comparison\", 1: \"recommendation\", 2: \"therapy\", 3: \"general\"}\n",
    "config.label2id = {\"comparison\": 0, \"recommendation\": 1, \"therapy\": 2, \"general\": 3}\n",
    "\n",
    "# Load your custom model FROM FINE-TUNED CHECKPOINT\n",
    "model = ClinicalDistilBert.from_pretrained(\n",
    "    local_model_path,\n",
    "    config=config,\n",
    "    ignore_mismatched_sizes=True\n",
    ")\n",
    "\n",
    "# Resize if tokens were added\n",
    "model.resize_token_embeddings(len(tokenizer))\n",
    "model.to(device)\n",
    "\n",
    "print(f\"✅ Model loaded from {local_model_path}\")"
   ]
  },
  {
   "cell_type": "code",
   "execution_count": 107,
   "id": "ff83b60a",
   "metadata": {},
   "outputs": [
    {
     "name": "stdout",
     "output_type": "stream",
     "text": [
      "✅ Batch keys: ['input_ids', 'attention_mask', 'labels', 'complexity', 'needs_followup']\n"
     ]
    },
    {
     "name": "stderr",
     "output_type": "stream",
     "text": [
      "c:\\Users\\user\\miniconda3\\envs\\nut_class_env\\lib\\site-packages\\torch\\utils\\data\\dataloader.py:666: UserWarning: 'pin_memory' argument is set as true but no accelerator is found, then device pinned memory won't be used.\n",
      "  warnings.warn(warn_msg)\n"
     ]
    },
    {
     "name": "stdout",
     "output_type": "stream",
     "text": [
      "✅ Forward pass successful! Loss: 1.9659615755081177\n"
     ]
    }
   ],
   "source": [
    "# Test one batch from the trainer's dataloader\n",
    "batch = next(iter(trainer.get_train_dataloader()))\n",
    "print(\"✅ Batch keys:\", list(batch.keys()))\n",
    "\n",
    "# Verify required keys\n",
    "assert 'complexity' in batch, \"❌ complexity missing from batch!\"\n",
    "assert 'needs_followup' in batch, \"❌ needs_followup missing from batch!\"\n",
    "assert 'labels' in batch, \"❌ labels missing from batch!\"\n",
    "\n",
    "# Test forward pass\n",
    "outputs = trainer.model(**{k: v[:2].to(device) for k, v in batch.items()})\n",
    "print(\"✅ Forward pass successful! Loss:\", outputs['loss'].item())"
   ]
  },
  {
   "cell_type": "markdown",
   "id": "af4185d3",
   "metadata": {},
   "source": [
    "\n",
    "#### Clinical Risk-Aware Training\n",
    "#### **Optimized for high-risk query accuracy**"
   ]
  },
  {
   "cell_type": "markdown",
   "id": "345bf378",
   "metadata": {},
   "source": [
    "#### Clinical Safety Training"
   ]
  },
  {
   "cell_type": "markdown",
   "id": "16715df6",
   "metadata": {},
   "source": [
    "**Logging storage**: Instead of console-only, it dumps metrics JSON into save_path/metrics.json. That way results are not lost when re-running.\n",
    "\n",
    "**Confusion matrix**: For high-risk therapy queries, saving a heatmap confusion matrix for an instant visual check.\n",
    "\n",
    "**Cross-validation**: for stronger reliability,K-fold evaluation for high-risk queries.\n",
    "\n",
    "**Calibration check**: Since clinical models need probability reliability, added a confidence calibration test (Expected Calibration Error, ECE).\n",
    "\n",
    "**Fail-safe fallback**: Instead of raise ValueError, added a branch that forces high-risk queries to be routed to Mistral 7B regardless of DistilBERT output."
   ]
  },
  {
   "cell_type": "code",
   "execution_count": 108,
   "id": "477b5aaf",
   "metadata": {},
   "outputs": [
    {
     "name": "stderr",
     "output_type": "stream",
     "text": [
      "INFO:__main__:🚀 Starting clinical safety training...\n",
      "  6%|▌         | 50/892 [02:05<30:24,  2.17s/it]"
     ]
    },
    {
     "name": "stdout",
     "output_type": "stream",
     "text": [
      "{'loss': 2.6388, 'grad_norm': 0.0, 'learning_rate': 2.5e-05, 'epoch': 0.22}\n"
     ]
    },
    {
     "name": "stderr",
     "output_type": "stream",
     "text": [
      " 11%|█         | 100/892 [04:11<26:55,  2.04s/it]"
     ]
    },
    {
     "name": "stdout",
     "output_type": "stream",
     "text": [
      "{'loss': 2.517, 'grad_norm': 0.0, 'learning_rate': 5e-05, 'epoch': 0.45}\n"
     ]
    },
    {
     "name": "stderr",
     "output_type": "stream",
     "text": [
      " 17%|█▋        | 150/892 [06:01<24:21,  1.97s/it]"
     ]
    },
    {
     "name": "stdout",
     "output_type": "stream",
     "text": [
      "{'loss': 2.4821, 'grad_norm': 0.0, 'learning_rate': 4.6843434343434346e-05, 'epoch': 0.67}\n"
     ]
    },
    {
     "name": "stderr",
     "output_type": "stream",
     "text": [
      " 22%|██▏       | 200/892 [09:09<28:43,  2.49s/it]  "
     ]
    },
    {
     "name": "stdout",
     "output_type": "stream",
     "text": [
      "{'loss': 2.3694, 'grad_norm': 0.0, 'learning_rate': 4.368686868686869e-05, 'epoch': 0.9}\n"
     ]
    },
    {
     "name": "stderr",
     "output_type": "stream",
     "text": [
      " 25%|██▌       | 223/892 [10:31<41:31,  3.72s/it]  \n",
      " 25%|██▌       | 223/892 [13:29<41:31,  3.72s/it]"
     ]
    },
    {
     "name": "stdout",
     "output_type": "stream",
     "text": [
      "{'eval_loss': 2.2348792552948, 'eval_macro_f1': 0.34414084003323947, 'eval_accuracy': 0.4560975609756098, 'eval_high_risk_f1': 0.0, 'eval_therapy_f1': 0.0, 'eval_runtime': 177.8609, 'eval_samples_per_second': 4.61, 'eval_steps_per_second': 0.146, 'epoch': 1.0}\n"
     ]
    },
    {
     "name": "stderr",
     "output_type": "stream",
     "text": [
      "c:\\Users\\user\\miniconda3\\envs\\nut_class_env\\lib\\site-packages\\torch\\utils\\data\\dataloader.py:666: UserWarning: 'pin_memory' argument is set as true but no accelerator is found, then device pinned memory won't be used.\n",
      "  warnings.warn(warn_msg)\n",
      " 28%|██▊       | 250/892 [15:09<31:20,  2.93s/it]   "
     ]
    },
    {
     "name": "stdout",
     "output_type": "stream",
     "text": [
      "{'loss': 2.4485, 'grad_norm': 0.0, 'learning_rate': 4.053030303030303e-05, 'epoch': 1.12}\n"
     ]
    },
    {
     "name": "stderr",
     "output_type": "stream",
     "text": [
      " 34%|███▎      | 300/892 [17:56<26:59,  2.73s/it]"
     ]
    },
    {
     "name": "stdout",
     "output_type": "stream",
     "text": [
      "{'loss': 2.48, 'grad_norm': 0.0, 'learning_rate': 3.7373737373737376e-05, 'epoch': 1.35}\n"
     ]
    },
    {
     "name": "stderr",
     "output_type": "stream",
     "text": [
      " 39%|███▉      | 350/892 [20:48<27:43,  3.07s/it]  "
     ]
    },
    {
     "name": "stdout",
     "output_type": "stream",
     "text": [
      "{'loss': 2.4977, 'grad_norm': 0.0, 'learning_rate': 3.421717171717172e-05, 'epoch': 1.57}\n"
     ]
    },
    {
     "name": "stderr",
     "output_type": "stream",
     "text": [
      " 45%|████▍     | 400/892 [23:51<23:47,  2.90s/it]"
     ]
    },
    {
     "name": "stdout",
     "output_type": "stream",
     "text": [
      "{'loss': 2.6216, 'grad_norm': 0.0, 'learning_rate': 3.106060606060606e-05, 'epoch': 1.79}\n"
     ]
    },
    {
     "name": "stderr",
     "output_type": "stream",
     "text": [
      " 50%|█████     | 446/892 [26:10<16:20,  2.20s/it]\n",
      " 50%|█████     | 446/892 [28:04<16:20,  2.20s/it]"
     ]
    },
    {
     "name": "stdout",
     "output_type": "stream",
     "text": [
      "{'eval_loss': 2.22537899017334, 'eval_macro_f1': 0.20035145613474553, 'eval_accuracy': 0.3402439024390244, 'eval_high_risk_f1': 0.0, 'eval_therapy_f1': 0.0, 'eval_runtime': 113.7321, 'eval_samples_per_second': 7.21, 'eval_steps_per_second': 0.229, 'epoch': 2.0}\n"
     ]
    },
    {
     "name": "stderr",
     "output_type": "stream",
     "text": [
      "c:\\Users\\user\\miniconda3\\envs\\nut_class_env\\lib\\site-packages\\torch\\utils\\data\\dataloader.py:666: UserWarning: 'pin_memory' argument is set as true but no accelerator is found, then device pinned memory won't be used.\n",
      "  warnings.warn(warn_msg)\n",
      " 50%|█████     | 450/892 [28:22<1:54:33, 15.55s/it]"
     ]
    },
    {
     "name": "stdout",
     "output_type": "stream",
     "text": [
      "{'loss': 2.566, 'grad_norm': 0.0, 'learning_rate': 2.7904040404040403e-05, 'epoch': 2.02}\n"
     ]
    },
    {
     "name": "stderr",
     "output_type": "stream",
     "text": [
      " 56%|█████▌    | 500/892 [31:07<17:21,  2.66s/it]  "
     ]
    },
    {
     "name": "stdout",
     "output_type": "stream",
     "text": [
      "{'loss': 2.5123, 'grad_norm': 0.0, 'learning_rate': 2.474747474747475e-05, 'epoch': 2.24}\n"
     ]
    },
    {
     "name": "stderr",
     "output_type": "stream",
     "text": [
      " 62%|██████▏   | 550/892 [35:32<18:36,  3.27s/it]"
     ]
    },
    {
     "name": "stdout",
     "output_type": "stream",
     "text": [
      "{'loss': 2.6056, 'grad_norm': 0.0, 'learning_rate': 2.1590909090909093e-05, 'epoch': 2.47}\n"
     ]
    },
    {
     "name": "stderr",
     "output_type": "stream",
     "text": [
      " 67%|██████▋   | 600/892 [37:28<10:03,  2.07s/it]"
     ]
    },
    {
     "name": "stdout",
     "output_type": "stream",
     "text": [
      "{'loss': 2.4726, 'grad_norm': 0.0, 'learning_rate': 1.8434343434343433e-05, 'epoch': 2.69}\n"
     ]
    },
    {
     "name": "stderr",
     "output_type": "stream",
     "text": [
      " 73%|███████▎  | 650/892 [39:13<09:06,  2.26s/it]"
     ]
    },
    {
     "name": "stdout",
     "output_type": "stream",
     "text": [
      "{'loss': 2.3969, 'grad_norm': 0.0, 'learning_rate': 1.527777777777778e-05, 'epoch': 2.91}\n"
     ]
    },
    {
     "name": "stderr",
     "output_type": "stream",
     "text": [
      " 75%|███████▌  | 669/892 [39:54<06:53,  1.85s/it]\n",
      " 75%|███████▌  | 669/892 [41:02<06:53,  1.85s/it]"
     ]
    },
    {
     "name": "stdout",
     "output_type": "stream",
     "text": [
      "{'eval_loss': 2.1107850074768066, 'eval_macro_f1': 0.36709197598253274, 'eval_accuracy': 0.4817073170731707, 'eval_high_risk_f1': 0.0, 'eval_therapy_f1': 0.0, 'eval_runtime': 68.3013, 'eval_samples_per_second': 12.006, 'eval_steps_per_second': 0.381, 'epoch': 3.0}\n"
     ]
    },
    {
     "name": "stderr",
     "output_type": "stream",
     "text": [
      "c:\\Users\\user\\miniconda3\\envs\\nut_class_env\\lib\\site-packages\\torch\\utils\\data\\dataloader.py:666: UserWarning: 'pin_memory' argument is set as true but no accelerator is found, then device pinned memory won't be used.\n",
      "  warnings.warn(warn_msg)\n",
      " 78%|███████▊  | 700/892 [42:19<08:11,  2.56s/it]  "
     ]
    },
    {
     "name": "stdout",
     "output_type": "stream",
     "text": [
      "{'loss': 2.4385, 'grad_norm': 0.0, 'learning_rate': 1.2121212121212122e-05, 'epoch': 3.14}\n"
     ]
    },
    {
     "name": "stderr",
     "output_type": "stream",
     "text": [
      " 84%|████████▍ | 750/892 [44:53<07:48,  3.30s/it]"
     ]
    },
    {
     "name": "stdout",
     "output_type": "stream",
     "text": [
      "{'loss': 2.3626, 'grad_norm': 0.0, 'learning_rate': 8.964646464646464e-06, 'epoch': 3.36}\n"
     ]
    },
    {
     "name": "stderr",
     "output_type": "stream",
     "text": [
      " 90%|████████▉ | 800/892 [47:08<04:07,  2.69s/it]"
     ]
    },
    {
     "name": "stdout",
     "output_type": "stream",
     "text": [
      "{'loss': 2.4627, 'grad_norm': 0.0, 'learning_rate': 5.808080808080808e-06, 'epoch': 3.59}\n"
     ]
    },
    {
     "name": "stderr",
     "output_type": "stream",
     "text": [
      " 95%|█████████▌| 850/892 [49:23<01:41,  2.41s/it]"
     ]
    },
    {
     "name": "stdout",
     "output_type": "stream",
     "text": [
      "{'loss': 2.3958, 'grad_norm': 0.0, 'learning_rate': 2.651515151515152e-06, 'epoch': 3.81}\n"
     ]
    },
    {
     "name": "stderr",
     "output_type": "stream",
     "text": [
      "100%|██████████| 892/892 [51:27<00:00,  3.75s/it]c:\\Users\\user\\miniconda3\\envs\\nut_class_env\\lib\\site-packages\\torch\\utils\\data\\dataloader.py:666: UserWarning: 'pin_memory' argument is set as true but no accelerator is found, then device pinned memory won't be used.\n",
      "  warnings.warn(warn_msg)\n",
      "\n",
      "100%|██████████| 892/892 [53:12<00:00,  3.75s/it]"
     ]
    },
    {
     "name": "stdout",
     "output_type": "stream",
     "text": [
      "{'eval_loss': 2.092890739440918, 'eval_macro_f1': 0.36565032650053997, 'eval_accuracy': 0.48292682926829267, 'eval_high_risk_f1': 0.0, 'eval_therapy_f1': 0.0, 'eval_runtime': 102.8974, 'eval_samples_per_second': 7.969, 'eval_steps_per_second': 0.253, 'epoch': 4.0}\n"
     ]
    },
    {
     "name": "stderr",
     "output_type": "stream",
     "text": [
      "100%|██████████| 892/892 [53:14<00:00,  3.58s/it]\n"
     ]
    },
    {
     "name": "stdout",
     "output_type": "stream",
     "text": [
      "{'train_runtime': 3194.9209, 'train_samples_per_second': 4.448, 'train_steps_per_second': 0.279, 'train_loss': 2.4863671101796787, 'epoch': 4.0}\n"
     ]
    },
    {
     "name": "stderr",
     "output_type": "stream",
     "text": [
      "INFO:__main__:✅ Model and tokenizer saved to ../models/distilbert-clinical-v4\n",
      "c:\\Users\\user\\miniconda3\\envs\\nut_class_env\\lib\\site-packages\\torch\\utils\\data\\dataloader.py:666: UserWarning: 'pin_memory' argument is set as true but no accelerator is found, then device pinned memory won't be used.\n",
      "  warnings.warn(warn_msg)\n",
      "100%|██████████| 26/26 [02:16<00:00,  5.23s/it]\n",
      "INFO:__main__:\n",
      "📊 FINAL EVALUATION METRICS:\n",
      "INFO:__main__:High-Risk F1 (Therapy + Complexity ≥4): 0.0000\n",
      "INFO:__main__:Therapy F1: 0.0000\n",
      "INFO:__main__:Macro F1: 0.3671\n",
      "ERROR:__main__:❌ MODEL FAILED SAFETY VALIDATION | High-risk F1=0.0000 < 0.90\n"
     ]
    },
    {
     "ename": "ValueError",
     "evalue": "Model unsafe for clinical deployment",
     "output_type": "error",
     "traceback": [
      "\u001b[1;31m---------------------------------------------------------------------------\u001b[0m",
      "\u001b[1;31mValueError\u001b[0m                                Traceback (most recent call last)",
      "Cell \u001b[1;32mIn[108], line 26\u001b[0m\n\u001b[0;32m     24\u001b[0m     msg \u001b[38;5;241m=\u001b[39m \u001b[38;5;124mf\u001b[39m\u001b[38;5;124m\"\u001b[39m\u001b[38;5;124m❌ MODEL FAILED SAFETY VALIDATION | High-risk F1=\u001b[39m\u001b[38;5;132;01m{\u001b[39;00mmetrics\u001b[38;5;241m.\u001b[39mget(\u001b[38;5;124m'\u001b[39m\u001b[38;5;124meval_high_risk_f1\u001b[39m\u001b[38;5;124m'\u001b[39m,\u001b[38;5;250m \u001b[39m\u001b[38;5;241m0\u001b[39m)\u001b[38;5;132;01m:\u001b[39;00m\u001b[38;5;124m.4f\u001b[39m\u001b[38;5;132;01m}\u001b[39;00m\u001b[38;5;124m < 0.90\u001b[39m\u001b[38;5;124m\"\u001b[39m\n\u001b[0;32m     25\u001b[0m     logger\u001b[38;5;241m.\u001b[39merror(msg)\n\u001b[1;32m---> 26\u001b[0m     \u001b[38;5;28;01mraise\u001b[39;00m \u001b[38;5;167;01mValueError\u001b[39;00m(\u001b[38;5;124m\"\u001b[39m\u001b[38;5;124mModel unsafe for clinical deployment\u001b[39m\u001b[38;5;124m\"\u001b[39m)\n\u001b[0;32m     27\u001b[0m \u001b[38;5;28;01melse\u001b[39;00m:\n\u001b[0;32m     28\u001b[0m     logger\u001b[38;5;241m.\u001b[39minfo(\u001b[38;5;124m\"\u001b[39m\u001b[38;5;124m MODEL PASSED CLINICAL SAFETY VALIDATION\u001b[39m\u001b[38;5;124m\"\u001b[39m)\n",
      "\u001b[1;31mValueError\u001b[0m: Model unsafe for clinical deployment"
     ]
    }
   ],
   "source": [
    "# ================================\n",
    "# 6.1 Launch Training\n",
    "# ================================\n",
    "logger.info(\"🚀 Starting clinical safety training...\")\n",
    "train_results = trainer.train()\n",
    "\n",
    "# Save model + tokenizer\n",
    "save_path = \"../models/distilbert-clinical-v4\"\n",
    "trainer.save_model(save_path)\n",
    "tokenizer.save_pretrained(save_path)\n",
    "logger.info(f\"✅ Model and tokenizer saved to {save_path}\")\n",
    "\n",
    "# ================================\n",
    "# 6.2 Training Metrics Analysis\n",
    "# ================================\n",
    "metrics = trainer.evaluate()\n",
    "logger.info(\"\\n📊 FINAL EVALUATION METRICS:\")\n",
    "logger.info(f\"High-Risk F1 (Therapy + Complexity ≥4): {metrics.get('eval_high_risk_f1', 0):.4f}\")\n",
    "logger.info(f\"Therapy F1: {metrics.get('eval_therapy_f1', 0):.4f}\")\n",
    "logger.info(f\"Macro F1: {metrics.get('eval_macro_f1', 0):.4f}\")\n",
    "\n",
    "# Safety Validation\n",
    "if metrics.get(\"eval_high_risk_f1\", 0) < 0.90:\n",
    "    msg = f\"❌ MODEL FAILED SAFETY VALIDATION | High-risk F1={metrics.get('eval_high_risk_f1', 0):.4f} < 0.90\"\n",
    "    logger.error(msg)\n",
    "    raise ValueError(\"Model unsafe for clinical deployment\")\n",
    "else:\n",
    "    logger.info(\" MODEL PASSED CLINICAL SAFETY VALIDATION\")\n",
    "\n",
    "\n",
    "# ================================\n",
    "# 6.3 Detailed Therapy Query Analysis\n",
    "# ================================\n",
    "def analyze_therapy_queries():\n",
    "    \"\"\"Analyze performance on high-risk therapy queries (label=therapy, complexity≥4).\"\"\"\n",
    "    # Filter test_df\n",
    "    therapy_mask = (test_df[\"label\"] == \"therapy\") & (test_df[\"complexity\"] >= 4)\n",
    "    \n",
    "    if not therapy_mask.any():\n",
    "        logger.warning(\" No high-risk therapy queries found in test set\")\n",
    "        return\n",
    "\n",
    "    # Get predictions for entire test set\n",
    "    test_results = trainer.predict(test_dataset)\n",
    "    preds = np.argmax(test_results.predictions, axis=1)  # Shape: [N]\n",
    "\n",
    "    # Use boolean mask to get positions (assumes test_dataset[i] ↔ test_df.iloc[i])\n",
    "    high_risk_positions = therapy_mask.values  # Boolean array, same order as test_df\n",
    "\n",
    "    if not high_risk_positions.any():\n",
    "        logger.warning(\" No valid high-risk positions for analysis\")\n",
    "        return\n",
    "\n",
    "    # Extract predictions and labels by position\n",
    "    high_risk_preds = preds[high_risk_positions]\n",
    "    high_risk_labels = [\n",
    "        test_dataset[i][\"labels\"].item() \n",
    "        for i in range(len(test_dataset)) \n",
    "        if high_risk_positions[i]\n",
    "    ]\n",
    "\n",
    "    # Generate classification report\n",
    "    from sklearn.metrics import classification_report, confusion_matrix\n",
    "    from sklearn.metrics import ConfusionMatrixDisplay\n",
    "    import matplotlib.pyplot as plt\n",
    "    import os\n",
    "\n",
    "    report = classification_report(\n",
    "        high_risk_labels,\n",
    "        high_risk_preds,\n",
    "        target_names=[\"comparison\", \"recommendation\", \"therapy\", \"general\"],\n",
    "        output_dict=True,\n",
    "    )\n",
    "\n",
    "    logger.info(\"\\n HIGH-RISK QUERY PERFORMANCE (THERAPY + COMPLEXITY ≥4):\")\n",
    "    logger.info(f\"Accuracy:   {report['accuracy']:.4f}\")\n",
    "    logger.info(f\"Therapy F1: {report['therapy']['f1-score']:.4f}\")\n",
    "    logger.info(f\"Precision:  {report['therapy']['precision']:.4f}\")\n",
    "    logger.info(f\"Recall:     {report['therapy']['recall']:.4f}\")\n",
    "\n",
    "    # Save report\n",
    "    output_csv = f\"{save_path}/high_risk_analysis.csv\"\n",
    "    pd.DataFrame(report).T.to_csv(output_csv)\n",
    "    logger.info(f\"✅ High-risk analysis saved to {output_csv}\")\n",
    "\n",
    "    # Confusion Matrix\n",
    "    cm = confusion_matrix(high_risk_labels, high_risk_preds)\n",
    "    disp = ConfusionMatrixDisplay(\n",
    "        confusion_matrix=cm,\n",
    "        display_labels=[\"comparison\", \"recommendation\", \"therapy\", \"general\"]\n",
    "    )\n",
    "    disp.plot(cmap=\"Blues\", xticks_rotation=45)\n",
    "    \n",
    "    # Ensure directory exists\n",
    "    os.makedirs(save_path, exist_ok=True)\n",
    "    \n",
    "    cm_path = f\"{save_path}/high_risk_confusion_matrix.png\"\n",
    "    plt.savefig(cm_path, bbox_inches=\"tight\", dpi=200)\n",
    "    plt.close()\n",
    "    logger.info(f\"🖼️ Confusion matrix saved to {cm_path}\")"
   ]
  },
  {
   "cell_type": "markdown",
   "id": "008df489",
   "metadata": {},
   "source": [
    "### TESTS"
   ]
  },
  {
   "cell_type": "code",
   "execution_count": null,
   "id": "6d06312f",
   "metadata": {},
   "outputs": [],
   "source": [
    "\"\"\"# ================================\n",
    "# 6.1 Launch Training\n",
    "# ================================\n",
    "logger.info(\"🚀 Starting clinical safety training...\")\n",
    "train_results = trainer.train()\n",
    "\n",
    "# Save model + tokenizer\n",
    "save_path = \"../models/distilbert-clinical-v1-final\"\n",
    "trainer.save_model(save_path)\n",
    "tokenizer.save_pretrained(save_path)\n",
    "logger.info(f\"✅ Model and tokenizer saved to {save_path}\")\"\"\""
   ]
  },
  {
   "cell_type": "code",
   "execution_count": null,
   "id": "5ed7ca61",
   "metadata": {},
   "outputs": [
    {
     "name": "stdout",
     "output_type": "stream",
     "text": [
      "Label distribution in train_df:\n",
      "label\n",
      "comparison        0.377778\n",
      "recommendation    0.321212\n",
      "therapy           0.234343\n",
      "general           0.066667\n",
      "Name: proportion, dtype: float64\n",
      "\n",
      "Label distribution in test_df:\n",
      "label\n",
      "recommendation    0.297642\n",
      "therapy           0.253814\n",
      "general           0.226075\n",
      "comparison        0.222469\n",
      "Name: proportion, dtype: float64\n"
     ]
    }
   ],
   "source": []
  },
  {
   "cell_type": "code",
   "execution_count": null,
   "id": "8ad2f4c6",
   "metadata": {},
   "outputs": [
    {
     "name": "stdout",
     "output_type": "stream",
     "text": [
      "Original query:\n",
      "Compare the vitamin C content in fresh vs frozen spinach\n",
      "\n",
      "Decoded tokens:\n",
      "[CLS] compare the vitamin c content in fresh vs frozen spinach [SEP] [PAD] [PAD] [PAD] [PAD] [PAD] [PAD] [PAD] [PAD] [PAD] [PAD] [PAD] [PAD] [PAD] [PAD] [PAD] [PAD] [PAD] [PAD] [PAD] [PAD] [PAD] [PAD] [PAD] [PAD] [PAD] [PAD] [PAD] [PAD] [PAD] [PAD] [PAD] [PAD] [PAD] [PAD] [PAD] [PAD] [PAD] [PAD] [PAD] [PAD] [PAD] [PAD] [PAD] [PAD] [PAD] [PAD] [PAD] [PAD] [PAD] [PAD] [PAD] [PAD] [PAD] [PAD] [PAD] [PAD] [PAD] [PAD] [PAD] [PAD] [PAD] [PAD] [PAD] [PAD] [PAD] [PAD] [PAD] [PAD] [PAD] [PAD] [PAD] [PAD] [PAD] [PAD] [PAD] [PAD] [PAD] [PAD] [PAD] [PAD] [PAD] [PAD] [PAD] [PAD] [PAD] [PAD] [PAD] [PAD] [PAD] [PAD] [PAD] [PAD] [PAD] [PAD] [PAD] [PAD] [PAD] [PAD] [PAD] [PAD] [PAD] [PAD] [PAD] [PAD] [PAD] [PAD] [PAD] [PAD] [PAD] [PAD] [PAD] [PAD] [PAD] [PAD] [PAD]\n"
     ]
    }
   ],
   "source": [
    "# Pick a training example\n",
    "idx = 0\n",
    "sample = train_dataset[idx]\n",
    "\n",
    "# Decode input_ids back to text\n",
    "decoded = tokenizer.decode(sample['input_ids'], skip_special_tokens=False)\n",
    "print(\"Original query:\")\n",
    "print(train_df.iloc[idx]['query'])\n",
    "print(\"\\nDecoded tokens:\")\n",
    "print(decoded)"
   ]
  },
  {
   "cell_type": "code",
   "execution_count": null,
   "id": "18a1789f",
   "metadata": {},
   "outputs": [],
   "source": []
  },
  {
   "cell_type": "code",
   "execution_count": null,
   "id": "965e9fac",
   "metadata": {},
   "outputs": [
    {
     "name": "stdout",
     "output_type": "stream",
     "text": [
      "✅ Model Output Diagnosis\n",
      "==================================================\n",
      "Sample 1\n",
      "  Label:     0 (comparison)\n",
      "  Prediction: 3 (therapy)\n",
      "  Logits:    [ 0.028  0.052 -0.035  0.072]\n",
      "\n",
      "Sample 2\n",
      "  Label:     3 (therapy)\n",
      "  Prediction: 1 (general)\n",
      "  Logits:    [ 0.037  0.049 -0.048  0.007]\n",
      "\n",
      "Sample 3\n",
      "  Label:     3 (therapy)\n",
      "  Prediction: 1 (general)\n",
      "  Logits:    [ 0.015  0.069 -0.046  0.023]\n",
      "\n",
      "Sample 4\n",
      "  Label:     0 (comparison)\n",
      "  Prediction: 1 (general)\n",
      "  Logits:    [ 0.019  0.053 -0.069  0.017]\n",
      "\n"
     ]
    }
   ],
   "source": [
    "# Set model to evaluation mode\n",
    "model.eval()\n",
    "\n",
    "# Get one batch from test set\n",
    "sample_batch = next(iter(trainer.get_eval_dataloader()))\n",
    "\n",
    "# Move to device\n",
    "input_ids = sample_batch['input_ids'][:4].to(device)\n",
    "attention_mask = sample_batch['attention_mask'][:4].to(device)\n",
    "labels = sample_batch['labels'][:4].cpu().numpy()\n",
    "\n",
    "# Forward pass\n",
    "with torch.no_grad():\n",
    "    outputs = model(input_ids=input_ids, attention_mask=attention_mask)\n",
    "    # ✅ Fix: Use dict access, not dot access\n",
    "    logits = outputs['logits'].cpu().numpy()  # ← ['logits'], not .logits\n",
    "    preds = logits.argmax(-1)\n",
    "\n",
    "# Print results\n",
    "print(\"✅ Model Output Diagnosis\")\n",
    "print(\"=\"*50)\n",
    "for i in range(len(logits)):\n",
    "    print(f\"Sample {i+1}\")\n",
    "    print(f\"  Label:     {labels[i]} ({id2label[labels[i]]})\")\n",
    "    print(f\"  Prediction: {preds[i]} ({id2label[preds[i]]})\")\n",
    "    print(f\"  Logits:    {logits[i].round(3)}\")\n",
    "    print()"
   ]
  },
  {
   "cell_type": "code",
   "execution_count": null,
   "id": "0cca3882",
   "metadata": {},
   "outputs": [
    {
     "name": "stdout",
     "output_type": "stream",
     "text": [
      "Columns in test_df: ['id', 'query', 'label', 'complexity', 'recommended_llm', 'needs_followup', 'distractor_label', 'biomarkers', 'is_high_risk', 'group_id']\n"
     ]
    }
   ],
   "source": [
    "print(\"Columns in test_df:\", test_df.columns.tolist())"
   ]
  },
  {
   "cell_type": "code",
   "execution_count": null,
   "id": "018635f7",
   "metadata": {},
   "outputs": [
    {
     "name": "stdout",
     "output_type": "stream",
     "text": [
      "label2id: {'comparison': 0, 'recommendation': 1, 'therapy': 2, 'general': 3}\n",
      "Unique labels in train: ['recommendation' 'general' 'therapy' 'comparison']\n",
      "Unique labels in test: ['recommendation' 'therapy' 'comparison' 'general']\n"
     ]
    }
   ],
   "source": [
    "print(\"label2id:\", label2id)\n",
    "print(\"Unique labels in train:\", train_df['label'].unique())\n",
    "print(\"Unique labels in test:\", test_df['label'].unique())"
   ]
  },
  {
   "cell_type": "code",
   "execution_count": null,
   "id": "fb43b482",
   "metadata": {},
   "outputs": [
    {
     "name": "stdout",
     "output_type": "stream",
     "text": [
      "Is [BIOMARKER] in tokenizer? True\n",
      "Is [/BIOMARKER] in tokenizer? True\n",
      "Is HbA1c in tokenizer? True\n",
      "Tokenizer vocab size: 30532\n"
     ]
    }
   ],
   "source": [
    "# Check if special tokens are present in the tokenizer\n",
    "print(\"Is [BIOMARKER] in tokenizer?\", '[BIOMARKER]' in tokenizer.get_vocab())\n",
    "print(\"Is [/BIOMARKER] in tokenizer?\", '[/BIOMARKER]' in tokenizer.get_vocab())\n",
    "print(\"Is HbA1c in tokenizer?\", 'HbA1c' in tokenizer.get_vocab())\n",
    "print(\"Tokenizer vocab size:\", len(tokenizer))\n"
   ]
  },
  {
   "cell_type": "code",
   "execution_count": null,
   "id": "02b3dfe6",
   "metadata": {},
   "outputs": [
    {
     "name": "stdout",
     "output_type": "stream",
     "text": [
      "Original query:\n",
      "Suggest foods from the Food Composition Table rich in vitamin B12 for elderly patients.\n",
      "\n",
      "Decoded tokens:\n",
      "[CLS] suggest foods from the food composition table rich in vitamin b12 for elderly patients. [SEP] [PAD] [PAD] [PAD] [PAD] [PAD] [PAD] [PAD] [PAD] [PAD] [PAD] [PAD] [PAD] [PAD] [PAD] [PAD] [PAD] [PAD] [PAD] [PAD] [PAD] [PAD] [PAD] [PAD] [PAD] [PAD] [PAD] [PAD] [PAD] [PAD] [PAD] [PAD] [PAD] [PAD] [PAD] [PAD] [PAD] [PAD] [PAD] [PAD] [PAD] [PAD] [PAD] [PAD] [PAD] [PAD] [PAD] [PAD] [PAD] [PAD] [PAD] [PAD] [PAD] [PAD] [PAD] [PAD] [PAD] [PAD] [PAD] [PAD] [PAD] [PAD] [PAD] [PAD] [PAD] [PAD] [PAD] [PAD] [PAD] [PAD] [PAD] [PAD] [PAD] [PAD] [PAD] [PAD] [PAD] [PAD] [PAD] [PAD] [PAD] [PAD] [PAD] [PAD] [PAD] [PAD] [PAD] [PAD] [PAD] [PAD] [PAD] [PAD] [PAD] [PAD] [PAD] [PAD] [PAD] [PAD] [PAD] [PAD] [PAD] [PAD] [PAD] [PAD] [PAD] [PAD] [PAD] [PAD] [PAD] [PAD] [PAD]\n"
     ]
    }
   ],
   "source": [
    "# Pick a training example\n",
    "idx = 0\n",
    "sample = train_dataset[idx]\n",
    "\n",
    "# Decode input_ids back to text\n",
    "decoded = tokenizer.decode(sample['input_ids'], skip_special_tokens=False)\n",
    "print(\"Original query:\")\n",
    "print(train_df.iloc[idx]['query'])\n",
    "print(\"\\nDecoded tokens:\")\n",
    "print(decoded)"
   ]
  },
  {
   "cell_type": "code",
   "execution_count": null,
   "id": "9da19e08",
   "metadata": {},
   "outputs": [
    {
     "name": "stdout",
     "output_type": "stream",
     "text": [
      "Original query:\n",
      "What contains more protein digestibility: millet porridge or sorghum?\n",
      "\n",
      "Decoded tokens:\n",
      "[CLS] what contains more protein digestibility : millet porridge or sorghum? [SEP] [PAD] [PAD] [PAD] [PAD] [PAD] [PAD] [PAD] [PAD] [PAD] [PAD] [PAD] [PAD] [PAD] [PAD] [PAD] [PAD] [PAD] [PAD] [PAD] [PAD] [PAD] [PAD] [PAD] [PAD] [PAD] [PAD] [PAD] [PAD] [PAD] [PAD] [PAD] [PAD] [PAD] [PAD] [PAD] [PAD] [PAD] [PAD] [PAD] [PAD] [PAD] [PAD] [PAD] [PAD] [PAD] [PAD] [PAD] [PAD] [PAD] [PAD] [PAD] [PAD] [PAD] [PAD] [PAD] [PAD] [PAD] [PAD] [PAD] [PAD] [PAD] [PAD] [PAD] [PAD] [PAD] [PAD] [PAD] [PAD] [PAD] [PAD] [PAD] [PAD] [PAD] [PAD] [PAD] [PAD] [PAD] [PAD] [PAD] [PAD] [PAD] [PAD] [PAD] [PAD] [PAD] [PAD] [PAD] [PAD] [PAD] [PAD] [PAD] [PAD] [PAD] [PAD] [PAD] [PAD] [PAD] [PAD] [PAD] [PAD] [PAD] [PAD] [PAD] [PAD] [PAD] [PAD] [PAD] [PAD] [PAD] [PAD]\n"
     ]
    }
   ],
   "source": [
    "# Pick a training example and decode its tokens correctly\n",
    "idx = 0\n",
    "\n",
    "# Get the query text from train_df\n",
    "query_text = train_df.iloc[idx]['query']\n",
    "\n",
    "# Tokenize and decode using the same logic as your dataset\n",
    "encoding = tokenizer(\n",
    "    query_text,\n",
    "    truncation=True,\n",
    "    padding='max_length',\n",
    "    max_length=128,\n",
    "    return_tensors=None\n",
    ")\n",
    "decoded = tokenizer.decode(encoding['input_ids'], skip_special_tokens=False)\n",
    "\n",
    "print(\"Original query:\")\n",
    "print(query_text)\n",
    "print(\"\\nDecoded tokens:\")\n",
    "print(decoded)"
   ]
  },
  {
   "cell_type": "code",
   "execution_count": null,
   "id": "62207917",
   "metadata": {},
   "outputs": [
    {
     "data": {
      "text/html": [
       "<div>\n",
       "<style scoped>\n",
       "    .dataframe tbody tr th:only-of-type {\n",
       "        vertical-align: middle;\n",
       "    }\n",
       "\n",
       "    .dataframe tbody tr th {\n",
       "        vertical-align: top;\n",
       "    }\n",
       "\n",
       "    .dataframe thead th {\n",
       "        text-align: right;\n",
       "    }\n",
       "</style>\n",
       "<table border=\"1\" class=\"dataframe\">\n",
       "  <thead>\n",
       "    <tr style=\"text-align: right;\">\n",
       "      <th></th>\n",
       "      <th>id</th>\n",
       "      <th>query</th>\n",
       "      <th>label</th>\n",
       "      <th>complexity</th>\n",
       "      <th>recommended_llm</th>\n",
       "      <th>needs_followup</th>\n",
       "      <th>distractor_label</th>\n",
       "      <th>biomarkers</th>\n",
       "      <th>is_high_risk</th>\n",
       "    </tr>\n",
       "  </thead>\n",
       "  <tbody>\n",
       "    <tr>\n",
       "      <th>0</th>\n",
       "      <td>1</td>\n",
       "      <td>Compare the vitamin C content in fresh vs froz...</td>\n",
       "      <td>comparison</td>\n",
       "      <td>2</td>\n",
       "      <td>TinyLlama</td>\n",
       "      <td>True</td>\n",
       "      <td>NaN</td>\n",
       "      <td>[vitamin_c]</td>\n",
       "      <td>False</td>\n",
       "    </tr>\n",
       "    <tr>\n",
       "      <th>1</th>\n",
       "      <td>2</td>\n",
       "      <td>Which has lower phytate: unfermented ogi or so...</td>\n",
       "      <td>comparison</td>\n",
       "      <td>4</td>\n",
       "      <td>Mistral</td>\n",
       "      <td>True</td>\n",
       "      <td>NaN</td>\n",
       "      <td>[phytate]</td>\n",
       "      <td>False</td>\n",
       "    </tr>\n",
       "    <tr>\n",
       "      <th>2</th>\n",
       "      <td>3</td>\n",
       "      <td>How much zinc should a 3-year-old child with c...</td>\n",
       "      <td>recommendation</td>\n",
       "      <td>5</td>\n",
       "      <td>Mistral</td>\n",
       "      <td>True</td>\n",
       "      <td>NaN</td>\n",
       "      <td>[zinc]</td>\n",
       "      <td>False</td>\n",
       "    </tr>\n",
       "    <tr>\n",
       "      <th>3</th>\n",
       "      <td>4</td>\n",
       "      <td>What foods should I eat if I have CKD stage 3 ...</td>\n",
       "      <td>therapy</td>\n",
       "      <td>5</td>\n",
       "      <td>Mistral</td>\n",
       "      <td>False</td>\n",
       "      <td>NaN</td>\n",
       "      <td>[creatinine]</td>\n",
       "      <td>True</td>\n",
       "    </tr>\n",
       "    <tr>\n",
       "      <th>4</th>\n",
       "      <td>5</td>\n",
       "      <td>Explain how vitamin K helps with blood clotting</td>\n",
       "      <td>general</td>\n",
       "      <td>4</td>\n",
       "      <td>Mistral</td>\n",
       "      <td>False</td>\n",
       "      <td>NaN</td>\n",
       "      <td>[vitamin_k]</td>\n",
       "      <td>False</td>\n",
       "    </tr>\n",
       "    <tr>\n",
       "      <th>5</th>\n",
       "      <td>6</td>\n",
       "      <td>Compare protein quality of cowpea vs bambara n...</td>\n",
       "      <td>comparison</td>\n",
       "      <td>3</td>\n",
       "      <td>TinyLlama</td>\n",
       "      <td>True</td>\n",
       "      <td>NaN</td>\n",
       "      <td>[protein]</td>\n",
       "      <td>False</td>\n",
       "    </tr>\n",
       "    <tr>\n",
       "      <th>6</th>\n",
       "      <td>7</td>\n",
       "      <td>What's the recommended daily fiber intake for ...</td>\n",
       "      <td>recommendation</td>\n",
       "      <td>3</td>\n",
       "      <td>Mistral</td>\n",
       "      <td>True</td>\n",
       "      <td>NaN</td>\n",
       "      <td>[fiber]</td>\n",
       "      <td>False</td>\n",
       "    </tr>\n",
       "    <tr>\n",
       "      <th>7</th>\n",
       "      <td>8</td>\n",
       "      <td>Is palm oil or shea butter better for vitamin ...</td>\n",
       "      <td>comparison</td>\n",
       "      <td>2</td>\n",
       "      <td>TinyLlama</td>\n",
       "      <td>True</td>\n",
       "      <td>NaN</td>\n",
       "      <td>[]</td>\n",
       "      <td>False</td>\n",
       "    </tr>\n",
       "    <tr>\n",
       "      <th>8</th>\n",
       "      <td>9</td>\n",
       "      <td>Nutrition therapy for hypertension with creati...</td>\n",
       "      <td>therapy</td>\n",
       "      <td>5</td>\n",
       "      <td>Mistral</td>\n",
       "      <td>False</td>\n",
       "      <td>NaN</td>\n",
       "      <td>[creatinine]</td>\n",
       "      <td>True</td>\n",
       "    </tr>\n",
       "    <tr>\n",
       "      <th>9</th>\n",
       "      <td>10</td>\n",
       "      <td>How does iron get absorbed in the gut?</td>\n",
       "      <td>general</td>\n",
       "      <td>4</td>\n",
       "      <td>Mistral</td>\n",
       "      <td>False</td>\n",
       "      <td>NaN</td>\n",
       "      <td>[iron]</td>\n",
       "      <td>False</td>\n",
       "    </tr>\n",
       "  </tbody>\n",
       "</table>\n",
       "</div>"
      ],
      "text/plain": [
       "   id                                              query           label  \\\n",
       "0   1  Compare the vitamin C content in fresh vs froz...      comparison   \n",
       "1   2  Which has lower phytate: unfermented ogi or so...      comparison   \n",
       "2   3  How much zinc should a 3-year-old child with c...  recommendation   \n",
       "3   4  What foods should I eat if I have CKD stage 3 ...         therapy   \n",
       "4   5    Explain how vitamin K helps with blood clotting         general   \n",
       "5   6  Compare protein quality of cowpea vs bambara n...      comparison   \n",
       "6   7  What's the recommended daily fiber intake for ...  recommendation   \n",
       "7   8  Is palm oil or shea butter better for vitamin ...      comparison   \n",
       "8   9  Nutrition therapy for hypertension with creati...         therapy   \n",
       "9  10             How does iron get absorbed in the gut?         general   \n",
       "\n",
       "   complexity recommended_llm  needs_followup distractor_label    biomarkers  \\\n",
       "0           2       TinyLlama            True              NaN   [vitamin_c]   \n",
       "1           4         Mistral            True              NaN     [phytate]   \n",
       "2           5         Mistral            True              NaN        [zinc]   \n",
       "3           5         Mistral           False              NaN  [creatinine]   \n",
       "4           4         Mistral           False              NaN   [vitamin_k]   \n",
       "5           3       TinyLlama            True              NaN     [protein]   \n",
       "6           3         Mistral            True              NaN       [fiber]   \n",
       "7           2       TinyLlama            True              NaN            []   \n",
       "8           5         Mistral           False              NaN  [creatinine]   \n",
       "9           4         Mistral           False              NaN        [iron]   \n",
       "\n",
       "   is_high_risk  \n",
       "0         False  \n",
       "1         False  \n",
       "2         False  \n",
       "3          True  \n",
       "4         False  \n",
       "5         False  \n",
       "6         False  \n",
       "7         False  \n",
       "8          True  \n",
       "9         False  "
      ]
     },
     "execution_count": 90,
     "metadata": {},
     "output_type": "execute_result"
    }
   ],
   "source": [
    "df.head(10)"
   ]
  },
  {
   "cell_type": "code",
   "execution_count": null,
   "id": "a8ee24fc",
   "metadata": {},
   "outputs": [
    {
     "data": {
      "text/plain": [
       "4100"
      ]
     },
     "execution_count": 92,
     "metadata": {},
     "output_type": "execute_result"
    }
   ],
   "source": [
    "len(df['is_high_risk'])"
   ]
  },
  {
   "cell_type": "code",
   "execution_count": null,
   "id": "40e5c5ac",
   "metadata": {},
   "outputs": [],
   "source": []
  }
 ],
 "metadata": {
  "kernelspec": {
   "display_name": "nut_class_env",
   "language": "python",
   "name": "python3"
  },
  "language_info": {
   "codemirror_mode": {
    "name": "ipython",
    "version": 3
   },
   "file_extension": ".py",
   "mimetype": "text/x-python",
   "name": "python",
   "nbconvert_exporter": "python",
   "pygments_lexer": "ipython3",
   "version": "3.10.18"
  }
 },
 "nbformat": 4,
 "nbformat_minor": 5
}
