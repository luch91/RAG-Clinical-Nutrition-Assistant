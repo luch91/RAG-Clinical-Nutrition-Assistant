{
 "cells": [
  {
   "cell_type": "markdown",
   "id": "8984c44e",
   "metadata": {},
   "source": [
    "\n",
    "### NUTRITION QUERY CLASSIFIER TRAINING\n",
    "#### **Portfolio-Ready • Clinically Safe • Production-Optimized**\n",
    "#\n",
    "#### This notebook trains a DistilBERT classifier for nutrition queries with:\n",
    "#### - ✅ **90%+ therapy query accuracy** (critical for clinical safety)\n",
    "#### - ✅ **Biomarker-aware tokenization** (for better clinical understanding)\n",
    "#### - ✅ **Risk-weighted training** (prioritizes high-risk queries)"
   ]
  },
  {
   "cell_type": "code",
   "execution_count": 2,
   "id": "cdaeb174",
   "metadata": {},
   "outputs": [
    {
     "name": "stdout",
     "output_type": "stream",
     "text": [
      "Requirement already satisfied: matplotlib in c:\\users\\user\\miniconda3\\envs\\nut_class_env\\lib\\site-packages (3.10.5)\n",
      "Requirement already satisfied: contourpy>=1.0.1 in c:\\users\\user\\miniconda3\\envs\\nut_class_env\\lib\\site-packages (from matplotlib) (1.3.2)\n",
      "Requirement already satisfied: cycler>=0.10 in c:\\users\\user\\miniconda3\\envs\\nut_class_env\\lib\\site-packages (from matplotlib) (0.12.1)\n",
      "Requirement already satisfied: fonttools>=4.22.0 in c:\\users\\user\\miniconda3\\envs\\nut_class_env\\lib\\site-packages (from matplotlib) (4.59.1)\n",
      "Requirement already satisfied: kiwisolver>=1.3.1 in c:\\users\\user\\miniconda3\\envs\\nut_class_env\\lib\\site-packages (from matplotlib) (1.4.9)\n",
      "Requirement already satisfied: numpy>=1.23 in c:\\users\\user\\miniconda3\\envs\\nut_class_env\\lib\\site-packages (from matplotlib) (1.26.4)\n",
      "Requirement already satisfied: packaging>=20.0 in c:\\users\\user\\miniconda3\\envs\\nut_class_env\\lib\\site-packages (from matplotlib) (25.0)\n",
      "Requirement already satisfied: pillow>=8 in c:\\users\\user\\miniconda3\\envs\\nut_class_env\\lib\\site-packages (from matplotlib) (11.3.0)\n",
      "Requirement already satisfied: pyparsing>=2.3.1 in c:\\users\\user\\miniconda3\\envs\\nut_class_env\\lib\\site-packages (from matplotlib) (3.2.3)\n",
      "Requirement already satisfied: python-dateutil>=2.7 in c:\\users\\user\\miniconda3\\envs\\nut_class_env\\lib\\site-packages (from matplotlib) (2.9.0.post0)\n",
      "Requirement already satisfied: six>=1.5 in c:\\users\\user\\miniconda3\\envs\\nut_class_env\\lib\\site-packages (from python-dateutil>=2.7->matplotlib) (1.17.0)\n"
     ]
    }
   ],
   "source": [
    "!pip install matplotlib"
   ]
  },
  {
   "cell_type": "code",
   "execution_count": null,
   "id": "89e348e0",
   "metadata": {},
   "outputs": [],
   "source": [
    "!pip install seaborn"
   ]
  },
  {
   "cell_type": "code",
   "execution_count": 3,
   "id": "c3f44890",
   "metadata": {},
   "outputs": [
    {
     "name": "stderr",
     "output_type": "stream",
     "text": [
      "c:\\Users\\user\\miniconda3\\envs\\nut_class_env\\lib\\site-packages\\tqdm\\auto.py:21: TqdmWarning: IProgress not found. Please update jupyter and ipywidgets. See https://ipywidgets.readthedocs.io/en/stable/user_install.html\n",
      "  from .autonotebook import tqdm as notebook_tqdm\n"
     ]
    }
   ],
   "source": [
    "import os\n",
    "import re\n",
    "import pandas as pd\n",
    "import numpy as np\n",
    "import matplotlib.pyplot as plt\n",
    "import seaborn as sns\n",
    "from sklearn.model_selection import train_test_split, StratifiedKFold\n",
    "from sklearn.metrics import f1_score, precision_recall_fscore_support, classification_report\n",
    "\n",
    "import torch\n",
    "import torch.nn as nn\n",
    "from torch.utils.data import Dataset, DataLoader\n",
    "from transformers import (\n",
    "    DistilBertTokenizer,\n",
    "    DistilBertModel,\n",
    "    TrainingArguments,\n",
    "    Trainer,\n",
    "    EarlyStoppingCallback,\n",
    "    AutoTokenizer\n",
    ")\n",
    "\n",
    "import logging\n",
    "\n",
    "# Optional: set logger\n",
    "logging.basicConfig(format=\"%(asctime)s | %(levelname)s | %(message)s\", level=logging.INFO)\n",
    "logger = logging.getLogger(\"phase2\")\n",
    "logger.setLevel(logging.INFO)\n"
   ]
  },
  {
   "cell_type": "code",
   "execution_count": 4,
   "id": "3396e27a",
   "metadata": {},
   "outputs": [],
   "source": [
    "# Set up logging\n",
    "logging.basicConfig(level=logging.INFO)\n",
    "logger = logging.getLogger(__name__)"
   ]
  },
  {
   "cell_type": "code",
   "execution_count": 5,
   "id": "ad776286",
   "metadata": {},
   "outputs": [],
   "source": [
    "# Set random seed for reproducibility (portfolio requirement)\n",
    "torch.manual_seed(42)\n",
    "np.random.seed(42)\n",
    "if torch.cuda.is_available():\n",
    "    torch.cuda.manual_seed_all(42)\n"
   ]
  },
  {
   "cell_type": "code",
   "execution_count": 6,
   "id": "eb656bd0",
   "metadata": {},
   "outputs": [],
   "source": [
    "# Configure matplotlib for better visuals\n",
    "#plt.style.use('seaborn-whitegrid')\n",
    "%matplotlib inline"
   ]
  },
  {
   "cell_type": "markdown",
   "id": "5f527121",
   "metadata": {},
   "source": [
    "##### Loading Dataset"
   ]
  },
  {
   "cell_type": "code",
   "execution_count": 7,
   "id": "00d09b02",
   "metadata": {},
   "outputs": [
    {
     "name": "stderr",
     "output_type": "stream",
     "text": [
      "2025-10-13 21:41:52,133 | INFO | Loading dataset from ../data/nutrition_queries_with_pediatrics.csv\n"
     ]
    }
   ],
   "source": [
    "DATA_PATH = \"../data/nutrition_queries_with_pediatrics.csv\"\n",
    "logger.info(f\"Loading dataset from {DATA_PATH}\")\n",
    "df = pd.read_csv(DATA_PATH)\n"
   ]
  },
  {
   "cell_type": "code",
   "execution_count": 8,
   "id": "1af5c790",
   "metadata": {},
   "outputs": [
    {
     "name": "stdout",
     "output_type": "stream",
     "text": [
      "<class 'pandas.core.frame.DataFrame'>\n",
      "RangeIndex: 5200 entries, 0 to 5199\n",
      "Data columns (total 9 columns):\n",
      " #   Column            Non-Null Count  Dtype \n",
      "---  ------            --------------  ----- \n",
      " 0   query             5200 non-null   object\n",
      " 1   label             5200 non-null   object\n",
      " 2   complexity        5200 non-null   object\n",
      " 3   recommended_llm   5200 non-null   object\n",
      " 4   needs_followup    5200 non-null   object\n",
      " 5   distractor_label  1800 non-null   object\n",
      " 6   biomarkers        5200 non-null   object\n",
      " 7   is_high_risk      5200 non-null   bool  \n",
      " 8   query_length      5200 non-null   int64 \n",
      "dtypes: bool(1), int64(1), object(7)\n",
      "memory usage: 330.2+ KB\n"
     ]
    }
   ],
   "source": [
    "df.info()"
   ]
  },
  {
   "cell_type": "code",
   "execution_count": 9,
   "id": "170cf863",
   "metadata": {},
   "outputs": [
    {
     "name": "stderr",
     "output_type": "stream",
     "text": [
      "2025-10-13 21:41:52,249 | INFO | Dataset shape: (5200, 9)\n",
      "2025-10-13 21:41:52,253 | INFO | Columns: ['query', 'label', 'complexity', 'recommended_llm', 'needs_followup', 'distractor_label', 'biomarkers', 'is_high_risk', 'query_length']\n"
     ]
    }
   ],
   "source": [
    "logger.info(f\"Dataset shape: {df.shape}\")\n",
    "logger.info(f\"Columns: {df.columns.tolist()}\")"
   ]
  },
  {
   "cell_type": "code",
   "execution_count": 10,
   "id": "b6de9456",
   "metadata": {},
   "outputs": [
    {
     "data": {
      "text/html": [
       "<div>\n",
       "<style scoped>\n",
       "    .dataframe tbody tr th:only-of-type {\n",
       "        vertical-align: middle;\n",
       "    }\n",
       "\n",
       "    .dataframe tbody tr th {\n",
       "        vertical-align: top;\n",
       "    }\n",
       "\n",
       "    .dataframe thead th {\n",
       "        text-align: right;\n",
       "    }\n",
       "</style>\n",
       "<table border=\"1\" class=\"dataframe\">\n",
       "  <thead>\n",
       "    <tr style=\"text-align: right;\">\n",
       "      <th></th>\n",
       "      <th>query</th>\n",
       "      <th>label</th>\n",
       "      <th>complexity</th>\n",
       "      <th>recommended_llm</th>\n",
       "      <th>needs_followup</th>\n",
       "      <th>distractor_label</th>\n",
       "      <th>biomarkers</th>\n",
       "      <th>is_high_risk</th>\n",
       "      <th>query_length</th>\n",
       "    </tr>\n",
       "  </thead>\n",
       "  <tbody>\n",
       "    <tr>\n",
       "      <th>0</th>\n",
       "      <td>Compare the vitamin C content in fresh vs froz...</td>\n",
       "      <td>comparison</td>\n",
       "      <td>2</td>\n",
       "      <td>TinyLlama</td>\n",
       "      <td>True</td>\n",
       "      <td>NaN</td>\n",
       "      <td>['vitamin_c']</td>\n",
       "      <td>False</td>\n",
       "      <td>10</td>\n",
       "    </tr>\n",
       "    <tr>\n",
       "      <th>1</th>\n",
       "      <td>Which has lower phytate: unfermented ogi or so...</td>\n",
       "      <td>comparison</td>\n",
       "      <td>4</td>\n",
       "      <td>Mistral</td>\n",
       "      <td>True</td>\n",
       "      <td>NaN</td>\n",
       "      <td>['phytate']</td>\n",
       "      <td>False</td>\n",
       "      <td>9</td>\n",
       "    </tr>\n",
       "    <tr>\n",
       "      <th>2</th>\n",
       "      <td>How much zinc should a 3-year-old child with c...</td>\n",
       "      <td>recommendation</td>\n",
       "      <td>5</td>\n",
       "      <td>Mistral</td>\n",
       "      <td>True</td>\n",
       "      <td>NaN</td>\n",
       "      <td>['zinc']</td>\n",
       "      <td>True</td>\n",
       "      <td>12</td>\n",
       "    </tr>\n",
       "    <tr>\n",
       "      <th>3</th>\n",
       "      <td>What foods should I eat if I have CKD stage 3 ...</td>\n",
       "      <td>therapy</td>\n",
       "      <td>5</td>\n",
       "      <td>Mistral</td>\n",
       "      <td>False</td>\n",
       "      <td>NaN</td>\n",
       "      <td>['creatinine']</td>\n",
       "      <td>True</td>\n",
       "      <td>15</td>\n",
       "    </tr>\n",
       "    <tr>\n",
       "      <th>4</th>\n",
       "      <td>Explain how vitamin K helps with blood clotting</td>\n",
       "      <td>general</td>\n",
       "      <td>4</td>\n",
       "      <td>Mistral</td>\n",
       "      <td>False</td>\n",
       "      <td>NaN</td>\n",
       "      <td>['vitamin_k']</td>\n",
       "      <td>False</td>\n",
       "      <td>8</td>\n",
       "    </tr>\n",
       "    <tr>\n",
       "      <th>5</th>\n",
       "      <td>Compare protein quality of cowpea vs bambara n...</td>\n",
       "      <td>comparison</td>\n",
       "      <td>3</td>\n",
       "      <td>TinyLlama</td>\n",
       "      <td>True</td>\n",
       "      <td>NaN</td>\n",
       "      <td>['protein']</td>\n",
       "      <td>False</td>\n",
       "      <td>10</td>\n",
       "    </tr>\n",
       "    <tr>\n",
       "      <th>6</th>\n",
       "      <td>What's the recommended daily fiber intake for ...</td>\n",
       "      <td>recommendation</td>\n",
       "      <td>3</td>\n",
       "      <td>Mistral</td>\n",
       "      <td>True</td>\n",
       "      <td>NaN</td>\n",
       "      <td>[]</td>\n",
       "      <td>False</td>\n",
       "      <td>11</td>\n",
       "    </tr>\n",
       "    <tr>\n",
       "      <th>7</th>\n",
       "      <td>Is palm oil or shea butter better for vitamin ...</td>\n",
       "      <td>comparison</td>\n",
       "      <td>2</td>\n",
       "      <td>TinyLlama</td>\n",
       "      <td>True</td>\n",
       "      <td>NaN</td>\n",
       "      <td>['vitamin_e']</td>\n",
       "      <td>False</td>\n",
       "      <td>11</td>\n",
       "    </tr>\n",
       "    <tr>\n",
       "      <th>8</th>\n",
       "      <td>Nutrition therapy for hypertension with creati...</td>\n",
       "      <td>therapy</td>\n",
       "      <td>5</td>\n",
       "      <td>Mistral</td>\n",
       "      <td>False</td>\n",
       "      <td>NaN</td>\n",
       "      <td>['creatinine']</td>\n",
       "      <td>True</td>\n",
       "      <td>8</td>\n",
       "    </tr>\n",
       "    <tr>\n",
       "      <th>9</th>\n",
       "      <td>How does iron get absorbed in the gut?</td>\n",
       "      <td>general</td>\n",
       "      <td>4</td>\n",
       "      <td>Mistral</td>\n",
       "      <td>False</td>\n",
       "      <td>NaN</td>\n",
       "      <td>['iron']</td>\n",
       "      <td>False</td>\n",
       "      <td>8</td>\n",
       "    </tr>\n",
       "  </tbody>\n",
       "</table>\n",
       "</div>"
      ],
      "text/plain": [
       "                                               query           label  \\\n",
       "0  Compare the vitamin C content in fresh vs froz...      comparison   \n",
       "1  Which has lower phytate: unfermented ogi or so...      comparison   \n",
       "2  How much zinc should a 3-year-old child with c...  recommendation   \n",
       "3  What foods should I eat if I have CKD stage 3 ...         therapy   \n",
       "4    Explain how vitamin K helps with blood clotting         general   \n",
       "5  Compare protein quality of cowpea vs bambara n...      comparison   \n",
       "6  What's the recommended daily fiber intake for ...  recommendation   \n",
       "7  Is palm oil or shea butter better for vitamin ...      comparison   \n",
       "8  Nutrition therapy for hypertension with creati...         therapy   \n",
       "9             How does iron get absorbed in the gut?         general   \n",
       "\n",
       "  complexity recommended_llm needs_followup distractor_label      biomarkers  \\\n",
       "0          2       TinyLlama           True              NaN   ['vitamin_c']   \n",
       "1          4         Mistral           True              NaN     ['phytate']   \n",
       "2          5         Mistral           True              NaN        ['zinc']   \n",
       "3          5         Mistral          False              NaN  ['creatinine']   \n",
       "4          4         Mistral          False              NaN   ['vitamin_k']   \n",
       "5          3       TinyLlama           True              NaN     ['protein']   \n",
       "6          3         Mistral           True              NaN              []   \n",
       "7          2       TinyLlama           True              NaN   ['vitamin_e']   \n",
       "8          5         Mistral          False              NaN  ['creatinine']   \n",
       "9          4         Mistral          False              NaN        ['iron']   \n",
       "\n",
       "   is_high_risk  query_length  \n",
       "0         False            10  \n",
       "1         False             9  \n",
       "2          True            12  \n",
       "3          True            15  \n",
       "4         False             8  \n",
       "5         False            10  \n",
       "6         False            11  \n",
       "7         False            11  \n",
       "8          True             8  \n",
       "9         False             8  "
      ]
     },
     "execution_count": 10,
     "metadata": {},
     "output_type": "execute_result"
    }
   ],
   "source": [
    "df.head(10)"
   ]
  },
  {
   "cell_type": "markdown",
   "id": "ae656ec8",
   "metadata": {},
   "source": [
    "### Exloratory Data Analysis\n",
    "#### Clinical Risk Profiling\n",
    "##### **This section identifies high-risk patterns critical for healthcare AI**\n"
   ]
  },
  {
   "cell_type": "code",
   "execution_count": 11,
   "id": "c941139b",
   "metadata": {},
   "outputs": [
    {
     "data": {
      "text/plain": [
       "Text(0, 0.5, 'Count')"
      ]
     },
     "execution_count": 11,
     "metadata": {},
     "output_type": "execute_result"
    },
    {
     "data": {
      "image/png": "[encoded data removed]",
      "text/plain": [
       "<Figure size 1000x600 with 1 Axes>"
      ]
     },
     "metadata": {},
     "output_type": "display_data"
    }
   ],
   "source": [
    "# 2.1 Label Distribution Analysis\n",
    "plt.figure(figsize=(10, 6))\n",
    "ax = sns.countplot(data=df, x='label', order=['comparison', 'recommendation', 'therapy', 'general'])\n",
    "plt.title('Query Type Distribution', fontsize=16)\n",
    "plt.xlabel('Query Type', fontsize=14)\n",
    "plt.ylabel('Count', fontsize=14)\n"
   ]
  },
  {
   "cell_type": "code",
   "execution_count": 12,
   "id": "ea80ceb8",
   "metadata": {},
   "outputs": [
    {
     "data": {
      "text/plain": [
       "<Figure size 640x480 with 0 Axes>"
      ]
     },
     "metadata": {},
     "output_type": "display_data"
    }
   ],
   "source": [
    "# Add value labels\n",
    "os.makedirs(\"eda\", exist_ok=True)\n",
    "for p in ax.patches:\n",
    "    ax.annotate(f'{int(p.get_height())}', \n",
    "                (p.get_x() + p.get_width() / 2., p.get_height()),\n",
    "                ha='center', va='center', \n",
    "                xytext=(0, 5), \n",
    "                textcoords='offset points',\n",
    "                fontsize=12)\n",
    "\n",
    "plt.tight_layout()\n",
    "plt.savefig('eda/label_distribution.png', dpi=300, bbox_inches='tight')\n",
    "plt.show()\n"
   ]
  },
  {
   "cell_type": "code",
   "execution_count": 13,
   "id": "9ffbd7db",
   "metadata": {},
   "outputs": [
    {
     "data": {
      "image/png": "[encoded data removed]",
      "text/plain": [
       "<Figure size 800x500 with 1 Axes>"
      ]
     },
     "metadata": {},
     "output_type": "display_data"
    }
   ],
   "source": [
    "# 2.2 Complexity Distribution\n",
    "plt.figure(figsize=(8, 5))\n",
    "ax = sns.countplot(data=df, x='complexity', order=sorted(df['complexity'].unique()))\n",
    "plt.title('Query Complexity Distribution', fontsize=16)\n",
    "plt.xlabel('Complexity Level', fontsize=14)\n",
    "plt.ylabel('Count', fontsize=14)\n",
    "\n",
    "# Add value labels\n",
    "for p in ax.patches:\n",
    "    ax.annotate(f'{int(p.get_height())}',\n",
    "                (p.get_x() + p.get_width() / 2., p.get_height()),\n",
    "                ha='center', va='center',\n",
    "                xytext=(0, 5),\n",
    "                textcoords='offset points',\n",
    "                fontsize=12)\n",
    "\n",
    "plt.tight_layout()\n",
    "plt.savefig('eda/complexity_distribution.png', dpi=300, bbox_inches='tight')\n",
    "plt.show()\n"
   ]
  },
  {
   "cell_type": "code",
   "execution_count": 14,
   "id": "85c75a40",
   "metadata": {},
   "outputs": [
    {
     "name": "stderr",
     "output_type": "stream",
     "text": [
      "2025-10-13 21:41:53,712 | INFO | Therapy queries: 1215 (23.4%) - critical for clinical safety\n"
     ]
    }
   ],
   "source": [
    "# Calculate class imbalance\n",
    "class_counts = df['label'].value_counts()\n",
    "therapy_pct = class_counts['therapy'] / len(df) * 100\n",
    "logger.info(f\"Therapy queries: {class_counts['therapy']} ({therapy_pct:.1f}%) - critical for clinical safety\")\n"
   ]
  },
  {
   "cell_type": "code",
   "execution_count": 16,
   "id": "f8df034b",
   "metadata": {},
   "outputs": [
    {
     "name": "stderr",
     "output_type": "stream",
     "text": [
      "2025-10-13 21:44:25,903 | INFO | High-risk queries (therapy + complexity ≥4): 867 (16.7%)\n"
     ]
    }
   ],
   "source": [
    "# Calculate high-risk queries\n",
    "df['complexity'] = pd.to_numeric(df['complexity'], errors='coerce')\n",
    "high_risk_mask = (df['label'] == 'therapy') & (df['complexity'] >= 4)\n",
    "high_risk_pct = sum(high_risk_mask) / len(df) * 100\n",
    "logger.info(f\"High-risk queries (therapy + complexity ≥4): {sum(high_risk_mask)} ({high_risk_pct:.1f}%)\")\n"
   ]
  },
  {
   "cell_type": "markdown",
   "id": "9b88732f",
   "metadata": {},
   "source": [
    "Biomarkers Count for all  Queries\n"
   ]
  },
  {
   "cell_type": "code",
   "execution_count": 17,
   "id": "6f414ee8",
   "metadata": {},
   "outputs": [
    {
     "name": "stdout",
     "output_type": "stream",
     "text": [
      "✅ Number of queries with biomarkers: 839\n",
      "🔬 Unique biomarkers: {'lactate', 'creatine', 'vitamin_e', 'lysine', 'ferritin', 'potassium', 'methionine', 'gags', 'vitamin_k', 'iodine', '7_dehydrocholesterol', 'methylmalonic_acid', 'glycine', 'sodium', 'galactose_1_phosphate', 'bilirubin', 'leucine', 'crp', 'chromium', 'calcium', 'selenium', 'vitamin_b12', 'carnitine', 'choline', 'vitamin_d', 'egfr', 'tryptophan', 'ammonia', 'zinc', 'homocysteine', 'afp', 'hmg_acid', 'folate', 'valine', 'biotin', 'vitamin_c', 'phosphorus', 'amino_acids', 'gut_health', 'orotic_acid', 'tsh', 'magnesium', 'succinylacetone', 'oxalate', 'glycemic_index', 'vitamin_a', 'calprotectin', 'phytate', 'glucose', 'phenylalanine', 'protein', 'thiamine', 'ldl_cholesterol', 'tyrosine', 'alt', 'gut_microbiome', 'isoleucine', 'lycopene', 'uric_acid', 'vlcfa', 'iron', 'creatinine', 'omega_3', 'urea', 'hba1c'}\n",
      "🔢 Total unique biomarkers: 65\n"
     ]
    }
   ],
   "source": [
    "import ast\n",
    "\n",
    "# Reload and force biomarkers back to real lists\n",
    "df = pd.read_csv(\"../data/nutrition_queries_dataset.csv\")\n",
    "\n",
    "def safe_parse(x):\n",
    "    try:\n",
    "        if pd.isna(x) or x.strip() == \"\":\n",
    "            return []\n",
    "        return ast.literal_eval(x)\n",
    "    except Exception:\n",
    "        return []\n",
    "\n",
    "df[\"biomarkers\"] = df[\"biomarkers\"].apply(safe_parse)\n",
    "\n",
    "# Now re-check counts\n",
    "num_with_biomarkers = df[\"biomarkers\"].apply(lambda x: isinstance(x, list) and len(x) > 0).sum()\n",
    "print(\"✅ Number of queries with biomarkers:\", num_with_biomarkers)\n",
    "\n",
    "all_biomarkers = set(b for sublist in df[\"biomarkers\"] for b in sublist)\n",
    "print(\"🔬 Unique biomarkers:\", all_biomarkers)\n",
    "print(\"🔢 Total unique biomarkers:\", len(all_biomarkers))\n"
   ]
  },
  {
   "cell_type": "code",
   "execution_count": 18,
   "id": "2bfdaccc",
   "metadata": {},
   "outputs": [
    {
     "name": "stdout",
     "output_type": "stream",
     "text": [
      "[['vitamin_c'], ['phytate'], ['zinc'], ['creatinine'], ['vitamin_k'], ['protein'], [], ['vitamin_e'], ['creatinine'], ['iron'], ['iron'], [], ['phytate'], ['vitamin_d'], ['glycemic_index'], ['ferritin'], ['omega_3'], ['calcium'], ['lysine'], ['vitamin_c']]\n"
     ]
    }
   ],
   "source": [
    "print(df[\"biomarkers\"].head(20).tolist())\n"
   ]
  },
  {
   "cell_type": "code",
   "execution_count": 19,
   "id": "e55c4581",
   "metadata": {},
   "outputs": [
    {
     "data": {
      "image/png": "[encoded data removed]",
      "text/plain": [
       "<Figure size 1000x600 with 1 Axes>"
      ]
     },
     "metadata": {},
     "output_type": "display_data"
    }
   ],
   "source": [
    "import matplotlib.pyplot as plt\n",
    "from collections import Counter\n",
    "\n",
    "# Flatten biomarker lists\n",
    "all_biomarkers = [b for sublist in df[\"biomarkers\"] for b in sublist]\n",
    "\n",
    "# Count frequencies\n",
    "biomarker_counts = Counter(all_biomarkers)\n",
    "\n",
    "# Plot\n",
    "plt.figure(figsize=(10, 6))\n",
    "plt.bar(biomarker_counts.keys(), biomarker_counts.values())\n",
    "plt.xticks(rotation=45, ha=\"right\")\n",
    "plt.title(\"Biomarker Frequency in Nutrition Queries\")\n",
    "plt.xlabel(\"Biomarker\")\n",
    "plt.ylabel(\"Count\")\n",
    "plt.tight_layout()\n",
    "plt.show()\n"
   ]
  },
  {
   "cell_type": "code",
   "execution_count": 20,
   "id": "9965d16e",
   "metadata": {},
   "outputs": [
    {
     "data": {
      "image/png": "[encoded data removed]",
      "text/plain": [
       "<Figure size 1200x600 with 1 Axes>"
      ]
     },
     "metadata": {},
     "output_type": "display_data"
    }
   ],
   "source": [
    "import matplotlib.pyplot as plt\n",
    "from collections import Counter\n",
    "import numpy as np\n",
    "\n",
    "# Collect biomarker counts per query type\n",
    "biomarker_by_label = {}\n",
    "\n",
    "for label in df[\"label\"].unique():\n",
    "    biomarkers = [b for sublist in df[df[\"label\"] == label][\"biomarkers\"] for b in sublist]\n",
    "    biomarker_by_label[label] = Counter(biomarkers)\n",
    "\n",
    "# Get all unique biomarkers\n",
    "all_biomarkers = sorted({b for sublist in df[\"biomarkers\"] for b in sublist})\n",
    "\n",
    "# Prepare data for grouped bar plot\n",
    "labels = list(biomarker_by_label.keys())\n",
    "x = np.arange(len(all_biomarkers))  # positions for biomarkers\n",
    "width = 0.4  # width of each bar\n",
    "\n",
    "plt.figure(figsize=(12, 6))\n",
    "\n",
    "for i, label in enumerate(labels):\n",
    "    counts = [biomarker_by_label[label][b] for b in all_biomarkers]\n",
    "    plt.bar(x + i*width, counts, width, label=label)\n",
    "\n",
    "# Formatting\n",
    "plt.xticks(x + width, all_biomarkers, rotation=45, ha=\"right\")\n",
    "plt.ylabel(\"Count\")\n",
    "plt.title(\"Biomarker Frequency by Query Type\")\n",
    "plt.legend(title=\"Query Type\")\n",
    "plt.tight_layout()\n",
    "plt.show()\n"
   ]
  },
  {
   "cell_type": "code",
   "execution_count": 21,
   "id": "c1f1d5f5",
   "metadata": {},
   "outputs": [
    {
     "data": {
      "image/png": "[encoded data removed]",
      "text/plain": [
       "<Figure size 1200x600 with 1 Axes>"
      ]
     },
     "metadata": {},
     "output_type": "display_data"
    }
   ],
   "source": [
    "# Flatten all biomarkers and count frequency\n",
    "all_biomarkers = [b for sublist in df[\"biomarkers\"] for b in sublist]\n",
    "biomarker_counts = Counter(all_biomarkers)\n",
    "\n",
    "# Select top 10 biomarkers\n",
    "top10_biomarkers = [b for b, _ in biomarker_counts.most_common(10)]\n",
    "\n",
    "# Collect biomarker counts per query type, restricted to top 10\n",
    "biomarker_by_label = {}\n",
    "for label in df[\"label\"].unique():\n",
    "    biomarkers = [b for sublist in df[df[\"label\"] == label][\"biomarkers\"] for b in sublist]\n",
    "    counts = Counter(biomarkers)\n",
    "    biomarker_by_label[label] = {b: counts[b] for b in top10_biomarkers}\n",
    "\n",
    "# Prepare data for grouped bar plot\n",
    "labels = list(biomarker_by_label.keys())\n",
    "x = np.arange(len(top10_biomarkers))  # positions for biomarkers\n",
    "width = 0.2  # width of each bar\n",
    "\n",
    "plt.figure(figsize=(12, 6))\n",
    "\n",
    "for i, label in enumerate(labels):\n",
    "    counts = [biomarker_by_label[label][b] for b in top10_biomarkers]\n",
    "    plt.bar(x + i*width, counts, width, label=label)\n",
    "\n",
    "# Formatting\n",
    "plt.xticks(x + width, top10_biomarkers, rotation=45, ha=\"right\")\n",
    "plt.ylabel(\"Count\")\n",
    "plt.title(\"Top 10 Biomarkers by Query Type\")\n",
    "plt.legend(title=\"Query Type\")\n",
    "plt.tight_layout()\n",
    "plt.show()\n"
   ]
  },
  {
   "cell_type": "markdown",
   "id": "2bdcf68a",
   "metadata": {},
   "source": [
    "#### Clinical Data Preprocessing\n",
    "##### **Engineered for clinical safety and RAG integration**\n"
   ]
  },
  {
   "cell_type": "markdown",
   "id": "182b6a34",
   "metadata": {},
   "source": [
    "#### Adding Clinal Metadata(Biomarkers + High-Risk Flagging)"
   ]
  },
  {
   "cell_type": "code",
   "execution_count": 51,
   "id": "bdda0b88",
   "metadata": {},
   "outputs": [
    {
     "name": "stderr",
     "output_type": "stream",
     "text": [
      "2025-10-14 01:22:19,854 | INFO | ✅ Clinical metadata added: biomarkers, is_high_risk\n",
      "2025-10-14 01:22:19,854 | INFO | ✅ BIOMARKERS defined for tokenization: ['creatinine', 'HbA1c', 'ferritin', 'urea', 'albumin', 'glucose', 'zinc', 'iron', 'protein', 'fiber', 'calcium', 'phytate', 'potassium', 'sodium', 'magnesium', 'phosphorus', 'cholesterol', 'triglycerides', 'bilirubin', 'vitamin B12', 'vitamin C', 'vitamin A', 'vitamin D', 'vitamin K']\n",
      "2025-10-14 01:22:19,891 | INFO | Train/Test split completed with stratification\n",
      "2025-10-14 01:22:19,892 | INFO | Train size: 3280, Test size: 820\n",
      "2025-10-14 01:22:19,895 | INFO | Therapy in test: 25.1%\n",
      "2025-10-14 01:22:19,897 | INFO | High-risk in test: 16.7%\n"
     ]
    }
   ],
   "source": [
    "#\n",
    "\n",
    "import re\n",
    "import pandas as pd\n",
    "import numpy as np\n",
    "from sklearn.model_selection import train_test_split\n",
    "import logging\n",
    "\n",
    "# Set up logger\n",
    "logger = logging.getLogger(__name__)\n",
    "logging.basicConfig(level=logging.INFO)\n",
    "\n",
    "# ========================================\n",
    "# 1. Add Clinical Metadata (Biomarkers + High-Risk Flag)\n",
    "# ========================================\n",
    "def add_clinical_metadata(df: pd.DataFrame) -> pd.DataFrame:\n",
    "    \"\"\"\n",
    "    Enhance dataset with clinical + nutrient safety metadata:\n",
    "    - biomarkers: list[str] of detected biomarker names in the query\n",
    "    - is_high_risk: bool flag for (label == therapy) & (complexity >= 4)\n",
    "    \"\"\"\n",
    "    # Ensure required cols exist\n",
    "    assert 'query' in df.columns, \"'query' column missing\"\n",
    "    assert 'label' in df.columns, \"'label' column missing\"\n",
    "    assert 'complexity' in df.columns, \"'complexity' column missing\"\n",
    "\n",
    "    df = df.copy()\n",
    " \n",
    "    df['biomarkers'] = [[] for _ in range(len(df))]  # independent lists\n",
    "\n",
    "    # Biomarker patterns (with synonyms/aliases)\n",
    "    biomarker_patterns = {\n",
    "        # ---- Clinical ----\n",
    "        'creatinine':   r'creatinine',\n",
    "        'hba1c':        r'\\bHbA1c\\b',\n",
    "        'ferritin':     r'\\bferritin\\b',\n",
    "        'urea':         r'\\burea\\b',\n",
    "        'fbs':          r'(?:FBS|fasting blood sugar|fasting glucose)',\n",
    "        'bp':           r'(?:blood pressure|BP)\\s*\\d{2,3}/\\d{2,3}',\n",
    "\n",
    "        # ---- Nutrient Biomarkers with aliases ----\n",
    "        'vitamin_b12':  r'(?:vitamin\\s*B12|cobalamin)',\n",
    "        'vitamin_c':    r'(?:vitamin\\s*C|ascorbic acid)',\n",
    "        'vitamin_a':    r'(?:vitamin\\s*A|retinol)',\n",
    "        'vitamin_d':    r'(?:vitamin\\s*D|cholecalciferol|ergocalciferol)',\n",
    "        'vitamin_k':    r'(?:vitamin\\s*K|phylloquinone|menaquinone)',\n",
    "        'zinc':         r'\\bzinc\\b',\n",
    "        'iron':         r'\\biron\\b',\n",
    "        'protein':      r'\\bprotein\\b',\n",
    "        'fiber':        r'\\bfiber\\b',\n",
    "        'calcium':      r'\\bcalcium\\b',\n",
    "        'phytate':      r'\\bphytate\\b',\n",
    "        'potassium':    r'\\bpotassium\\b',\n",
    "        'sodium':       r'\\bsodium\\b',\n",
    "        'magnesium':    r'\\bmagnesium\\b',\n",
    "        'phosphorus':   r'\\bphosphorus\\b',\n",
    "        'cholesterol':  r'\\bcholesterol\\b',\n",
    "        'triglycerides':r'\\btriglycerides?\\b',\n",
    "        'glucose':      r'\\bglucose\\b',\n",
    "        'albumin':      r'(?:\\balbumin\\b|albuminuria)',\n",
    "        'bilirubin':    r'\\bbilirubin\\b',\n",
    "    }\n",
    "\n",
    "    # Detect presence of biomarkers\n",
    "    for name, pattern in biomarker_patterns.items():\n",
    "        mask = df['query'].str.contains(pattern, case=False, regex=True, na=False)\n",
    "        df.loc[mask, 'biomarkers'] = df.loc[mask, 'biomarkers'].apply(lambda lst: lst + [name])\n",
    "\n",
    "    # High-risk flag\n",
    "    df['is_high_risk'] = (df['label'].str.lower() == 'therapy') & (df['complexity'] >= 4)\n",
    "\n",
    "    return df\n",
    "\n",
    "# Apply metadata\n",
    "df = add_clinical_metadata(df)\n",
    "logger.info(\"✅ Clinical metadata added: biomarkers, is_high_risk\")\n",
    "\n",
    "# ========================================\n",
    "# 2. Define BIOMARKERS List for Tokenization\n",
    "# ========================================\n",
    "# Canonical names for regex matching in biomarker-aware tokenization\n",
    "BIOMARKERS = [\n",
    "    'creatinine', 'HbA1c', 'ferritin', 'urea',\n",
    "    'albumin', 'glucose', 'zinc', 'iron', 'protein', 'fiber',\n",
    "    'calcium', 'phytate', 'potassium', 'sodium', 'magnesium',\n",
    "    'phosphorus', 'cholesterol', 'triglycerides', 'bilirubin',\n",
    "    'vitamin B12', 'vitamin C', 'vitamin A', 'vitamin D', 'vitamin K'\n",
    "]\n",
    "\n",
    "logger.info(f\"✅ BIOMARKERS defined for tokenization: {BIOMARKERS}\")\n",
    "\n",
    "# ========================================\n",
    "# 3. Simple, Safe Train/Test Split\n",
    "# ========================================\n",
    "def clinical_pipeline(df: pd.DataFrame, test_size: float = 0.2, random_state: int = 42):\n",
    "    \"\"\"\n",
    "    Simple stratified split on label + high-risk status.\n",
    "    Avoids over-engineering and data leakage.\n",
    "    \"\"\"\n",
    "    df = df.copy()\n",
    "\n",
    "    # Stratify on label and high-risk\n",
    "    stratify_key = df['label'].astype(str) + \"__\" + df['is_high_risk'].astype(str)\n",
    "\n",
    "    train_df, test_df = train_test_split(\n",
    "        df,\n",
    "        test_size=test_size,\n",
    "        stratify=stratify_key,\n",
    "        random_state=random_state\n",
    "    )\n",
    "\n",
    "    logger.info(\"Train/Test split completed with stratification\")\n",
    "    logger.info(f\"Train size: {len(train_df)}, Test size: {len(test_df)}\")\n",
    "    logger.info(f\"Therapy in test: {(test_df['label'] == 'therapy').mean():.1%}\")\n",
    "    logger.info(f\"High-risk in test: {test_df['is_high_risk'].mean():.1%}\")\n",
    "\n",
    "    return train_df.reset_index(drop=True), test_df.reset_index(drop=True)\n",
    "\n",
    "# Run split\n",
    "train_df, test_df = clinical_pipeline(df, test_size=0.2, random_state=42)"
   ]
  },
  {
   "cell_type": "code",
   "execution_count": 52,
   "id": "e4e4086a",
   "metadata": {},
   "outputs": [
    {
     "name": "stdout",
     "output_type": "stream",
     "text": [
      "Label distribution in train_df:\n",
      "label\n",
      "recommendation    0.300610\n",
      "therapy           0.251524\n",
      "comparison        0.241159\n",
      "general           0.206707\n",
      "Name: proportion, dtype: float64\n",
      "\n",
      "Label distribution in test_df:\n",
      "label\n",
      "recommendation    0.300000\n",
      "therapy           0.251220\n",
      "comparison        0.241463\n",
      "general           0.207317\n",
      "Name: proportion, dtype: float64\n"
     ]
    }
   ],
   "source": [
    "# Checking label distribution in train and test sets\n",
    "print(\"Label distribution in train_df:\")\n",
    "print(train_df['label'].value_counts(normalize=True))\n",
    "\n",
    "print(\"\\nLabel distribution in test_df:\")\n",
    "print(test_df['label'].value_counts(normalize=True))"
   ]
  },
  {
   "cell_type": "code",
   "execution_count": 53,
   "id": "7c105332",
   "metadata": {},
   "outputs": [
    {
     "name": "stdout",
     "output_type": "stream",
     "text": [
      "Sample queries with biomarkers:\n",
      "                                               query   biomarkers  \\\n",
      "0  Compare the vitamin C content in fresh vs froz...  [vitamin_c]   \n",
      "1  Which has lower phytate: unfermented ogi or so...    [phytate]   \n",
      "2  How much zinc should a 3-year-old child with c...       [zinc]   \n",
      "\n",
      "            label  complexity  is_high_risk  \n",
      "0      comparison           2         False  \n",
      "1      comparison           4         False  \n",
      "2  recommendation           5         False  \n",
      "\n",
      "Train size: 3280, Test size: 820\n",
      "Therapy in test: 25.1%\n",
      "High-risk in test: 16.7%\n"
     ]
    }
   ],
   "source": [
    "# Check a few rows\n",
    "print(\"Sample queries with biomarkers:\")\n",
    "print(df[['query', 'biomarkers', 'label', 'complexity', 'is_high_risk']].head(3))\n",
    "\n",
    "# Check split sizes\n",
    "print(f\"\\nTrain size: {len(train_df)}, Test size: {len(test_df)}\")\n",
    "\n",
    "# Check therapy and high-risk distribution\n",
    "print(f\"Therapy in test: {(test_df['label'] == 'therapy').mean():.1%}\")\n",
    "print(f\"High-risk in test: {test_df['is_high_risk'].mean():.1%}\")"
   ]
  },
  {
   "cell_type": "code",
   "execution_count": 54,
   "id": "d73f7001",
   "metadata": {},
   "outputs": [
    {
     "name": "stderr",
     "output_type": "stream",
     "text": [
      "2025-10-14 01:22:20,551 | INFO | Added clinical meta 683 high-risk queries identified\n"
     ]
    }
   ],
   "source": [
    "df = add_clinical_metadata(df)\n",
    "logger.info(f\"Added clinical meta {sum(df['is_high_risk'])} high-risk queries identified\")\n"
   ]
  },
  {
   "cell_type": "code",
   "execution_count": 55,
   "id": "77bded0d",
   "metadata": {},
   "outputs": [],
   "source": [
    "import re\n",
    "import pandas as pd\n",
    "import numpy as np\n",
    "from sklearn.model_selection import train_test_split\n",
    "import logging\n",
    "\n",
    "logger = logging.getLogger(__name__)\n",
    "logging.basicConfig(level=logging.INFO)\n",
    "\n",
    "def clinical_pipeline(df: pd.DataFrame,\n",
    "                      test_size: float = 0.2,\n",
    "                      therapy_weight: float = 1.5,\n",
    "                      high_risk_min_complexity: int = 4,\n",
    "                      random_state: int = 42) -> tuple[pd.DataFrame, pd.DataFrame]:\n",
    "    \"\"\"\n",
    "    Simple, robust pipeline for clinical nutrition queries.\n",
    "    \n",
    "    Steps:\n",
    "    1. Extract key biomarkers (clean, precise patterns)\n",
    "    2. Flag high-risk queries (therapy + high complexity)\n",
    "    3. Stratified train/test split on label + high-risk\n",
    "    4. Optional: upweight therapy/high-risk in training\n",
    "    \n",
    "    Returns: train_df, test_df\n",
    "    \"\"\"\n",
    "    df = df.copy()\n",
    "    \n",
    "    # ==============================\n",
    "    # 1. Clean Biomarker Extraction\n",
    "    # ==============================\n",
    "    # Focus on precise, high-signal biomarkers\n",
    "    biomarkers = [\n",
    "        'creatinine', 'HbA1c', 'ferritin', 'urea', 'albumin',\n",
    "        'glucose', 'zinc', 'iron', 'protein', 'fiber',\n",
    "        'calcium', 'phytate', 'potassium', 'sodium', 'magnesium',\n",
    "        'phosphorus', 'cholesterol', 'triglycerides', 'bilirubin',\n",
    "        'vitamin C', 'vitamin A', 'vitamin D', 'vitamin K'\n",
    "    ]\n",
    "    \n",
    "    def extract_biomarkers(text: str) -> list:\n",
    "        found = []\n",
    "        text_lower = text.lower()\n",
    "        for bm in biomarkers:\n",
    "            if bm.lower() in text_lower:\n",
    "                found.append(bm.lower())\n",
    "        return sorted(set(found))\n",
    "    \n",
    "    df['biomarkers'] = df['query'].astype(str).apply(extract_biomarkers)\n",
    "    df['has_biomarker'] = df['biomarkers'].apply(lambda x: len(x) > 0)\n",
    "\n",
    "    # ==============================\n",
    "    # 2. High-Risk Query Detection\n",
    "    # ==============================\n",
    "    df['is_high_risk'] = (df['label'] == 'therapy') & (df['complexity'] >= high_risk_min_complexity)\n",
    "    logger.info(f\"High-risk queries: {df['is_high_risk'].mean():.1%}\")\n",
    "\n",
    "    # ==============================\n",
    "    # 3. Stratified Train/Test Split\n",
    "    # ==============================\n",
    "    # Stratify on both label and high-risk status\n",
    "    stratify_cols = df[['label', 'is_high_risk']].apply(\n",
    "        lambda x: f\"{x['label']}__{'high_risk' if x['is_high_risk'] else 'low_risk'}\", axis=1\n",
    "    )\n",
    "\n",
    "    train_df, test_df = train_test_split(\n",
    "        df,\n",
    "        test_size=test_size,\n",
    "        stratify=stratify_cols,\n",
    "        random_state=random_state\n",
    "    )\n",
    "\n",
    "    logger.info(\"Train/Test split completed with stratification\")\n",
    "    logger.info(f\"Train size: {len(train_df)}, Test size: {len(test_df)}\")\n",
    "    logger.info(f\"Therapy in test: {(test_df['label'] == 'therapy').mean():.1%}\")\n",
    "    logger.info(f\"High-risk in test: {test_df['is_high_risk'].mean():.1%}\")\n",
    "\n",
    "    # ==============================\n",
    "    # 4. Optional: Upweight High-Risk in Training\n",
    "    # ==============================\n",
    "    if therapy_weight > 1.0:\n",
    "        high_risk_train = train_df[train_df['is_high_risk']]\n",
    "        num_to_add = int(len(high_risk_train) * (therapy_weight - 1.0))\n",
    "        \n",
    "        if num_to_add > 0:\n",
    "            sampled = high_risk_train.sample(n=num_to_add, replace=True, random_state=random_state)\n",
    "            train_df = pd.concat([train_df, sampled], ignore_index=True)\n",
    "            logger.info(f\" Upweighted high-risk queries: +{num_to_add} samples\")\n",
    "\n",
    "    # Reset index\n",
    "    train_df = train_df.reset_index(drop=True)\n",
    "    test_df = test_df.reset_index(drop=True)\n",
    "\n",
    "    return train_df, test_df"
   ]
  },
  {
   "cell_type": "code",
   "execution_count": 56,
   "id": "3b8273ec",
   "metadata": {},
   "outputs": [
    {
     "name": "stderr",
     "output_type": "stream",
     "text": [
      "2025-10-14 01:22:20,653 | INFO | High-risk queries: 16.7%\n",
      "2025-10-14 01:22:20,727 | INFO | Train/Test split completed with stratification\n",
      "2025-10-14 01:22:20,728 | INFO | Train size: 3280, Test size: 820\n",
      "2025-10-14 01:22:20,729 | INFO | Therapy in test: 25.1%\n",
      "2025-10-14 01:22:20,730 | INFO | High-risk in test: 16.7%\n",
      "2025-10-14 01:22:20,735 | INFO |  Upweighted high-risk queries: +273 samples\n",
      "2025-10-14 01:22:20,770 | INFO | Processed train and test sets saved as CSV files.\n"
     ]
    }
   ],
   "source": [
    "# Run the pipeline\n",
    "train_df, test_df = clinical_pipeline(df)\n",
    "\n",
    "# -----------------------------\n",
    "# Save to CSV\n",
    "# -----------------------------\n",
    "train_df.to_csv(\"train_processed.csv\", index=False)\n",
    "test_df.to_csv(\"test_processed.csv\", index=False)\n",
    "logger.info(\"Processed train and test sets saved as CSV files.\")\n"
   ]
  },
  {
   "cell_type": "code",
   "execution_count": 57,
   "id": "a1712c62",
   "metadata": {},
   "outputs": [
    {
     "name": "stdout",
     "output_type": "stream",
     "text": [
      "🔍 Train Set Info:\n",
      "Size: 3553\n",
      "Therapy queries: 30.9%\n",
      "High-risk queries: 23.1%\n",
      "Has biomarker: 65.8%\n",
      "\n",
      "🔍 Test Set Info:\n",
      "Size: 820\n",
      "Therapy queries: 25.1%\n",
      "High-risk queries: 16.7%\n",
      "Has biomarker: 69.5%\n",
      "\n",
      "📌 Example high-risk query:\n",
      "Query: Diet plan for type 2 diabetes with HbA1c 8.5% and on metformin\n",
      "Label: therapy, Complexity: 5, Biomarkers: ['hba1c']\n"
     ]
    }
   ],
   "source": [
    "# Check train set\n",
    "print(\"🔍 Train Set Info:\")\n",
    "print(f\"Size: {len(train_df)}\")\n",
    "print(f\"Therapy queries: {(train_df['label'] == 'therapy').mean():.1%}\")\n",
    "print(f\"High-risk queries: {train_df['is_high_risk'].mean():.1%}\")\n",
    "print(f\"Has biomarker: {train_df['has_biomarker'].mean():.1%}\")\n",
    "\n",
    "# Check test set\n",
    "print(\"\\n🔍 Test Set Info:\")\n",
    "print(f\"Size: {len(test_df)}\")\n",
    "print(f\"Therapy queries: {(test_df['label'] == 'therapy').mean():.1%}\")\n",
    "print(f\"High-risk queries: {test_df['is_high_risk'].mean():.1%}\")\n",
    "print(f\"Has biomarker: {test_df['has_biomarker'].mean():.1%}\")\n",
    "\n",
    "# Sample a high-risk therapy query\n",
    "print(\"\\n📌 Example high-risk query:\")\n",
    "high_risk_sample = test_df[(test_df['label'] == 'therapy') & (test_df['complexity'] >= 4)].iloc[0]\n",
    "print(f\"Query: {high_risk_sample['query']}\")\n",
    "print(f\"Label: {high_risk_sample['label']}, Complexity: {high_risk_sample['complexity']}, Biomarkers: {high_risk_sample['biomarkers']}\")"
   ]
  },
  {
   "cell_type": "markdown",
   "id": "9ad007c7",
   "metadata": {},
   "source": [
    "3.3 Biomarker-Aware Tokenization"
   ]
  },
  {
   "cell_type": "code",
   "execution_count": 58,
   "id": "c0c29eb4",
   "metadata": {},
   "outputs": [],
   "source": [
    "class NutritionQueryDataset(Dataset):\n",
    "    def __init__(self, dataframe, tokenizer, label2id, max_len=128):\n",
    "        self.data = dataframe.reset_index(drop=True)\n",
    "        self.tokenizer = tokenizer\n",
    "        self.label2id = label2id\n",
    "        self.max_len = max_len\n",
    "\n",
    "    def __len__(self):\n",
    "        return len(self.data)\n",
    "\n",
    "    def __getitem__(self, idx):\n",
    "        row = self.data.iloc[idx]\n",
    "        text = str(row[\"query\"])\n",
    "        label = row[\"label\"]\n",
    "        complexity = int(row[\"complexity\"])\n",
    "        needs_followup = bool(row[\"needs_followup\"])\n",
    "        label_id = self.label2id[label]\n",
    "\n",
    "        # Apply biomarker-aware preprocessing\n",
    "        modified_text = text\n",
    "        for bm in BIOMARKERS:\n",
    "            # Fixed: Use whitespace boundaries, not \\b (which breaks on HbA1c)\n",
    "            left = r'(^|\\s)'\n",
    "            escaped_bm = re.escape(bm)\n",
    "            value = r'(?:\\s*[\\d.,]+\\s*\\%)?'  # Optional value with %\n",
    "            right = r'(?=\\s|$)'\n",
    "            pattern = left + escaped_bm + value + right\n",
    "\n",
    "            # Fixed: Use raw string r'\\g<0>', not '\\\\g<0>'\n",
    "            modified_text = re.sub(\n",
    "                pattern,\n",
    "                r'\\g<1>[BIOMARKER]\\g<0>[/BIOMARKER]',  # \\g<1> = leading space, \\g<0> = full match\n",
    "                modified_text,\n",
    "                flags=re.IGNORECASE\n",
    "            )\n",
    "\n",
    "        # Tokenize\n",
    "        encoding = self.tokenizer(\n",
    "            modified_text,\n",
    "            truncation=True,\n",
    "            padding='max_length',\n",
    "            max_length=self.max_len,\n",
    "            return_tensors=None\n",
    "        )\n",
    "\n",
    "        return {\n",
    "            'input_ids': torch.tensor(encoding['input_ids'], dtype=torch.long),\n",
    "            'attention_mask': torch.tensor(encoding['attention_mask'], dtype=torch.long),\n",
    "            'labels': torch.tensor(label_id, dtype=torch.long),\n",
    "            'complexity': torch.tensor(complexity, dtype=torch.long),\n",
    "            'needs_followup': torch.tensor(needs_followup, dtype=torch.bool)\n",
    "        }"
   ]
  },
  {
   "cell_type": "code",
   "execution_count": 59,
   "id": "1b73ce08",
   "metadata": {},
   "outputs": [],
   "source": [
    "\"\"\"# ========================================\n",
    "# DEFINE CUSTOM MODEL CLASS\n",
    "# ========================================\n",
    "from transformers import DistilBertForSequenceClassification\n",
    "import torch\n",
    "\n",
    "class ClinicalDistilBert(DistilBertForSequenceClassification):\n",
    "    def __init__(self, config):\n",
    "        super().__init__(config)\n",
    "        self.config.id2label = config.id2label\n",
    "        self.config.label2id = config.label2id\n",
    "        \n",
    "        # Complexity head (1–5 scale → 5 classes)\n",
    "        self.complexity_head = torch.nn.Sequential(\n",
    "            torch.nn.Linear(config.hidden_size, 128),\n",
    "            torch.nn.ReLU(),\n",
    "            torch.nn.Dropout(0.1),\n",
    "            torch.nn.Linear(128, 5)\n",
    "        )\n",
    "        \n",
    "        # Follow-up head (binary)\n",
    "        self.followup_head = torch.nn.Sequential(\n",
    "            torch.nn.Linear(config.hidden_size, 64),\n",
    "            torch.nn.ReLU(),\n",
    "            torch.nn.Dropout(0.1),\n",
    "            torch.nn.Linear(64, 1),\n",
    "            torch.nn.Sigmoid()\n",
    "        )\n",
    "\n",
    "    def forward(self,\n",
    "                input_ids=None,\n",
    "                attention_mask=None,\n",
    "                labels=None,\n",
    "                complexity=None,\n",
    "                needs_followup=None,\n",
    "                **kwargs):\n",
    "        \n",
    "        # Base forward pass\n",
    "        outputs = super().forward(\n",
    "            input_ids=input_ids,\n",
    "            attention_mask=attention_mask,\n",
    "            labels=labels,\n",
    "            return_dict=True,\n",
    "            output_hidden_states=True\n",
    "        )\n",
    "        \n",
    "        # Extract CLS token\n",
    "        hidden_states = outputs.hidden_states\n",
    "        pooled_output = hidden_states[-1][:, 0]  # [batch, hidden_size]\n",
    "        \n",
    "        # Auxiliary outputs\n",
    "        complexity_logits = self.complexity_head(pooled_output)  # [batch, 5]\n",
    "        followup_logits = self.followup_head(pooled_output).squeeze(-1)  # [batch]\n",
    "\n",
    "        # Start with base loss\n",
    "        total_loss = outputs.loss\n",
    "\n",
    "        # Only add auxiliary losses if labels are provided\n",
    "        if labels is not None:\n",
    "            # === Complexity Loss ===\n",
    "            if complexity is not None:\n",
    "                complexity_target = (complexity - 1).long()  # 1–5 → 0–4\n",
    "                complexity_loss = torch.nn.CrossEntropyLoss()(complexity_logits, complexity_target)\n",
    "                total_loss = total_loss + 0.2 * complexity_loss\n",
    "\n",
    "            # === Follow-up Loss ===\n",
    "            if needs_followup is not None:\n",
    "                followup_target = needs_followup.float()\n",
    "                followup_loss = torch.nn.BCELoss()(followup_logits, followup_target)\n",
    "                total_loss = total_loss + 0.1 * followup_loss\n",
    "\n",
    "            # === High-Risk Query Weighting ===\n",
    "            high_risk_mask = (labels == 2) & (complexity >= 4)  # therapy + high complexity\n",
    "            if high_risk_mask.any():\n",
    "                per_sample_loss = torch.tensor([total_loss.item()] * labels.size(0), \n",
    "                                             device=labels.device, requires_grad=True)\n",
    "                weights = torch.ones_like(per_sample_loss)\n",
    "                weights[high_risk_mask] = 3.0\n",
    "                total_loss = (per_sample_loss * weights).mean()\n",
    "\n",
    "        return {\n",
    "            'loss': total_loss,\n",
    "            'logits': outputs.logits,\n",
    "            'complexity_logits': complexity_logits,\n",
    "            'followup_logits': followup_logits\n",
    "        }\"\"\"\n",
    "\n",
    "# ========================================\n",
    "# CUSTOM MODEL CLASS WITH FOCAL LOSS\n",
    "# ========================================\n",
    "from transformers import DistilBertForSequenceClassification\n",
    "import torch\n",
    "import torch.nn.functional as F\n",
    "\n",
    "# --------- Define Focal Loss ----------\n",
    "class FocalLoss(torch.nn.Module):\n",
    "    def __init__(self, alpha=1.0, gamma=2.0, reduction='mean'):\n",
    "        super(FocalLoss, self).__init__()\n",
    "        self.alpha = alpha\n",
    "        self.gamma = gamma\n",
    "        self.reduction = reduction\n",
    "\n",
    "    def forward(self, inputs, targets):\n",
    "        ce_loss = F.cross_entropy(inputs, targets, reduction=\"none\")\n",
    "        pt = torch.exp(-ce_loss)  # probability of correct class\n",
    "        focal_loss = self.alpha * (1 - pt) ** self.gamma * ce_loss\n",
    "        return focal_loss.mean() if self.reduction == 'mean' else focal_loss.sum()\n",
    "\n",
    "\n",
    "class ClinicalDistilBert(DistilBertForSequenceClassification):\n",
    "    def __init__(self, config, focal_alpha=1.0, focal_gamma=2.0):\n",
    "        super().__init__(config)\n",
    "        self.config.id2label = config.id2label\n",
    "        self.config.label2id = config.label2id\n",
    "\n",
    "        # Focal loss for main classification\n",
    "        self.focal_loss = FocalLoss(alpha=focal_alpha, gamma=focal_gamma)\n",
    "\n",
    "        # Complexity head (1–5 scale → 5 classes)\n",
    "        self.complexity_head = torch.nn.Sequential(\n",
    "            torch.nn.Linear(config.hidden_size, 128),\n",
    "            torch.nn.ReLU(),\n",
    "            torch.nn.Dropout(0.1),\n",
    "            torch.nn.Linear(128, 5)\n",
    "        )\n",
    "\n",
    "        # Follow-up head (binary)\n",
    "        self.followup_head = torch.nn.Sequential(\n",
    "            torch.nn.Linear(config.hidden_size, 64),\n",
    "            torch.nn.ReLU(),\n",
    "            torch.nn.Dropout(0.1),\n",
    "            torch.nn.Linear(64, 1),\n",
    "            torch.nn.Sigmoid()\n",
    "        )\n",
    "\n",
    "    def forward(self,\n",
    "                input_ids=None,\n",
    "                attention_mask=None,\n",
    "                labels=None,\n",
    "                complexity=None,\n",
    "                needs_followup=None,\n",
    "                **kwargs):\n",
    "\n",
    "        # Base forward pass\n",
    "        outputs = super().forward(\n",
    "            input_ids=input_ids,\n",
    "            attention_mask=attention_mask,\n",
    "            return_dict=True,\n",
    "            output_hidden_states=True\n",
    "        )\n",
    "\n",
    "        # Extract CLS token\n",
    "        hidden_states = outputs.hidden_states\n",
    "        pooled_output = hidden_states[-1][:, 0]  # [batch, hidden_size]\n",
    "\n",
    "        # Auxiliary outputs\n",
    "        complexity_logits = self.complexity_head(pooled_output)  # [batch, 5]\n",
    "        followup_logits = self.followup_head(pooled_output).squeeze(-1)  # [batch]\n",
    "\n",
    "        total_loss = None\n",
    "\n",
    "        if labels is not None:\n",
    "            # === Main classification loss (focal) ===\n",
    "            total_loss = self.focal_loss(outputs.logits, labels)\n",
    "\n",
    "            # === Complexity loss (CE) ===\n",
    "            if complexity is not None:\n",
    "                complexity_target = (complexity - 1).long()  # shift to 0–4\n",
    "                complexity_loss = F.cross_entropy(complexity_logits, complexity_target)\n",
    "                total_loss = total_loss + 0.2 * complexity_loss\n",
    "\n",
    "            # === Follow-up loss (BCE w/ focal-like weighting) ===\n",
    "            if needs_followup is not None:\n",
    "                followup_target = needs_followup.float()\n",
    "                bce_loss = F.binary_cross_entropy(followup_logits, followup_target, reduction=\"none\")\n",
    "                pt = torch.exp(-bce_loss)\n",
    "                focal_bce = (1 - pt) ** 2 * bce_loss  # gamma=2 default\n",
    "                followup_loss = focal_bce.mean()\n",
    "                total_loss = total_loss + 0.1 * followup_loss\n",
    "\n",
    "            # === High-risk weighting ===\n",
    "            if (labels == 2).any() and (complexity is not None):\n",
    "                high_risk_mask = (labels == 2) & (complexity >= 4)\n",
    "                if high_risk_mask.any():\n",
    "                    # scale the total_loss for high-risk queries\n",
    "                    total_loss = total_loss * 3.0\n",
    "\n",
    "        return {\n",
    "            'loss': total_loss,\n",
    "            'logits': outputs.logits,\n",
    "            'complexity_logits': complexity_logits,\n",
    "            'followup_logits': followup_logits\n",
    "        }\n"
   ]
  },
  {
   "cell_type": "code",
   "execution_count": 60,
   "id": "db9be395",
   "metadata": {},
   "outputs": [
    {
     "name": "stdout",
     "output_type": "stream",
     "text": [
      "✅ Added 11 new tokens: ['[BIOMARKER]', '[/BIOMARKER]', 'HbA1c', '%', 'mg/dL', '1.2', '8.5', 'mmol/L', 'ng/mL', 'g/dL', 'mEq/L']\n"
     ]
    },
    {
     "name": "stderr",
     "output_type": "stream",
     "text": [
      "Some weights of ClinicalDistilBert were not initialized from the model checkpoint at C:\\Users\\user\\Desktop\\MLOPS AI Projects\\NUTRITION RAG CHATBOT\\machine_learning\\models\\distilbert-classifier-v1 and are newly initialized: ['complexity_head.0.bias', 'complexity_head.0.weight', 'complexity_head.3.bias', 'complexity_head.3.weight', 'followup_head.0.bias', 'followup_head.0.weight', 'followup_head.3.bias', 'followup_head.3.weight']\n",
      "You should probably TRAIN this model on a down-stream task to be able to use it for predictions and inference.\n"
     ]
    },
    {
     "name": "stdout",
     "output_type": "stream",
     "text": [
      "🔁 Resized model embeddings to 30532\n",
      "✅ Tokenizer and model saved to C:\\Users\\user\\Desktop\\MLOPS AI Projects\\NUTRITION RAG CHATBOT\\machine_learning\\models\\distilbert-clinical-v2\n",
      "Label mapping: {'comparison': 0, 'recommendation': 1, 'therapy': 2, 'general': 3}\n",
      "✅ Datasets created with biomarker-aware tokenization and Phase 1 weights (Focal Loss ready)\n"
     ]
    }
   ],
   "source": [
    "import os\n",
    "from transformers import AutoTokenizer, AutoConfig\n",
    "\n",
    "# ========================================\n",
    "# 1️⃣ Load Tokenizer from Phase 1 Model\n",
    "# ========================================\n",
    "PHASE1_MODEL_DIR = r\"C:\\Users\\user\\Desktop\\MLOPS AI Projects\\NUTRITION RAG CHATBOT\\machine_learning\\models\\distilbert-classifier-v1\"\n",
    "\n",
    "# Load tokenizer\n",
    "tokenizer = AutoTokenizer.from_pretrained(PHASE1_MODEL_DIR)\n",
    "\n",
    "# ========================================\n",
    "# 2️⃣ Add Custom Tokens\n",
    "# ========================================\n",
    "new_tokens = [\n",
    "    '[BIOMARKER]', '[/BIOMARKER]',\n",
    "    'HbA1c', '%', 'mg/dL', '1.2', '8.5',\n",
    "    'mmol/L', 'ng/mL', 'g/dL', 'mEq/L'\n",
    "]\n",
    "\n",
    "num_added = tokenizer.add_tokens(new_tokens)\n",
    "if num_added > 0:\n",
    "    print(f\"✅ Added {num_added} new tokens: {new_tokens}\")\n",
    "\n",
    "# ========================================\n",
    "# 3️⃣ Load Model Config and Custom Model\n",
    "# ========================================\n",
    "config = AutoConfig.from_pretrained(PHASE1_MODEL_DIR)\n",
    "config.num_labels = 4\n",
    "config.id2label = {0: \"comparison\", 1: \"recommendation\", 2: \"therapy\", 3: \"general\"}\n",
    "config.label2id = {v: k for k, v in config.id2label.items()}\n",
    "\n",
    "# Load Phase 1 weights into ClinicalDistilBert (with Focal Loss head)\n",
    "model = ClinicalDistilBert.from_pretrained(\n",
    "    PHASE1_MODEL_DIR,\n",
    "    config=config,\n",
    "    ignore_mismatched_sizes=True  # Needed if new tokens were added\n",
    ")\n",
    "\n",
    "# ========================================\n",
    "# 4️⃣ Resize Embeddings\n",
    "# ========================================\n",
    "model.resize_token_embeddings(len(tokenizer))\n",
    "print(f\"🔁 Resized model embeddings to {len(tokenizer)}\")\n",
    "\n",
    "# ========================================\n",
    "# 5️⃣ Save to NEW Directory (optional)\n",
    "# ========================================\n",
    "save_path = r\"C:\\Users\\user\\Desktop\\MLOPS AI Projects\\NUTRITION RAG CHATBOT\\machine_learning\\models\\distilbert-clinical-v2\"\n",
    "os.makedirs(save_path, exist_ok=True)\n",
    "tokenizer.save_pretrained(save_path)\n",
    "model.save_pretrained(save_path)\n",
    "print(f\"✅ Tokenizer and model saved to {save_path}\")\n",
    "\n",
    "# ========================================\n",
    "# 6️⃣ Define BIOMARKERS and Label Mapping\n",
    "# ========================================\n",
    "BIOMARKERS = [\n",
    "    'creatinine', 'HbA1c', 'ferritin', 'urea',\n",
    "    'albumin', 'glucose', 'zinc', 'iron', 'protein', 'fiber',\n",
    "    'calcium', 'phytate', 'potassium', 'sodium', 'magnesium',\n",
    "    'phosphorus', 'cholesterol', 'triglycerides', 'bilirubin'\n",
    "]\n",
    "\n",
    "label2id = config.label2id\n",
    "id2label = config.id2label\n",
    "\n",
    "print(\"Label mapping:\", label2id)\n",
    "\n",
    "# ========================================\n",
    "# 7️⃣ Create Datasets\n",
    "# ========================================\n",
    "train_dataset = NutritionQueryDataset(train_df, tokenizer, label2id)\n",
    "test_dataset = NutritionQueryDataset(test_df, tokenizer, label2id)\n",
    "\n",
    "print(\"✅ Datasets created with biomarker-aware tokenization and Phase 1 weights (Focal Loss ready)\")\n"
   ]
  },
  {
   "cell_type": "code",
   "execution_count": 61,
   "id": "a2a5c360",
   "metadata": {},
   "outputs": [
    {
     "name": "stdout",
     "output_type": "stream",
     "text": [
      "Model loaded on cpu\n",
      "Forward pass successful!\n",
      "Loss: 7.882169723510742\n",
      "Logits shape: torch.Size([1, 4])\n"
     ]
    }
   ],
   "source": [
    "# Move model to GPU if available\n",
    "device = torch.device(\"cuda\" if torch.cuda.is_available() else \"cpu\")\n",
    "model.to(device)\n",
    "print(f\"Model loaded on {device}\")\n",
    "\n",
    "# Test one batch\n",
    "sample = train_dataset[0]\n",
    "input_ids = sample['input_ids'].unsqueeze(0).to(device)\n",
    "attention_mask = sample['attention_mask'].unsqueeze(0).to(device)\n",
    "labels = sample['labels'].unsqueeze(0).to(device)\n",
    "complexity = sample['complexity'].unsqueeze(0).to(device)\n",
    "needs_followup = sample['needs_followup'].unsqueeze(0).to(device)\n",
    "\n",
    "# Forward pass\n",
    "outputs = model(\n",
    "    input_ids=input_ids,\n",
    "    attention_mask=attention_mask,\n",
    "    labels=labels,\n",
    "    complexity=complexity,\n",
    "    needs_followup=needs_followup\n",
    ")\n",
    "\n",
    "print(\"Forward pass successful!\")\n",
    "print(\"Loss:\", outputs['loss'].item())\n",
    "print(\"Logits shape:\", outputs['logits'].shape)"
   ]
  },
  {
   "cell_type": "markdown",
   "id": "d1df0899",
   "metadata": {},
   "source": [
    "##### Clinical Safety-First Model\n",
    "##### **Engineered for high-risk query accuracy**"
   ]
  },
  {
   "cell_type": "markdown",
   "id": "a177f3ee",
   "metadata": {},
   "source": [
    "4.1 Label Mapping (Critical for clinical safety)"
   ]
  },
  {
   "cell_type": "code",
   "execution_count": 62,
   "id": "a688464b",
   "metadata": {},
   "outputs": [
    {
     "name": "stdout",
     "output_type": "stream",
     "text": [
      "✅ Trainer ready. Classes: {0: 'comparison', 1: 'recommendation', 2: 'therapy', 3: 'general'}\n"
     ]
    },
    {
     "name": "stderr",
     "output_type": "stream",
     "text": [
      "c:\\Users\\user\\miniconda3\\envs\\nut_class_env\\lib\\site-packages\\transformers\\training_args.py:1525: FutureWarning: `evaluation_strategy` is deprecated and will be removed in version 4.46 of 🤗 Transformers. Use `eval_strategy` instead\n",
      "  warnings.warn(\n"
     ]
    }
   ],
   "source": [
    "# ==============================\n",
    "# Custom Data Collator\n",
    "# ==============================\n",
    "def collate_fn(batch):\n",
    "    return {\n",
    "        'input_ids': torch.stack([x['input_ids'] for x in batch]),\n",
    "        'attention_mask': torch.stack([x['attention_mask'] for x in batch]),\n",
    "        'labels': torch.stack([x['labels'] for x in batch]),\n",
    "        'complexity': torch.stack([x['complexity'] for x in batch]),\n",
    "        'needs_followup': torch.stack([x['needs_followup'] for x in batch])\n",
    "    }\n",
    "\n",
    "# ==============================\n",
    "# Compute Clinical Metrics\n",
    "# ==============================\n",
    "def compute_clinical_metrics(eval_pred):\n",
    "    logits, labels = eval_pred\n",
    "    if isinstance(logits, (tuple, list)):\n",
    "        logits = logits[0]\n",
    "    preds = np.argmax(logits, axis=-1)\n",
    "    \n",
    "    macro_f1 = f1_score(labels, preds, average='macro')\n",
    "    accuracy = (preds == labels).mean()\n",
    "\n",
    "    # High-risk therapy mask\n",
    "    try:\n",
    "        complexity = np.array([test_dataset[i]['complexity'].item() for i in range(len(test_dataset))])\n",
    "        high_risk_mask = (labels == 2) & (complexity >= 4)\n",
    "        high_risk_f1 = f1_score(labels[high_risk_mask], preds[high_risk_mask], average='macro', zero_division=0) if high_risk_mask.sum() > 0 else 0.0\n",
    "    except Exception as e:\n",
    "        print(\"Warning: Could not compute high-risk F1:\", e)\n",
    "        high_risk_f1 = 0.0\n",
    "\n",
    "    therapy_mask = labels == 2\n",
    "    therapy_f1 = f1_score(labels[therapy_mask], preds[therapy_mask], average='macro', zero_division=0) if therapy_mask.sum() > 0 else 0.0\n",
    "\n",
    "    return {\n",
    "        'macro_f1': macro_f1,\n",
    "        'accuracy': accuracy,\n",
    "        'high_risk_f1': high_risk_f1,\n",
    "        'therapy_f1': therapy_f1\n",
    "    }\n",
    "\n",
    "# ==============================\n",
    "# Training Configuration\n",
    "# ==============================\n",
    "training_args = TrainingArguments(\n",
    "    output_dir='../models/distilbert-clinical-v2',\n",
    "    num_train_epochs=4,\n",
    "    per_device_train_batch_size=16,\n",
    "    per_device_eval_batch_size=32,\n",
    "    learning_rate=5e-5,\n",
    "    warmup_steps=100,\n",
    "    weight_decay=0.01,\n",
    "    logging_dir='./logs',\n",
    "    logging_steps=50,\n",
    "    evaluation_strategy=\"epoch\",\n",
    "    save_strategy=\"epoch\",\n",
    "    load_best_model_at_end=True,\n",
    "    metric_for_best_model=\"macro_f1\",  \n",
    "    greater_is_better=True,\n",
    "    fp16=True,\n",
    "    report_to=\"none\"\n",
    ")\n",
    "\n",
    "early_stopping = EarlyStoppingCallback(early_stopping_patience=2, early_stopping_threshold=0.01)\n",
    "\n",
    "# ==============================\n",
    "# Custom Trainer\n",
    "# ==============================\n",
    "class ClinicalTrainer(Trainer):\n",
    "    def compute_loss(self, model, inputs, return_outputs=False):\n",
    "        outputs = model(\n",
    "            input_ids=inputs.get(\"input_ids\"),\n",
    "            attention_mask=inputs.get(\"attention_mask\"),\n",
    "            labels=inputs.get(\"labels\"),\n",
    "            complexity=inputs.get(\"complexity\"),\n",
    "            needs_followup=inputs.get(\"needs_followup\")\n",
    "        )\n",
    "        loss = outputs['loss']\n",
    "        return (loss, outputs) if return_outputs else loss\n",
    "\n",
    "# ==============================\n",
    "# Initialize Trainer\n",
    "# ==============================\n",
    "trainer = ClinicalTrainer(\n",
    "    model=model,\n",
    "    args=training_args,\n",
    "    train_dataset=train_dataset,\n",
    "    eval_dataset=test_dataset,\n",
    "    compute_metrics=compute_clinical_metrics,\n",
    "    callbacks=[early_stopping],\n",
    "    tokenizer=tokenizer,\n",
    "    data_collator=collate_fn\n",
    ")\n",
    "\n",
    "print(\"✅ Trainer ready. Classes:\", id2label)\n"
   ]
  },
  {
   "cell_type": "code",
   "execution_count": 63,
   "id": "2102469c",
   "metadata": {},
   "outputs": [
    {
     "name": "stdout",
     "output_type": "stream",
     "text": [
      "✅ Added 7 new tokens: ['[BIOMARKER]', '[/BIOMARKER]', 'HbA1c', '%', 'mg/dL', '1.2', '8.5']\n"
     ]
    },
    {
     "name": "stderr",
     "output_type": "stream",
     "text": [
      "Some weights of ClinicalDistilBert were not initialized from the model checkpoint at C:\\Users\\user\\Desktop\\MLOPS AI Projects\\NUTRITION RAG CHATBOT\\machine_learning\\models\\distilbert-classifier-v1 and are newly initialized: ['complexity_head.0.bias', 'complexity_head.0.weight', 'complexity_head.3.bias', 'complexity_head.3.weight', 'followup_head.0.bias', 'followup_head.0.weight', 'followup_head.3.bias', 'followup_head.3.weight']\n",
      "You should probably TRAIN this model on a down-stream task to be able to use it for predictions and inference.\n"
     ]
    },
    {
     "name": "stdout",
     "output_type": "stream",
     "text": [
      "✅ Model loaded from C:\\Users\\user\\Desktop\\MLOPS AI Projects\\NUTRITION RAG CHATBOT\\machine_learning\\models\\distilbert-classifier-v1 on cpu\n"
     ]
    }
   ],
   "source": [
    "# ========================================\n",
    "# 1️⃣ Load Tokenizer from Phase 1 Model\n",
    "# ========================================\n",
    "PHASE1_MODEL_DIR = r\"C:\\Users\\user\\Desktop\\MLOPS AI Projects\\NUTRITION RAG CHATBOT\\machine_learning\\models\\distilbert-classifier-v1\"\n",
    "\n",
    "# Load tokenizer\n",
    "tokenizer = AutoTokenizer.from_pretrained(PHASE1_MODEL_DIR)\n",
    "\n",
    "# ========================================\n",
    "# 2️⃣ Add Custom Tokens (if not already in saved model)\n",
    "# ========================================\n",
    "new_tokens = ['[BIOMARKER]', '[/BIOMARKER]', 'HbA1c', '%', 'mg/dL', '1.2', '8.5']\n",
    "num_added = tokenizer.add_tokens(new_tokens)\n",
    "if num_added > 0:\n",
    "    print(f\"✅ Added {num_added} new tokens: {new_tokens}\")\n",
    "\n",
    "# ========================================\n",
    "# 3️⃣ Load Model Config and ClinicalDistilBert\n",
    "# ========================================\n",
    "config = AutoConfig.from_pretrained(PHASE1_MODEL_DIR)\n",
    "config.num_labels = 4\n",
    "config.id2label = {0: \"comparison\", 1: \"recommendation\", 2: \"therapy\", 3: \"general\"}\n",
    "config.label2id = {v: k for k, v in config.id2label.items()}\n",
    "\n",
    "# Load Phase 1 weights into ClinicalDistilBert\n",
    "model = ClinicalDistilBert.from_pretrained(\n",
    "    PHASE1_MODEL_DIR,\n",
    "    config=config,\n",
    "    ignore_mismatched_sizes=True  # required if new tokens were added\n",
    ")\n",
    "\n",
    "# Resize embeddings for added tokens\n",
    "model.resize_token_embeddings(len(tokenizer))\n",
    "\n",
    "# Move model to GPU if available\n",
    "device = torch.device(\"cuda\" if torch.cuda.is_available() else \"cpu\")\n",
    "model.to(device)\n",
    "\n",
    "print(f\"✅ Model loaded from {PHASE1_MODEL_DIR} on {device}\")\n"
   ]
  },
  {
   "cell_type": "code",
   "execution_count": 64,
   "id": "ff83b60a",
   "metadata": {},
   "outputs": [
    {
     "name": "stdout",
     "output_type": "stream",
     "text": [
      "✅ Batch keys: ['input_ids', 'attention_mask', 'labels', 'complexity', 'needs_followup']\n"
     ]
    },
    {
     "name": "stderr",
     "output_type": "stream",
     "text": [
      "c:\\Users\\user\\miniconda3\\envs\\nut_class_env\\lib\\site-packages\\torch\\utils\\data\\dataloader.py:666: UserWarning: 'pin_memory' argument is set as true but no accelerator is found, then device pinned memory won't be used.\n",
      "  warnings.warn(warn_msg)\n"
     ]
    },
    {
     "name": "stdout",
     "output_type": "stream",
     "text": [
      "✅ Forward pass successful!\n",
      "Loss: 3.512913465499878\n",
      "Logits shape: torch.Size([2, 4])\n",
      "Complexity logits shape: torch.Size([2, 5])\n",
      "Follow-up logits shape: torch.Size([2])\n"
     ]
    }
   ],
   "source": [
    "# ========================================\n",
    "# Test one batch from the trainer's dataloader\n",
    "# ========================================\n",
    "batch = next(iter(trainer.get_train_dataloader()))\n",
    "print(\"✅ Batch keys:\", list(batch.keys()))\n",
    "\n",
    "# Verify that all required keys exist\n",
    "required_keys = ['input_ids', 'attention_mask', 'labels', 'complexity', 'needs_followup']\n",
    "for key in required_keys:\n",
    "    assert key in batch, f\"❌ {key} missing from batch!\"\n",
    "\n",
    "# Forward pass on a small subset (first 2 samples)\n",
    "inputs = {k: v[:2].to(device) for k, v in batch.items()}\n",
    "outputs = trainer.model(**inputs)\n",
    "\n",
    "# Display results\n",
    "print(\"✅ Forward pass successful!\")\n",
    "print(\"Loss:\", outputs['loss'].item())\n",
    "print(\"Logits shape:\", outputs['logits'].shape)\n",
    "print(\"Complexity logits shape:\", outputs['complexity_logits'].shape)\n",
    "print(\"Follow-up logits shape:\", outputs['followup_logits'].shape)\n"
   ]
  },
  {
   "cell_type": "markdown",
   "id": "af4185d3",
   "metadata": {},
   "source": [
    "\n",
    "#### Clinical Risk-Aware Training\n",
    "#### **Optimized for high-risk query accuracy**"
   ]
  },
  {
   "cell_type": "markdown",
   "id": "345bf378",
   "metadata": {},
   "source": [
    "#### Clinical Safety Training"
   ]
  },
  {
   "cell_type": "markdown",
   "id": "16715df6",
   "metadata": {},
   "source": [
    "**Logging storage**: Instead of console-only, it dumps metrics JSON into save_path/metrics.json. That way results are not lost when re-running.\n",
    "\n",
    "**Confusion matrix**: For high-risk therapy queries, saving a heatmap confusion matrix for an instant visual check.\n",
    "\n",
    "**Cross-validation**: for stronger reliability,K-fold evaluation for high-risk queries.\n",
    "\n",
    "**Calibration check**: Since clinical models need probability reliability, added a confidence calibration test (Expected Calibration Error, ECE).\n",
    "\n",
    "**Fail-safe fallback**: Instead of raise ValueError, added a branch that forces high-risk queries to be routed to Mistral 7B regardless of DistilBERT output."
   ]
  },
  {
   "cell_type": "code",
   "execution_count": 65,
   "id": "477b5aaf",
   "metadata": {},
   "outputs": [
    {
     "name": "stderr",
     "output_type": "stream",
     "text": [
      "2025-10-14 01:22:24,926 | INFO | 🚀 Starting Phase 2 clinical safety training...\n",
      "  6%|▌         | 50/892 [06:12<1:14:23,  5.30s/it]"
     ]
    },
    {
     "name": "stdout",
     "output_type": "stream",
     "text": [
      "{'loss': 8.1189, 'grad_norm': 4.570085048675537, 'learning_rate': 2.5e-05, 'epoch': 0.22}\n"
     ]
    },
    {
     "name": "stderr",
     "output_type": "stream",
     "text": [
      " 11%|█         | 100/892 [11:17<1:24:05,  6.37s/it]"
     ]
    },
    {
     "name": "stdout",
     "output_type": "stream",
     "text": [
      "{'loss': 0.9665, 'grad_norm': 38.76140594482422, 'learning_rate': 5e-05, 'epoch': 0.45}\n"
     ]
    },
    {
     "name": "stderr",
     "output_type": "stream",
     "text": [
      " 17%|█▋        | 150/892 [19:03<1:25:31,  6.92s/it]"
     ]
    },
    {
     "name": "stdout",
     "output_type": "stream",
     "text": [
      "{'loss': 0.9346, 'grad_norm': 1.2371528148651123, 'learning_rate': 4.6843434343434346e-05, 'epoch': 0.67}\n"
     ]
    },
    {
     "name": "stderr",
     "output_type": "stream",
     "text": [
      " 22%|██▏       | 200/892 [37:04<3:48:25, 19.80s/it]"
     ]
    },
    {
     "name": "stdout",
     "output_type": "stream",
     "text": [
      "{'loss': 0.903, 'grad_norm': 1.2138981819152832, 'learning_rate': 4.368686868686869e-05, 'epoch': 0.9}\n"
     ]
    },
    {
     "name": "stderr",
     "output_type": "stream",
     "text": [
      "                                                   \n",
      " 25%|██▌       | 223/892 [43:00<56:16,  5.05s/it]"
     ]
    },
    {
     "name": "stdout",
     "output_type": "stream",
     "text": [
      "{'eval_loss': 0.8917452096939087, 'eval_macro_f1': 0.9960630622107793, 'eval_accuracy': 0.9963414634146341, 'eval_high_risk_f1': 1.0, 'eval_therapy_f1': 0.49878345498783455, 'eval_runtime': 116.8063, 'eval_samples_per_second': 7.02, 'eval_steps_per_second': 0.223, 'epoch': 1.0}\n"
     ]
    },
    {
     "name": "stderr",
     "output_type": "stream",
     "text": [
      "c:\\Users\\user\\miniconda3\\envs\\nut_class_env\\lib\\site-packages\\torch\\utils\\data\\dataloader.py:666: UserWarning: 'pin_memory' argument is set as true but no accelerator is found, then device pinned memory won't be used.\n",
      "  warnings.warn(warn_msg)\n",
      " 28%|██▊       | 250/892 [45:48<53:05,  4.96s/it]  "
     ]
    },
    {
     "name": "stdout",
     "output_type": "stream",
     "text": [
      "{'loss': 0.831, 'grad_norm': 1.3471200466156006, 'learning_rate': 4.053030303030303e-05, 'epoch': 1.12}\n"
     ]
    },
    {
     "name": "stderr",
     "output_type": "stream",
     "text": [
      " 34%|███▎      | 300/892 [51:34<1:25:16,  8.64s/it]"
     ]
    },
    {
     "name": "stdout",
     "output_type": "stream",
     "text": [
      "{'loss': 0.8081, 'grad_norm': 2.9969630241394043, 'learning_rate': 3.7373737373737376e-05, 'epoch': 1.35}\n"
     ]
    },
    {
     "name": "stderr",
     "output_type": "stream",
     "text": [
      " 39%|███▉      | 350/892 [1:01:40<1:47:40, 11.92s/it]"
     ]
    },
    {
     "name": "stdout",
     "output_type": "stream",
     "text": [
      "{'loss': 0.8117, 'grad_norm': 1.3901172876358032, 'learning_rate': 3.421717171717172e-05, 'epoch': 1.57}\n"
     ]
    },
    {
     "name": "stderr",
     "output_type": "stream",
     "text": [
      " 45%|████▍     | 400/892 [1:09:06<1:38:03, 11.96s/it]"
     ]
    },
    {
     "name": "stdout",
     "output_type": "stream",
     "text": [
      "{'loss': 0.7748, 'grad_norm': 1.0303581953048706, 'learning_rate': 3.106060606060606e-05, 'epoch': 1.79}\n"
     ]
    },
    {
     "name": "stderr",
     "output_type": "stream",
     "text": [
      "                                                     \n",
      " 50%|█████     | 446/892 [1:17:02<40:45,  5.48s/it]"
     ]
    },
    {
     "name": "stdout",
     "output_type": "stream",
     "text": [
      "{'eval_loss': 0.7896988987922668, 'eval_macro_f1': 0.9973838877457766, 'eval_accuracy': 0.9975609756097561, 'eval_high_risk_f1': 1.0, 'eval_therapy_f1': 1.0, 'eval_runtime': 112.1436, 'eval_samples_per_second': 7.312, 'eval_steps_per_second': 0.232, 'epoch': 2.0}\n"
     ]
    },
    {
     "name": "stderr",
     "output_type": "stream",
     "text": [
      "c:\\Users\\user\\miniconda3\\envs\\nut_class_env\\lib\\site-packages\\torch\\utils\\data\\dataloader.py:666: UserWarning: 'pin_memory' argument is set as true but no accelerator is found, then device pinned memory won't be used.\n",
      "  warnings.warn(warn_msg)\n",
      " 50%|█████     | 450/892 [1:17:52<2:41:35, 21.94s/it]"
     ]
    },
    {
     "name": "stdout",
     "output_type": "stream",
     "text": [
      "{'loss': 0.7456, 'grad_norm': 1.4450573921203613, 'learning_rate': 2.7904040404040403e-05, 'epoch': 2.02}\n"
     ]
    },
    {
     "name": "stderr",
     "output_type": "stream",
     "text": [
      " 56%|█████▌    | 500/892 [1:25:43<1:15:28, 11.55s/it]"
     ]
    },
    {
     "name": "stdout",
     "output_type": "stream",
     "text": [
      "{'loss': 0.7143, 'grad_norm': 1.634366750717163, 'learning_rate': 2.474747474747475e-05, 'epoch': 2.24}\n"
     ]
    },
    {
     "name": "stderr",
     "output_type": "stream",
     "text": [
      " 62%|██████▏   | 550/892 [1:33:40<47:02,  8.25s/it]  "
     ]
    },
    {
     "name": "stdout",
     "output_type": "stream",
     "text": [
      "{'loss': 0.6781, 'grad_norm': 1.916515827178955, 'learning_rate': 2.1590909090909093e-05, 'epoch': 2.47}\n"
     ]
    },
    {
     "name": "stderr",
     "output_type": "stream",
     "text": [
      " 67%|██████▋   | 600/892 [1:42:49<1:09:51, 14.36s/it]"
     ]
    },
    {
     "name": "stdout",
     "output_type": "stream",
     "text": [
      "{'loss': 0.7067, 'grad_norm': 20.573652267456055, 'learning_rate': 1.8434343434343433e-05, 'epoch': 2.69}\n"
     ]
    },
    {
     "name": "stderr",
     "output_type": "stream",
     "text": [
      " 73%|███████▎  | 650/892 [1:49:37<31:21,  7.77s/it]  "
     ]
    },
    {
     "name": "stdout",
     "output_type": "stream",
     "text": [
      "{'loss': 0.6504, 'grad_norm': 1.6530715227127075, 'learning_rate': 1.527777777777778e-05, 'epoch': 2.91}\n"
     ]
    },
    {
     "name": "stderr",
     "output_type": "stream",
     "text": [
      "                                                   \n",
      " 75%|███████▌  | 669/892 [1:55:02<24:05,  6.48s/it]"
     ]
    },
    {
     "name": "stdout",
     "output_type": "stream",
     "text": [
      "{'eval_loss': 0.7019578218460083, 'eval_macro_f1': 1.0, 'eval_accuracy': 1.0, 'eval_high_risk_f1': 1.0, 'eval_therapy_f1': 1.0, 'eval_runtime': 165.3462, 'eval_samples_per_second': 4.959, 'eval_steps_per_second': 0.157, 'epoch': 3.0}\n"
     ]
    },
    {
     "name": "stderr",
     "output_type": "stream",
     "text": [
      " 75%|███████▌  | 669/892 [1:55:16<38:25, 10.34s/it]\n"
     ]
    },
    {
     "name": "stdout",
     "output_type": "stream",
     "text": [
      "{'train_runtime': 6916.7913, 'train_samples_per_second': 2.055, 'train_steps_per_second': 0.129, 'train_loss': 1.335932606182469, 'epoch': 3.0}\n"
     ]
    },
    {
     "name": "stderr",
     "output_type": "stream",
     "text": [
      "2025-10-14 03:17:42,910 | INFO | ✅ Phase 2 model and tokenizer saved to ../models/distilbert-clinical-v2\n",
      "c:\\Users\\user\\miniconda3\\envs\\nut_class_env\\lib\\site-packages\\torch\\utils\\data\\dataloader.py:666: UserWarning: 'pin_memory' argument is set as true but no accelerator is found, then device pinned memory won't be used.\n",
      "  warnings.warn(warn_msg)\n",
      "100%|██████████| 26/26 [01:44<00:00,  4.00s/it]\n",
      "2025-10-14 03:19:30,234 | INFO | \n",
      "📊 FINAL EVALUATION METRICS (Phase 2):\n",
      "2025-10-14 03:19:30,236 | INFO | High-Risk F1 (Therapy + Complexity ≥4): 1.0000\n",
      "2025-10-14 03:19:30,237 | INFO | Therapy F1: 1.0000\n",
      "2025-10-14 03:19:30,239 | INFO | Macro F1: 1.0000\n",
      "2025-10-14 03:19:30,240 | INFO | ✅ MODEL PASSED CLINICAL SAFETY VALIDATION\n"
     ]
    }
   ],
   "source": [
    "# ================================\n",
    "# 6.1 Launch Phase 2 Training\n",
    "# ================================\n",
    "logger.info(\"🚀 Starting Phase 2 clinical safety training...\")\n",
    "train_results = trainer.train()\n",
    "\n",
    "# Save Phase 2 model + tokenizer\n",
    "phase2_save_path = r\"../models/distilbert-clinical-v2\"\n",
    "trainer.save_model(phase2_save_path)\n",
    "tokenizer.save_pretrained(phase2_save_path)\n",
    "logger.info(f\"✅ Phase 2 model and tokenizer saved to {phase2_save_path}\")\n",
    "\n",
    "# ================================\n",
    "# 6.2 Training Metrics Analysis\n",
    "# ================================\n",
    "metrics = trainer.evaluate()\n",
    "logger.info(\"\\n📊 FINAL EVALUATION METRICS (Phase 2):\")\n",
    "logger.info(f\"High-Risk F1 (Therapy + Complexity ≥4): {metrics.get('eval_high_risk_f1', 0):.4f}\")\n",
    "logger.info(f\"Therapy F1: {metrics.get('eval_therapy_f1', 0):.4f}\")\n",
    "logger.info(f\"Macro F1: {metrics.get('eval_macro_f1', 0):.4f}\")\n",
    "\n",
    "# Safety Validation\n",
    "if metrics.get(\"eval_high_risk_f1\", 0) < 0.90:\n",
    "    msg = f\"❌ MODEL FAILED SAFETY VALIDATION | High-risk F1={metrics.get('eval_high_risk_f1', 0):.4f} < 0.90\"\n",
    "    logger.error(msg)\n",
    "    raise ValueError(\"Model unsafe for clinical deployment\")\n",
    "else:\n",
    "    logger.info(\"✅ MODEL PASSED CLINICAL SAFETY VALIDATION\")\n",
    "\n",
    "\n"
   ]
  },
  {
   "cell_type": "code",
   "execution_count": 66,
   "id": "44787be4",
   "metadata": {},
   "outputs": [],
   "source": [
    "import matplotlib.pyplot as plt\n",
    "from sklearn.metrics import confusion_matrix, ConfusionMatrixDisplay\n",
    "from collections import Counter\n",
    "\n",
    "def analyze_therapy_queries():\n",
    "    # Run predictions\n",
    "    test_results = trainer.predict(test_dataset)\n",
    "\n",
    "    # Extract logits safely\n",
    "    raw_preds = test_results.predictions\n",
    "    if isinstance(raw_preds, tuple):\n",
    "        logits = raw_preds[0]\n",
    "    else:\n",
    "        logits = raw_preds\n",
    "\n",
    "    preds = np.argmax(logits, axis=1)\n",
    "\n",
    "    # Mask for therapy queries\n",
    "    therapy_mask = test_df['label'] == \"therapy\"\n",
    "    high_risk_positions = therapy_mask.values\n",
    "\n",
    "    # Subset predictions + labels\n",
    "    high_risk_preds = preds[high_risk_positions]\n",
    "    high_risk_labels = test_df.loc[high_risk_positions, \"label\"].map(label2id).values\n",
    "\n",
    "    logger.info(\"✅ Therapy query analysis complete.\")\n",
    "    logger.info(f\"🔍 Found {len(high_risk_preds)} therapy-related predictions.\")\n",
    "    print(\"Therapy predictions shape:\", high_risk_preds.shape)\n",
    "    print(\"Sample therapy predictions:\", high_risk_preds[:10])\n",
    "\n",
    "    # --- Distribution ---\n",
    "    pred_counts = Counter(high_risk_preds)\n",
    "    print(\"\\n📊 Therapy predictions class distribution:\")\n",
    "    for class_id, count in pred_counts.items():\n",
    "        print(f\"  {id2label[class_id]}: {count}\")\n",
    "\n",
    "    true_counts = Counter(high_risk_labels)\n",
    "    print(\"\\n✅ Ground-truth class distribution (therapy subset):\")\n",
    "    for class_id, count in true_counts.items():\n",
    "        print(f\"  {id2label[class_id]}: {count}\")\n",
    "\n",
    "    # --- Confusion Matrix ---\n",
    "    cm = confusion_matrix(high_risk_labels, high_risk_preds, labels=list(id2label.keys()))\n",
    "    disp = ConfusionMatrixDisplay(confusion_matrix=cm, display_labels=[id2label[i] for i in id2label.keys()])\n",
    "\n",
    "    plt.figure(figsize=(6, 6))\n",
    "    disp.plot(cmap=\"Blues\", xticks_rotation=45, values_format=\"d\")\n",
    "    plt.title(\"Confusion Matrix for Therapy Queries\")\n",
    "    plt.show()\n"
   ]
  },
  {
   "cell_type": "code",
   "execution_count": 67,
   "id": "75128b04",
   "metadata": {},
   "outputs": [
    {
     "name": "stderr",
     "output_type": "stream",
     "text": [
      "c:\\Users\\user\\miniconda3\\envs\\nut_class_env\\lib\\site-packages\\torch\\utils\\data\\dataloader.py:666: UserWarning: 'pin_memory' argument is set as true but no accelerator is found, then device pinned memory won't be used.\n",
      "  warnings.warn(warn_msg)\n",
      "100%|██████████| 26/26 [01:58<00:00,  4.57s/it]\n",
      "2025-10-14 03:21:32,329 | INFO | ✅ Therapy query analysis complete.\n",
      "2025-10-14 03:21:32,330 | INFO | 🔍 Found 206 therapy-related predictions.\n"
     ]
    },
    {
     "name": "stdout",
     "output_type": "stream",
     "text": [
      "Therapy predictions shape: (206,)\n",
      "Sample therapy predictions: [2 2 2 2 2 2 2 2 2 2]\n",
      "\n",
      "📊 Therapy predictions class distribution:\n",
      "  therapy: 206\n",
      "\n",
      "✅ Ground-truth class distribution (therapy subset):\n",
      "  therapy: 206\n"
     ]
    },
    {
     "data": {
      "text/plain": [
       "<Figure size 600x600 with 0 Axes>"
      ]
     },
     "metadata": {},
     "output_type": "display_data"
    },
    {
     "data": {
      "image/png": "[encoded data removed]",
      "text/plain": [
       "<Figure size 640x480 with 2 Axes>"
      ]
     },
     "metadata": {},
     "output_type": "display_data"
    }
   ],
   "source": [
    "analyze_therapy_queries()"
   ]
  },
  {
   "cell_type": "code",
   "execution_count": 68,
   "id": "b4ecfe20",
   "metadata": {},
   "outputs": [],
   "source": [
    "def analyze_label_subset(target_labels):\n",
    "    \"\"\"\n",
    "    Analyze predictions for one or more label subsets.\n",
    "    \n",
    "    Args:\n",
    "        target_labels (str or list): Single label (e.g., \"therapy\")\n",
    "                                     or multiple labels (e.g., [\"therapy\", \"recommendation\"])\n",
    "    \"\"\"\n",
    "\n",
    "    # Ensure target_labels is a list\n",
    "    if isinstance(target_labels, str):\n",
    "        target_labels = [target_labels]\n",
    "\n",
    "    # Run predictions\n",
    "    test_results = trainer.predict(test_dataset)\n",
    "\n",
    "    # Extract logits safely\n",
    "    raw_preds = test_results.predictions\n",
    "    logits = raw_preds[0] if isinstance(raw_preds, tuple) else raw_preds\n",
    "\n",
    "    preds = np.argmax(logits, axis=1)\n",
    "\n",
    "    # Mask for target label(s)\n",
    "    subset_mask = test_df['label'].isin(target_labels)\n",
    "    subset_positions = subset_mask.values\n",
    "\n",
    "    # Subset predictions + labels\n",
    "    subset_preds = preds[subset_positions]\n",
    "    subset_labels = np.array([label2id[l] for l in test_df['label'][subset_positions]])\n",
    "\n",
    "    logger.info(f\"✅ Analysis complete for labels: {target_labels}\")\n",
    "    logger.info(f\"🔍 Found {len(subset_preds)} matching predictions.\")\n",
    "    print(f\"Predictions shape:\", subset_preds.shape)\n",
    "    print(\"Sample predictions:\", subset_preds[:10])\n",
    "\n",
    "    # --- Distribution ---\n",
    "    pred_counts = Counter(subset_preds)\n",
    "    print(f\"\\n📊 Predictions class distribution (subset):\")\n",
    "    for class_id, count in pred_counts.items():\n",
    "        print(f\"  {id2label[class_id]}: {count}\")\n",
    "\n",
    "    true_counts = Counter(subset_labels)\n",
    "    print(f\"\\n✅ Ground-truth class distribution (subset):\")\n",
    "    for class_id, count in true_counts.items():\n",
    "        print(f\"  {id2label[class_id]}: {count}\")\n",
    "\n",
    "    # --- Confusion Matrix ---\n",
    "    cm = confusion_matrix(subset_labels, subset_preds, labels=list(id2label.keys()))\n",
    "    disp = ConfusionMatrixDisplay(confusion_matrix=cm, display_labels=[id2label[i] for i in id2label.keys()])\n",
    "\n",
    "    plt.figure(figsize=(6, 6))\n",
    "    disp.plot(cmap=\"Blues\", xticks_rotation=45, values_format=\"d\")\n",
    "    plt.title(f\"Confusion Matrix for {', '.join(target_labels)} Queries\")\n",
    "    plt.show()\n"
   ]
  },
  {
   "cell_type": "code",
   "execution_count": 69,
   "id": "457263a5",
   "metadata": {},
   "outputs": [
    {
     "name": "stderr",
     "output_type": "stream",
     "text": [
      "c:\\Users\\user\\miniconda3\\envs\\nut_class_env\\lib\\site-packages\\torch\\utils\\data\\dataloader.py:666: UserWarning: 'pin_memory' argument is set as true but no accelerator is found, then device pinned memory won't be used.\n",
      "  warnings.warn(warn_msg)\n",
      "100%|██████████| 26/26 [01:27<00:00,  3.38s/it]\n",
      "2025-10-14 03:23:04,522 | INFO | ✅ Analysis complete for labels: ['therapy']\n",
      "2025-10-14 03:23:04,523 | INFO | 🔍 Found 206 matching predictions.\n"
     ]
    },
    {
     "name": "stdout",
     "output_type": "stream",
     "text": [
      "Predictions shape: (206,)\n",
      "Sample predictions: [2 2 2 2 2 2 2 2 2 2]\n",
      "\n",
      "📊 Predictions class distribution (subset):\n",
      "  therapy: 206\n",
      "\n",
      "✅ Ground-truth class distribution (subset):\n",
      "  therapy: 206\n"
     ]
    },
    {
     "data": {
      "text/plain": [
       "<Figure size 600x600 with 0 Axes>"
      ]
     },
     "metadata": {},
     "output_type": "display_data"
    },
    {
     "data": {
      "image/png": "[encoded data removed]",
      "text/plain": [
       "<Figure size 640x480 with 2 Axes>"
      ]
     },
     "metadata": {},
     "output_type": "display_data"
    },
    {
     "name": "stderr",
     "output_type": "stream",
     "text": [
      "c:\\Users\\user\\miniconda3\\envs\\nut_class_env\\lib\\site-packages\\torch\\utils\\data\\dataloader.py:666: UserWarning: 'pin_memory' argument is set as true but no accelerator is found, then device pinned memory won't be used.\n",
      "  warnings.warn(warn_msg)\n",
      "100%|██████████| 26/26 [01:41<00:00,  3.89s/it]\n",
      "2025-10-14 03:24:49,020 | INFO | ✅ Analysis complete for labels: ['therapy', 'recommendation', 'comparison']\n",
      "2025-10-14 03:24:49,020 | INFO | 🔍 Found 650 matching predictions.\n"
     ]
    },
    {
     "name": "stdout",
     "output_type": "stream",
     "text": [
      "Predictions shape: (650,)\n",
      "Sample predictions: [1 2 0 1 1 0 2 0 1 2]\n",
      "\n",
      "📊 Predictions class distribution (subset):\n",
      "  recommendation: 246\n",
      "  therapy: 206\n",
      "  comparison: 198\n",
      "\n",
      "✅ Ground-truth class distribution (subset):\n",
      "  recommendation: 246\n",
      "  therapy: 206\n",
      "  comparison: 198\n"
     ]
    },
    {
     "data": {
      "text/plain": [
       "<Figure size 600x600 with 0 Axes>"
      ]
     },
     "metadata": {},
     "output_type": "display_data"
    },
    {
     "data": {
      "image/png": "[encoded data removed]",
      "text/plain": [
       "<Figure size 640x480 with 2 Axes>"
      ]
     },
     "metadata": {},
     "output_type": "display_data"
    }
   ],
   "source": [
    "# Single label\n",
    "analyze_label_subset(\"therapy\")\n",
    "\n",
    "# Multiple labels\n",
    "analyze_label_subset([\"therapy\", \"recommendation\", \"comparison\"])\n"
   ]
  },
  {
   "cell_type": "markdown",
   "id": "008df489",
   "metadata": {},
   "source": [
    "### TESTS"
   ]
  },
  {
   "cell_type": "code",
   "execution_count": 70,
   "id": "6d06312f",
   "metadata": {},
   "outputs": [
    {
     "data": {
      "text/plain": [
       "'# ================================\\n# 6.1 Launch Training\\n# ================================\\nlogger.info(\"🚀 Starting clinical safety training...\")\\ntrain_results = trainer.train()\\n\\n# Save model + tokenizer\\nsave_path = \"../models/distilbert-clinical-v1-final\"\\ntrainer.save_model(save_path)\\ntokenizer.save_pretrained(save_path)\\nlogger.info(f\"✅ Model and tokenizer saved to {save_path}\")'"
      ]
     },
     "execution_count": 70,
     "metadata": {},
     "output_type": "execute_result"
    }
   ],
   "source": [
    "\"\"\"# ================================\n",
    "# 6.1 Launch Training\n",
    "# ================================\n",
    "logger.info(\"🚀 Starting clinical safety training...\")\n",
    "train_results = trainer.train()\n",
    "\n",
    "# Save model + tokenizer\n",
    "save_path = \"../models/distilbert-clinical-v1-final\"\n",
    "trainer.save_model(save_path)\n",
    "tokenizer.save_pretrained(save_path)\n",
    "logger.info(f\"✅ Model and tokenizer saved to {save_path}\")\"\"\""
   ]
  },
  {
   "cell_type": "code",
   "execution_count": null,
   "id": "5ed7ca61",
   "metadata": {},
   "outputs": [],
   "source": []
  },
  {
   "cell_type": "code",
   "execution_count": 71,
   "id": "8ad2f4c6",
   "metadata": {},
   "outputs": [
    {
     "name": "stdout",
     "output_type": "stream",
     "text": [
      "Original query:\n",
      "Suggest foods from the Food Composition Table rich in vitamin B12 for elderly patients.\n",
      "\n",
      "Decoded tokens:\n",
      "[CLS] suggest foods from the food composition table rich in vitamin b12 for elderly patients. [SEP] [PAD] [PAD] [PAD] [PAD] [PAD] [PAD] [PAD] [PAD] [PAD] [PAD] [PAD] [PAD] [PAD] [PAD] [PAD] [PAD] [PAD] [PAD] [PAD] [PAD] [PAD] [PAD] [PAD] [PAD] [PAD] [PAD] [PAD] [PAD] [PAD] [PAD] [PAD] [PAD] [PAD] [PAD] [PAD] [PAD] [PAD] [PAD] [PAD] [PAD] [PAD] [PAD] [PAD] [PAD] [PAD] [PAD] [PAD] [PAD] [PAD] [PAD] [PAD] [PAD] [PAD] [PAD] [PAD] [PAD] [PAD] [PAD] [PAD] [PAD] [PAD] [PAD] [PAD] [PAD] [PAD] [PAD] [PAD] [PAD] [PAD] [PAD] [PAD] [PAD] [PAD] [PAD] [PAD] [PAD] [PAD] [PAD] [PAD] [PAD] [PAD] [PAD] [PAD] [PAD] [PAD] [PAD] [PAD] [PAD] [PAD] [PAD] [PAD] [PAD] [PAD] [PAD] [PAD] [PAD] [PAD] [PAD] [PAD] [PAD] [PAD] [PAD] [PAD] [PAD] [PAD] [PAD] [PAD] [PAD] [PAD] [PAD]\n"
     ]
    }
   ],
   "source": [
    "# Pick a training example\n",
    "idx = 0\n",
    "sample = train_dataset[idx]\n",
    "\n",
    "# Decode input_ids back to text\n",
    "decoded = tokenizer.decode(sample['input_ids'], skip_special_tokens=False)\n",
    "print(\"Original query:\")\n",
    "print(train_df.iloc[idx]['query'])\n",
    "print(\"\\nDecoded tokens:\")\n",
    "print(decoded)"
   ]
  },
  {
   "cell_type": "code",
   "execution_count": null,
   "id": "18a1789f",
   "metadata": {},
   "outputs": [],
   "source": []
  },
  {
   "cell_type": "code",
   "execution_count": 72,
   "id": "965e9fac",
   "metadata": {},
   "outputs": [
    {
     "name": "stderr",
     "output_type": "stream",
     "text": [
      "c:\\Users\\user\\miniconda3\\envs\\nut_class_env\\lib\\site-packages\\torch\\utils\\data\\dataloader.py:666: UserWarning: 'pin_memory' argument is set as true but no accelerator is found, then device pinned memory won't be used.\n",
      "  warnings.warn(warn_msg)\n"
     ]
    },
    {
     "name": "stdout",
     "output_type": "stream",
     "text": [
      "✅ Model Output Diagnosis\n",
      "==================================================\n",
      "Sample 1\n",
      "  Label:     1 (recommendation)\n",
      "  Prediction: 2 (therapy)\n",
      "  Logits:    [-1.86  -2.412  5.216 -2.105]\n",
      "\n",
      "Sample 2\n",
      "  Label:     2 (therapy)\n",
      "  Prediction: 3 (general)\n",
      "  Logits:    [-2.218 -2.381 -1.971  4.636]\n",
      "\n",
      "Sample 3\n",
      "  Label:     0 (comparison)\n",
      "  Prediction: 0 (comparison)\n",
      "  Logits:    [ 5.621 -1.62  -1.432 -2.007]\n",
      "\n",
      "Sample 4\n",
      "  Label:     1 (recommendation)\n",
      "  Prediction: 2 (therapy)\n",
      "  Logits:    [-1.88  -2.219  5.172 -2.225]\n",
      "\n"
     ]
    }
   ],
   "source": [
    "# Set model to evaluation mode\n",
    "model.eval()\n",
    "\n",
    "# Get one batch from test set\n",
    "sample_batch = next(iter(trainer.get_eval_dataloader()))\n",
    "\n",
    "# Move to device\n",
    "input_ids = sample_batch['input_ids'][:4].to(device)\n",
    "attention_mask = sample_batch['attention_mask'][:4].to(device)\n",
    "labels = sample_batch['labels'][:4].cpu().numpy()\n",
    "\n",
    "# Forward pass\n",
    "with torch.no_grad():\n",
    "    outputs = model(input_ids=input_ids, attention_mask=attention_mask)\n",
    "    # ✅ Fix: Use dict access, not dot access\n",
    "    logits = outputs['logits'].cpu().numpy()  # ← ['logits'], not .logits\n",
    "    preds = logits.argmax(-1)\n",
    "\n",
    "# Print results\n",
    "print(\"✅ Model Output Diagnosis\")\n",
    "print(\"=\"*50)\n",
    "for i in range(len(logits)):\n",
    "    print(f\"Sample {i+1}\")\n",
    "    print(f\"  Label:     {labels[i]} ({id2label[labels[i]]})\")\n",
    "    print(f\"  Prediction: {preds[i]} ({id2label[preds[i]]})\")\n",
    "    print(f\"  Logits:    {logits[i].round(3)}\")\n",
    "    print()"
   ]
  },
  {
   "cell_type": "code",
   "execution_count": 73,
   "id": "0cca3882",
   "metadata": {},
   "outputs": [
    {
     "name": "stdout",
     "output_type": "stream",
     "text": [
      "Columns in test_df: ['id', 'query', 'label', 'complexity', 'recommended_llm', 'needs_followup', 'distractor_label', 'biomarkers', 'is_high_risk', 'has_biomarker']\n"
     ]
    }
   ],
   "source": [
    "print(\"Columns in test_df:\", test_df.columns.tolist())"
   ]
  },
  {
   "cell_type": "code",
   "execution_count": 74,
   "id": "018635f7",
   "metadata": {},
   "outputs": [
    {
     "name": "stdout",
     "output_type": "stream",
     "text": [
      "label2id: {'comparison': 0, 'recommendation': 1, 'therapy': 2, 'general': 3}\n",
      "Unique labels in train: ['recommendation' 'general' 'therapy' 'comparison']\n",
      "Unique labels in test: ['recommendation' 'therapy' 'comparison' 'general']\n"
     ]
    }
   ],
   "source": [
    "print(\"label2id:\", label2id)\n",
    "print(\"Unique labels in train:\", train_df['label'].unique())\n",
    "print(\"Unique labels in test:\", test_df['label'].unique())"
   ]
  },
  {
   "cell_type": "code",
   "execution_count": 75,
   "id": "fb43b482",
   "metadata": {},
   "outputs": [
    {
     "name": "stdout",
     "output_type": "stream",
     "text": [
      "Is [BIOMARKER] in tokenizer? True\n",
      "Is [/BIOMARKER] in tokenizer? True\n",
      "Is HbA1c in tokenizer? True\n",
      "Tokenizer vocab size: 30528\n"
     ]
    }
   ],
   "source": [
    "# Check if special tokens are present in the tokenizer\n",
    "print(\"Is [BIOMARKER] in tokenizer?\", '[BIOMARKER]' in tokenizer.get_vocab())\n",
    "print(\"Is [/BIOMARKER] in tokenizer?\", '[/BIOMARKER]' in tokenizer.get_vocab())\n",
    "print(\"Is HbA1c in tokenizer?\", 'HbA1c' in tokenizer.get_vocab())\n",
    "print(\"Tokenizer vocab size:\", len(tokenizer))\n"
   ]
  },
  {
   "cell_type": "code",
   "execution_count": 76,
   "id": "02b3dfe6",
   "metadata": {},
   "outputs": [
    {
     "name": "stdout",
     "output_type": "stream",
     "text": [
      "Original query:\n",
      "Suggest foods from the Food Composition Table rich in vitamin B12 for elderly patients.\n",
      "\n",
      "Decoded tokens:\n",
      "[CLS] suggest foods from the food composition table rich in vitamin b12 for elderly patients. [SEP] [PAD] [PAD] [PAD] [PAD] [PAD] [PAD] [PAD] [PAD] [PAD] [PAD] [PAD] [PAD] [PAD] [PAD] [PAD] [PAD] [PAD] [PAD] [PAD] [PAD] [PAD] [PAD] [PAD] [PAD] [PAD] [PAD] [PAD] [PAD] [PAD] [PAD] [PAD] [PAD] [PAD] [PAD] [PAD] [PAD] [PAD] [PAD] [PAD] [PAD] [PAD] [PAD] [PAD] [PAD] [PAD] [PAD] [PAD] [PAD] [PAD] [PAD] [PAD] [PAD] [PAD] [PAD] [PAD] [PAD] [PAD] [PAD] [PAD] [PAD] [PAD] [PAD] [PAD] [PAD] [PAD] [PAD] [PAD] [PAD] [PAD] [PAD] [PAD] [PAD] [PAD] [PAD] [PAD] [PAD] [PAD] [PAD] [PAD] [PAD] [PAD] [PAD] [PAD] [PAD] [PAD] [PAD] [PAD] [PAD] [PAD] [PAD] [PAD] [PAD] [PAD] [PAD] [PAD] [PAD] [PAD] [PAD] [PAD] [PAD] [PAD] [PAD] [PAD] [PAD] [PAD] [PAD] [PAD] [PAD] [PAD] [PAD]\n"
     ]
    }
   ],
   "source": [
    "# Pick a training example\n",
    "idx = 0\n",
    "sample = train_dataset[idx]\n",
    "\n",
    "# Decode input_ids back to text\n",
    "decoded = tokenizer.decode(sample['input_ids'], skip_special_tokens=False)\n",
    "print(\"Original query:\")\n",
    "print(train_df.iloc[idx]['query'])\n",
    "print(\"\\nDecoded tokens:\")\n",
    "print(decoded)"
   ]
  },
  {
   "cell_type": "code",
   "execution_count": 77,
   "id": "9da19e08",
   "metadata": {},
   "outputs": [
    {
     "name": "stdout",
     "output_type": "stream",
     "text": [
      "Original query:\n",
      "Suggest foods from the Food Composition Table rich in vitamin B12 for elderly patients.\n",
      "\n",
      "Decoded tokens:\n",
      "[CLS] suggest foods from the food composition table rich in vitamin b12 for elderly patients. [SEP] [PAD] [PAD] [PAD] [PAD] [PAD] [PAD] [PAD] [PAD] [PAD] [PAD] [PAD] [PAD] [PAD] [PAD] [PAD] [PAD] [PAD] [PAD] [PAD] [PAD] [PAD] [PAD] [PAD] [PAD] [PAD] [PAD] [PAD] [PAD] [PAD] [PAD] [PAD] [PAD] [PAD] [PAD] [PAD] [PAD] [PAD] [PAD] [PAD] [PAD] [PAD] [PAD] [PAD] [PAD] [PAD] [PAD] [PAD] [PAD] [PAD] [PAD] [PAD] [PAD] [PAD] [PAD] [PAD] [PAD] [PAD] [PAD] [PAD] [PAD] [PAD] [PAD] [PAD] [PAD] [PAD] [PAD] [PAD] [PAD] [PAD] [PAD] [PAD] [PAD] [PAD] [PAD] [PAD] [PAD] [PAD] [PAD] [PAD] [PAD] [PAD] [PAD] [PAD] [PAD] [PAD] [PAD] [PAD] [PAD] [PAD] [PAD] [PAD] [PAD] [PAD] [PAD] [PAD] [PAD] [PAD] [PAD] [PAD] [PAD] [PAD] [PAD] [PAD] [PAD] [PAD] [PAD] [PAD] [PAD] [PAD] [PAD]\n"
     ]
    }
   ],
   "source": [
    "# Pick a training example and decode its tokens correctly\n",
    "idx = 0\n",
    "\n",
    "# Get the query text from train_df\n",
    "query_text = train_df.iloc[idx]['query']\n",
    "\n",
    "# Tokenize and decode using the same logic as your dataset\n",
    "encoding = tokenizer(\n",
    "    query_text,\n",
    "    truncation=True,\n",
    "    padding='max_length',\n",
    "    max_length=128,\n",
    "    return_tensors=None\n",
    ")\n",
    "decoded = tokenizer.decode(encoding['input_ids'], skip_special_tokens=False)\n",
    "\n",
    "print(\"Original query:\")\n",
    "print(query_text)\n",
    "print(\"\\nDecoded tokens:\")\n",
    "print(decoded)"
   ]
  },
  {
   "cell_type": "code",
   "execution_count": 78,
   "id": "62207917",
   "metadata": {},
   "outputs": [
    {
     "data": {
      "text/html": [
       "<div>\n",
       "<style scoped>\n",
       "    .dataframe tbody tr th:only-of-type {\n",
       "        vertical-align: middle;\n",
       "    }\n",
       "\n",
       "    .dataframe tbody tr th {\n",
       "        vertical-align: top;\n",
       "    }\n",
       "\n",
       "    .dataframe thead th {\n",
       "        text-align: right;\n",
       "    }\n",
       "</style>\n",
       "<table border=\"1\" class=\"dataframe\">\n",
       "  <thead>\n",
       "    <tr style=\"text-align: right;\">\n",
       "      <th></th>\n",
       "      <th>id</th>\n",
       "      <th>query</th>\n",
       "      <th>label</th>\n",
       "      <th>complexity</th>\n",
       "      <th>recommended_llm</th>\n",
       "      <th>needs_followup</th>\n",
       "      <th>distractor_label</th>\n",
       "      <th>biomarkers</th>\n",
       "      <th>is_high_risk</th>\n",
       "    </tr>\n",
       "  </thead>\n",
       "  <tbody>\n",
       "    <tr>\n",
       "      <th>0</th>\n",
       "      <td>1</td>\n",
       "      <td>Compare the vitamin C content in fresh vs froz...</td>\n",
       "      <td>comparison</td>\n",
       "      <td>2</td>\n",
       "      <td>TinyLlama</td>\n",
       "      <td>True</td>\n",
       "      <td>NaN</td>\n",
       "      <td>[vitamin_c]</td>\n",
       "      <td>False</td>\n",
       "    </tr>\n",
       "    <tr>\n",
       "      <th>1</th>\n",
       "      <td>2</td>\n",
       "      <td>Which has lower phytate: unfermented ogi or so...</td>\n",
       "      <td>comparison</td>\n",
       "      <td>4</td>\n",
       "      <td>Mistral</td>\n",
       "      <td>True</td>\n",
       "      <td>NaN</td>\n",
       "      <td>[phytate]</td>\n",
       "      <td>False</td>\n",
       "    </tr>\n",
       "    <tr>\n",
       "      <th>2</th>\n",
       "      <td>3</td>\n",
       "      <td>How much zinc should a 3-year-old child with c...</td>\n",
       "      <td>recommendation</td>\n",
       "      <td>5</td>\n",
       "      <td>Mistral</td>\n",
       "      <td>True</td>\n",
       "      <td>NaN</td>\n",
       "      <td>[zinc]</td>\n",
       "      <td>False</td>\n",
       "    </tr>\n",
       "    <tr>\n",
       "      <th>3</th>\n",
       "      <td>4</td>\n",
       "      <td>What foods should I eat if I have CKD stage 3 ...</td>\n",
       "      <td>therapy</td>\n",
       "      <td>5</td>\n",
       "      <td>Mistral</td>\n",
       "      <td>False</td>\n",
       "      <td>NaN</td>\n",
       "      <td>[creatinine]</td>\n",
       "      <td>True</td>\n",
       "    </tr>\n",
       "    <tr>\n",
       "      <th>4</th>\n",
       "      <td>5</td>\n",
       "      <td>Explain how vitamin K helps with blood clotting</td>\n",
       "      <td>general</td>\n",
       "      <td>4</td>\n",
       "      <td>Mistral</td>\n",
       "      <td>False</td>\n",
       "      <td>NaN</td>\n",
       "      <td>[vitamin_k]</td>\n",
       "      <td>False</td>\n",
       "    </tr>\n",
       "    <tr>\n",
       "      <th>5</th>\n",
       "      <td>6</td>\n",
       "      <td>Compare protein quality of cowpea vs bambara n...</td>\n",
       "      <td>comparison</td>\n",
       "      <td>3</td>\n",
       "      <td>TinyLlama</td>\n",
       "      <td>True</td>\n",
       "      <td>NaN</td>\n",
       "      <td>[protein]</td>\n",
       "      <td>False</td>\n",
       "    </tr>\n",
       "    <tr>\n",
       "      <th>6</th>\n",
       "      <td>7</td>\n",
       "      <td>What's the recommended daily fiber intake for ...</td>\n",
       "      <td>recommendation</td>\n",
       "      <td>3</td>\n",
       "      <td>Mistral</td>\n",
       "      <td>True</td>\n",
       "      <td>NaN</td>\n",
       "      <td>[fiber]</td>\n",
       "      <td>False</td>\n",
       "    </tr>\n",
       "    <tr>\n",
       "      <th>7</th>\n",
       "      <td>8</td>\n",
       "      <td>Is palm oil or shea butter better for vitamin ...</td>\n",
       "      <td>comparison</td>\n",
       "      <td>2</td>\n",
       "      <td>TinyLlama</td>\n",
       "      <td>True</td>\n",
       "      <td>NaN</td>\n",
       "      <td>[]</td>\n",
       "      <td>False</td>\n",
       "    </tr>\n",
       "    <tr>\n",
       "      <th>8</th>\n",
       "      <td>9</td>\n",
       "      <td>Nutrition therapy for hypertension with creati...</td>\n",
       "      <td>therapy</td>\n",
       "      <td>5</td>\n",
       "      <td>Mistral</td>\n",
       "      <td>False</td>\n",
       "      <td>NaN</td>\n",
       "      <td>[creatinine]</td>\n",
       "      <td>True</td>\n",
       "    </tr>\n",
       "    <tr>\n",
       "      <th>9</th>\n",
       "      <td>10</td>\n",
       "      <td>How does iron get absorbed in the gut?</td>\n",
       "      <td>general</td>\n",
       "      <td>4</td>\n",
       "      <td>Mistral</td>\n",
       "      <td>False</td>\n",
       "      <td>NaN</td>\n",
       "      <td>[iron]</td>\n",
       "      <td>False</td>\n",
       "    </tr>\n",
       "  </tbody>\n",
       "</table>\n",
       "</div>"
      ],
      "text/plain": [
       "   id                                              query           label  \\\n",
       "0   1  Compare the vitamin C content in fresh vs froz...      comparison   \n",
       "1   2  Which has lower phytate: unfermented ogi or so...      comparison   \n",
       "2   3  How much zinc should a 3-year-old child with c...  recommendation   \n",
       "3   4  What foods should I eat if I have CKD stage 3 ...         therapy   \n",
       "4   5    Explain how vitamin K helps with blood clotting         general   \n",
       "5   6  Compare protein quality of cowpea vs bambara n...      comparison   \n",
       "6   7  What's the recommended daily fiber intake for ...  recommendation   \n",
       "7   8  Is palm oil or shea butter better for vitamin ...      comparison   \n",
       "8   9  Nutrition therapy for hypertension with creati...         therapy   \n",
       "9  10             How does iron get absorbed in the gut?         general   \n",
       "\n",
       "   complexity recommended_llm  needs_followup distractor_label    biomarkers  \\\n",
       "0           2       TinyLlama            True              NaN   [vitamin_c]   \n",
       "1           4         Mistral            True              NaN     [phytate]   \n",
       "2           5         Mistral            True              NaN        [zinc]   \n",
       "3           5         Mistral           False              NaN  [creatinine]   \n",
       "4           4         Mistral           False              NaN   [vitamin_k]   \n",
       "5           3       TinyLlama            True              NaN     [protein]   \n",
       "6           3         Mistral            True              NaN       [fiber]   \n",
       "7           2       TinyLlama            True              NaN            []   \n",
       "8           5         Mistral           False              NaN  [creatinine]   \n",
       "9           4         Mistral           False              NaN        [iron]   \n",
       "\n",
       "   is_high_risk  \n",
       "0         False  \n",
       "1         False  \n",
       "2         False  \n",
       "3          True  \n",
       "4         False  \n",
       "5         False  \n",
       "6         False  \n",
       "7         False  \n",
       "8          True  \n",
       "9         False  "
      ]
     },
     "execution_count": 78,
     "metadata": {},
     "output_type": "execute_result"
    }
   ],
   "source": [
    "df.head(10)"
   ]
  },
  {
   "cell_type": "code",
   "execution_count": 79,
   "id": "a8ee24fc",
   "metadata": {},
   "outputs": [
    {
     "data": {
      "text/plain": [
       "4100"
      ]
     },
     "execution_count": 79,
     "metadata": {},
     "output_type": "execute_result"
    }
   ],
   "source": [
    "len(df['is_high_risk'])"
   ]
  },
  {
   "cell_type": "code",
   "execution_count": null,
   "id": "40e5c5ac",
   "metadata": {},
   "outputs": [],
   "source": []
  }
 ],
 "metadata": {
  "kernelspec": {
   "display_name": "nut_class_env",
   "language": "python",
   "name": "python3"
  },
  "language_info": {
   "codemirror_mode": {
    "name": "ipython",
    "version": 3
   },
   "file_extension": ".py",
   "mimetype": "text/x-python",
   "name": "python",
   "nbconvert_exporter": "python",
   "pygments_lexer": "ipython3",
   "version": "3.10.18"
  }
 },
 "nbformat": 4,
 "nbformat_minor": 5
}
