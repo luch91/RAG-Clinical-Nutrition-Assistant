{
 "cells": [
  {
   "cell_type": "markdown",
   "id": "330f750a",
   "metadata": {},
   "source": [
    "#### Data Loading"
   ]
  },
  {
   "cell_type": "code",
   "execution_count": 1,
   "id": "10c8e4e1",
   "metadata": {},
   "outputs": [],
   "source": [
    "import pandas as pd\n",
    "from sklearn.model_selection import train_test_split\n",
    "import os\n",
    "\n",
    "# Paths\n",
    "DATA_PATH = r\"C:\\Users\\user\\Desktop\\MLOPS AI Projects\\NUTRITION RAG CHATBOT\\machine_learning\\data\\nutrition_queries_dataset.csv\"\n",
    "OUTPUT_DIR = r\"C:\\Users\\user\\Desktop\\MLOPS AI Projects\\NUTRITION RAG CHATBOT\\machine_learning\\data\\train_test\"\n",
    "FULL_DATA_OUT = r\"C:\\Users\\user\\Desktop\\MLOPS AI Projects\\NUTRITION RAG CHATBOT\\machine_learning\\data\\nutrition_queries_clean.csv\"\n",
    "TRAIN_OUT = os.path.join(OUTPUT_DIR, \"train.csv\")\n",
    "TEST_OUT  = os.path.join(OUTPUT_DIR, \"test.csv\")\n",
    "\n",
    "os.makedirs(OUTPUT_DIR, exist_ok=True)"
   ]
  },
  {
   "cell_type": "markdown",
   "id": "1c111c04",
   "metadata": {},
   "source": [
    "\n",
    "#### 1. Load Dataset"
   ]
  },
  {
   "cell_type": "code",
   "execution_count": 2,
   "id": "f2ba1d67",
   "metadata": {},
   "outputs": [
    {
     "name": "stdout",
     "output_type": "stream",
     "text": [
      "Initial shape: (4100, 9)\n",
      "   id                                              query           label  \\\n",
      "0   1  Compare the vitamin C content in fresh vs froz...      comparison   \n",
      "1   2  Which has lower phytate: unfermented ogi or so...      comparison   \n",
      "2   3  How much zinc should a 3-year-old child with c...  recommendation   \n",
      "3   4  What foods should I eat if I have CKD stage 3 ...         therapy   \n",
      "4   5    Explain how vitamin K helps with blood clotting         general   \n",
      "\n",
      "   complexity recommended_llm  needs_followup distractor_label  \\\n",
      "0           2       TinyLlama            True              NaN   \n",
      "1           4         Mistral            True              NaN   \n",
      "2           5         Mistral            True              NaN   \n",
      "3           5         Mistral           False              NaN   \n",
      "4           4         Mistral           False              NaN   \n",
      "\n",
      "       biomarkers  is_high_risk  \n",
      "0   [\"vitamin_c\"]         False  \n",
      "1     [\"phytate\"]         False  \n",
      "2        [\"zinc\"]          True  \n",
      "3  [\"creatinine\"]          True  \n",
      "4   [\"vitamin_k\"]         False  \n"
     ]
    }
   ],
   "source": [
    "df = pd.read_csv(DATA_PATH)\n",
    "print(\"Initial shape:\", df.shape)\n",
    "print(df.head())\n"
   ]
  },
  {
   "cell_type": "markdown",
   "id": "79199691",
   "metadata": {},
   "source": [
    "##### 2. Drop Unnecessary Columns (id only)"
   ]
  },
  {
   "cell_type": "code",
   "execution_count": 3,
   "id": "60d990a4",
   "metadata": {},
   "outputs": [
    {
     "name": "stdout",
     "output_type": "stream",
     "text": [
      "After dropping 'id': (4100, 8)\n"
     ]
    }
   ],
   "source": [
    "df_full = df.drop(columns=[\"id\"])\n",
    "print(\"After dropping 'id':\", df_full.shape)\n"
   ]
  },
  {
   "cell_type": "code",
   "execution_count": 4,
   "id": "85d35710",
   "metadata": {},
   "outputs": [
    {
     "name": "stdout",
     "output_type": "stream",
     "text": [
      "\n",
      "Missing values per column:\n",
      "query                  0\n",
      "label                  0\n",
      "complexity             0\n",
      "recommended_llm        0\n",
      "needs_followup         0\n",
      "distractor_label    3400\n",
      "biomarkers             0\n",
      "is_high_risk           0\n",
      "dtype: int64\n"
     ]
    }
   ],
   "source": [
    "# Missing values\n",
    "print(\"\\nMissing values per column:\")\n",
    "print(df_full.isnull().sum())\n"
   ]
  },
  {
   "cell_type": "code",
   "execution_count": 5,
   "id": "945e7cd3",
   "metadata": {},
   "outputs": [
    {
     "name": "stdout",
     "output_type": "stream",
     "text": [
      "\n",
      "Label distribution:\n",
      "label\n",
      "recommendation    1232\n",
      "therapy           1031\n",
      "comparison         989\n",
      "general            848\n",
      "Name: count, dtype: int64\n"
     ]
    }
   ],
   "source": [
    "# Label distribution\n",
    "print(\"\\nLabel distribution:\")\n",
    "print(df_full[\"label\"].value_counts())"
   ]
  },
  {
   "cell_type": "markdown",
   "id": "81ca01e3",
   "metadata": {},
   "source": [
    "### Exploratory Data Analysis"
   ]
  },
  {
   "cell_type": "code",
   "execution_count": 7,
   "id": "8962a4d7",
   "metadata": {},
   "outputs": [
    {
     "data": {
      "image/png": "[encoded data removed]",
      "text/plain": [
       "<Figure size 600x400 with 1 Axes>"
      ]
     },
     "metadata": {},
     "output_type": "display_data"
    }
   ],
   "source": [
    "import matplotlib.pyplot as plt\n",
    "plt.figure(figsize=(6,4))\n",
    "df_full[\"label\"].value_counts().plot(kind=\"bar\")\n",
    "plt.title(\"Label Distribution\")\n",
    "plt.xlabel(\"Label\")\n",
    "plt.ylabel(\"Count\")\n",
    "plt.xticks(rotation=45)\n",
    "plt.show()"
   ]
  },
  {
   "cell_type": "code",
   "execution_count": 8,
   "id": "fdb5735b",
   "metadata": {},
   "outputs": [
    {
     "name": "stdout",
     "output_type": "stream",
     "text": [
      "\n",
      "Query length stats:\n",
      "count    4100.000000\n",
      "mean       10.792439\n",
      "std         2.025235\n",
      "min         6.000000\n",
      "25%         9.000000\n",
      "50%        11.000000\n",
      "75%        12.000000\n",
      "max        18.000000\n",
      "Name: query_length, dtype: float64\n"
     ]
    }
   ],
   "source": [
    "# Query length distribution\n",
    "df_full[\"query_length\"] = df_full[\"query\"].apply(lambda x: len(str(x).split()))\n",
    "print(\"\\nQuery length stats:\")\n",
    "print(df_full[\"query_length\"].describe())"
   ]
  },
  {
   "cell_type": "code",
   "execution_count": 9,
   "id": "23802f46",
   "metadata": {},
   "outputs": [
    {
     "data": {
      "image/png": "[encoded data removed]",
      "text/plain": [
       "<Figure size 600x400 with 1 Axes>"
      ]
     },
     "metadata": {},
     "output_type": "display_data"
    }
   ],
   "source": [
    "plt.figure(figsize=(6,4))\n",
    "df_full[\"query_length\"].hist(bins=30)\n",
    "plt.title(\"Query Length Distribution (words)\")\n",
    "plt.xlabel(\"Word count\")\n",
    "plt.ylabel(\"Frequency\")\n",
    "plt.show()\n"
   ]
  },
  {
   "cell_type": "markdown",
   "id": "23068263",
   "metadata": {},
   "source": [
    "#### 3. Save Full Cleaned Dataset (for RAG logic)"
   ]
  },
  {
   "cell_type": "code",
   "execution_count": 10,
   "id": "8930a1c6",
   "metadata": {},
   "outputs": [
    {
     "name": "stdout",
     "output_type": "stream",
     "text": [
      "✅ Full cleaned dataset saved at: C:\\Users\\user\\Desktop\\MLOPS AI Projects\\NUTRITION RAG CHATBOT\\machine_learning\\data\\nutrition_queries_clean.csv\n"
     ]
    }
   ],
   "source": [
    "df_full.to_csv(FULL_DATA_OUT, index=False)\n",
    "print(f\"✅ Full cleaned dataset saved at: {FULL_DATA_OUT}\")"
   ]
  },
  {
   "cell_type": "markdown",
   "id": "9915d74c",
   "metadata": {},
   "source": [
    "#### 4. Extract Training Subset (query + label only)"
   ]
  },
  {
   "cell_type": "code",
   "execution_count": 11,
   "id": "e2442dca",
   "metadata": {},
   "outputs": [],
   "source": [
    "df_train_ready = df_full[[\"query\", \"label\"]]"
   ]
  },
  {
   "cell_type": "markdown",
   "id": "381f9c70",
   "metadata": {},
   "source": [
    "#### 5. Train-Test Split"
   ]
  },
  {
   "cell_type": "code",
   "execution_count": 12,
   "id": "34622b36",
   "metadata": {},
   "outputs": [],
   "source": [
    "train_df, test_df = train_test_split(\n",
    "    df_train_ready,\n",
    "    test_size=0.2,\n",
    "    random_state=42,\n",
    "    stratify=df_train_ready[\"label\"]\n",
    ")"
   ]
  },
  {
   "cell_type": "code",
   "execution_count": 13,
   "id": "67f5e714",
   "metadata": {},
   "outputs": [
    {
     "name": "stdout",
     "output_type": "stream",
     "text": [
      "Train shape: (3280, 2)\n",
      "Test shape: (820, 2)\n"
     ]
    }
   ],
   "source": [
    "print(\"Train shape:\", train_df.shape)\n",
    "print(\"Test shape:\", test_df.shape)"
   ]
  },
  {
   "cell_type": "markdown",
   "id": "039b9843",
   "metadata": {},
   "source": [
    "#### Save Train/Test Files"
   ]
  },
  {
   "cell_type": "code",
   "execution_count": 14,
   "id": "852e09d6",
   "metadata": {},
   "outputs": [],
   "source": [
    "train_df.to_csv(TRAIN_OUT, index=False)\n",
    "test_df.to_csv(TEST_OUT, index=False)"
   ]
  },
  {
   "cell_type": "code",
   "execution_count": 15,
   "id": "9b9f4ba9",
   "metadata": {},
   "outputs": [
    {
     "name": "stdout",
     "output_type": "stream",
     "text": [
      "✅ Train set saved at: C:\\Users\\user\\Desktop\\MLOPS AI Projects\\NUTRITION RAG CHATBOT\\machine_learning\\data\\train_test\\train.csv\n",
      "✅ Test set saved at: C:\\Users\\user\\Desktop\\MLOPS AI Projects\\NUTRITION RAG CHATBOT\\machine_learning\\data\\train_test\\test.csv\n"
     ]
    }
   ],
   "source": [
    "print(f\"✅ Train set saved at: {TRAIN_OUT}\")\n",
    "print(f\"✅ Test set saved at: {TEST_OUT}\")"
   ]
  },
  {
   "cell_type": "markdown",
   "id": "2fee96d3",
   "metadata": {},
   "source": [
    "#### Tokenization & Model Training"
   ]
  },
  {
   "cell_type": "code",
   "execution_count": 17,
   "id": "946ac289",
   "metadata": {},
   "outputs": [
    {
     "name": "stderr",
     "output_type": "stream",
     "text": [
      "c:\\Users\\user\\miniconda3\\envs\\nut_class_env\\lib\\site-packages\\tqdm\\auto.py:21: TqdmWarning: IProgress not found. Please update jupyter and ipywidgets. See https://ipywidgets.readthedocs.io/en/stable/user_install.html\n",
      "  from .autonotebook import tqdm as notebook_tqdm\n"
     ]
    },
    {
     "name": "stdout",
     "output_type": "stream",
     "text": [
      "Train size: 3280\n",
      "Test size: 820\n",
      "                                               query           label\n",
      "0  How can clinical dietitians use phytate compos...         general\n",
      "1  What protein intake is ideal for a 55kg South ...  recommendation\n",
      "2  Suggest foods from the Food Composition Table ...  recommendation\n",
      "3  Compare the effects of calcium carbonate and a...      comparison\n",
      "4  How should a patient with kidney stones adjust...         therapy\n"
     ]
    }
   ],
   "source": [
    "import torch\n",
    "from transformers import AutoTokenizer, AutoModelForSequenceClassification, Trainer, TrainingArguments\n",
    "from datasets import load_dataset\n",
    "import pandas as pd\n",
    "import os\n",
    "\n",
    "# ================================\n",
    "# 1. Paths\n",
    "# ================================\n",
    "MODEL_PATH = r\"C:\\Users\\user\\Desktop\\MLOPS AI Projects\\NUTRITION RAG CHATBOT\\machine_learning\\models\\distilbert-base-uncased\"\n",
    "DATA_DIR = r\"C:\\Users\\user\\Desktop\\MLOPS AI Projects\\NUTRITION RAG CHATBOT\\machine_learning\\data\\train_test\"\n",
    "\n",
    "# ================================\n",
    "# 2. Load train/test\n",
    "# ================================\n",
    "train_df = pd.read_csv(os.path.join(DATA_DIR, \"train.csv\"))\n",
    "test_df = pd.read_csv(os.path.join(DATA_DIR, \"test.csv\"))\n",
    "\n",
    "print(\"Train size:\", len(train_df))\n",
    "print(\"Test size:\", len(test_df))\n",
    "print(train_df.head())\n"
   ]
  },
  {
   "cell_type": "code",
   "execution_count": 18,
   "id": "0e68c2ae",
   "metadata": {},
   "outputs": [
    {
     "name": "stderr",
     "output_type": "stream",
     "text": [
      "c:\\Users\\user\\miniconda3\\envs\\nut_class_env\\lib\\site-packages\\transformers\\tokenization_utils_base.py:1601: FutureWarning: `clean_up_tokenization_spaces` was not set. It will be set to `True` by default. This behavior will be depracted in transformers v4.45, and will be then set to `False` by default. For more details check this issue: https://github.com/huggingface/transformers/issues/31884\n",
      "  warnings.warn(\n",
      "Map: 100%|██████████| 3280/3280 [00:00<00:00, 7856.60 examples/s]\n",
      "Map: 100%|██████████| 820/820 [00:00<00:00, 7718.49 examples/s]\n",
      "Some weights of DistilBertForSequenceClassification were not initialized from the model checkpoint at C:\\Users\\user\\Desktop\\MLOPS AI Projects\\NUTRITION RAG CHATBOT\\machine_learning\\models\\distilbert-base-uncased and are newly initialized: ['classifier.bias', 'classifier.weight', 'pre_classifier.bias', 'pre_classifier.weight']\n",
      "You should probably TRAIN this model on a down-stream task to be able to use it for predictions and inference.\n"
     ]
    }
   ],
   "source": [
    "# ================================\n",
    "# 3. Encode Labels\n",
    "# ================================\n",
    "unique_labels = sorted(train_df[\"label\"].unique())\n",
    "label2id = {label: idx for idx, label in enumerate(unique_labels)}\n",
    "id2label = {idx: label for label, idx in label2id.items()}\n",
    "\n",
    "train_df[\"label\"] = train_df[\"label\"].map(label2id)\n",
    "test_df[\"label\"] = test_df[\"label\"].map(label2id)\n",
    "\n",
    "# ================================\n",
    "# 4. Convert to Dataset\n",
    "# ================================\n",
    "from datasets import Dataset\n",
    "\n",
    "train_dataset = Dataset.from_pandas(train_df)\n",
    "test_dataset = Dataset.from_pandas(test_df)\n",
    "\n",
    "# ================================\n",
    "# 5. Tokenizer\n",
    "# ================================\n",
    "tokenizer = AutoTokenizer.from_pretrained(MODEL_PATH)\n",
    "\n",
    "def tokenize(batch):\n",
    "    return tokenizer(batch[\"query\"], padding=\"max_length\", truncation=True, max_length=128)\n",
    "\n",
    "train_dataset = train_dataset.map(tokenize, batched=True)\n",
    "test_dataset = test_dataset.map(tokenize, batched=True)\n",
    "\n",
    "# ================================\n",
    "# 6. Model\n",
    "# ================================\n",
    "model = AutoModelForSequenceClassification.from_pretrained(\n",
    "    MODEL_PATH,\n",
    "    num_labels=len(unique_labels),\n",
    "    id2label=id2label,\n",
    "    label2id=label2id\n",
    ")\n"
   ]
  },
  {
   "cell_type": "code",
   "execution_count": null,
   "id": "b7b82a69",
   "metadata": {},
   "outputs": [],
   "source": [
    "%pip install evaluate\n"
   ]
  },
  {
   "cell_type": "code",
   "execution_count": 19,
   "id": "7a4ee032",
   "metadata": {},
   "outputs": [
    {
     "name": "stderr",
     "output_type": "stream",
     "text": [
      "c:\\Users\\user\\miniconda3\\envs\\nut_class_env\\lib\\site-packages\\transformers\\training_args.py:1525: FutureWarning: `evaluation_strategy` is deprecated and will be removed in version 4.46 of 🤗 Transformers. Use `eval_strategy` instead\n",
      "  warnings.warn(\n",
      "Downloading builder script: 4.20kB [00:00, ?B/s]\n",
      "Downloading builder script: 6.79kB [00:00, ?B/s]\n"
     ]
    }
   ],
   "source": [
    "# 7. Training Arguments\n",
    "# ================================\n",
    "training_args = TrainingArguments(\n",
    "    output_dir=\"./results\",\n",
    "    evaluation_strategy=\"epoch\",\n",
    "    save_strategy=\"epoch\",\n",
    "    learning_rate=2e-5,\n",
    "    per_device_train_batch_size=16,\n",
    "    per_device_eval_batch_size=16,\n",
    "    num_train_epochs=3,\n",
    "    weight_decay=0.01,\n",
    "    logging_dir=\"./logs\",\n",
    "    logging_steps=10,\n",
    "    load_best_model_at_end=True,\n",
    "    metric_for_best_model=\"accuracy\"\n",
    ")\n",
    "\n",
    "# ================================\n",
    "# 8. Metrics\n",
    "# ================================\n",
    "import numpy as np\n",
    "import evaluate\n",
    "\n",
    "accuracy = evaluate.load(\"accuracy\")\n",
    "f1 = evaluate.load(\"f1\")\n",
    "\n",
    "def compute_metrics(p):\n",
    "    preds = np.argmax(p.predictions, axis=1)\n",
    "    return {\n",
    "        \"accuracy\": accuracy.compute(predictions=preds, references=p.label_ids)[\"accuracy\"],\n",
    "        \"f1\": f1.compute(predictions=preds, references=p.label_ids, average=\"weighted\")[\"f1\"]\n",
    "    }\n",
    "\n",
    "# ================================\n",
    "# 9. Trainer\n",
    "# ================================\n",
    "trainer = Trainer(\n",
    "    model=model,\n",
    "    args=training_args,\n",
    "    train_dataset=train_dataset,\n",
    "    eval_dataset=test_dataset,\n",
    "    tokenizer=tokenizer,\n",
    "    compute_metrics=compute_metrics\n",
    ")"
   ]
  },
  {
   "cell_type": "code",
   "execution_count": 20,
   "id": "ca3bcfc5",
   "metadata": {},
   "outputs": [
    {
     "name": "stderr",
     "output_type": "stream",
     "text": [
      "  0%|          | 0/615 [00:00<?, ?it/s]c:\\Users\\user\\miniconda3\\envs\\nut_class_env\\lib\\site-packages\\torch\\utils\\data\\dataloader.py:666: UserWarning: 'pin_memory' argument is set as true but no accelerator is found, then device pinned memory won't be used.\n",
      "  warnings.warn(warn_msg)\n",
      "  2%|▏         | 10/615 [01:00<51:00,  5.06s/it] "
     ]
    },
    {
     "name": "stdout",
     "output_type": "stream",
     "text": [
      "{'loss': 1.3487, 'grad_norm': 1.8225659132003784, 'learning_rate': 1.9674796747967483e-05, 'epoch': 0.05}\n"
     ]
    },
    {
     "name": "stderr",
     "output_type": "stream",
     "text": [
      "  3%|▎         | 20/615 [01:52<55:02,  5.55s/it]"
     ]
    },
    {
     "name": "stdout",
     "output_type": "stream",
     "text": [
      "{'loss': 1.2125, 'grad_norm': 3.416842222213745, 'learning_rate': 1.934959349593496e-05, 'epoch': 0.1}\n"
     ]
    },
    {
     "name": "stderr",
     "output_type": "stream",
     "text": [
      "  5%|▍         | 30/615 [02:49<53:11,  5.46s/it]"
     ]
    },
    {
     "name": "stdout",
     "output_type": "stream",
     "text": [
      "{'loss': 1.0412, 'grad_norm': 3.315221071243286, 'learning_rate': 1.902439024390244e-05, 'epoch': 0.15}\n"
     ]
    },
    {
     "name": "stderr",
     "output_type": "stream",
     "text": [
      "  7%|▋         | 40/615 [03:40<48:08,  5.02s/it]"
     ]
    },
    {
     "name": "stdout",
     "output_type": "stream",
     "text": [
      "{'loss': 0.7859, 'grad_norm': 3.2194604873657227, 'learning_rate': 1.869918699186992e-05, 'epoch': 0.2}\n"
     ]
    },
    {
     "name": "stderr",
     "output_type": "stream",
     "text": [
      "  8%|▊         | 50/615 [04:33<47:07,  5.01s/it]"
     ]
    },
    {
     "name": "stdout",
     "output_type": "stream",
     "text": [
      "{'loss': 0.5541, 'grad_norm': 3.423278331756592, 'learning_rate': 1.83739837398374e-05, 'epoch': 0.24}\n"
     ]
    },
    {
     "name": "stderr",
     "output_type": "stream",
     "text": [
      " 10%|▉         | 60/615 [05:25<48:30,  5.24s/it]"
     ]
    },
    {
     "name": "stdout",
     "output_type": "stream",
     "text": [
      "{'loss': 0.3748, 'grad_norm': 5.758716583251953, 'learning_rate': 1.804878048780488e-05, 'epoch': 0.29}\n"
     ]
    },
    {
     "name": "stderr",
     "output_type": "stream",
     "text": [
      " 11%|█▏        | 70/615 [06:16<45:41,  5.03s/it]"
     ]
    },
    {
     "name": "stdout",
     "output_type": "stream",
     "text": [
      "{'loss': 0.2323, 'grad_norm': 2.2051889896392822, 'learning_rate': 1.772357723577236e-05, 'epoch': 0.34}\n"
     ]
    },
    {
     "name": "stderr",
     "output_type": "stream",
     "text": [
      " 13%|█▎        | 80/615 [07:09<47:01,  5.27s/it]"
     ]
    },
    {
     "name": "stdout",
     "output_type": "stream",
     "text": [
      "{'loss': 0.1484, 'grad_norm': 0.8041062355041504, 'learning_rate': 1.739837398373984e-05, 'epoch': 0.39}\n"
     ]
    },
    {
     "name": "stderr",
     "output_type": "stream",
     "text": [
      " 15%|█▍        | 90/615 [07:58<41:14,  4.71s/it]"
     ]
    },
    {
     "name": "stdout",
     "output_type": "stream",
     "text": [
      "{'loss': 0.1405, 'grad_norm': 0.5700523853302002, 'learning_rate': 1.7073170731707317e-05, 'epoch': 0.44}\n"
     ]
    },
    {
     "name": "stderr",
     "output_type": "stream",
     "text": [
      " 16%|█▋        | 100/615 [08:50<43:37,  5.08s/it]"
     ]
    },
    {
     "name": "stdout",
     "output_type": "stream",
     "text": [
      "{'loss': 0.0987, 'grad_norm': 1.9004207849502563, 'learning_rate': 1.6747967479674798e-05, 'epoch': 0.49}\n"
     ]
    },
    {
     "name": "stderr",
     "output_type": "stream",
     "text": [
      " 18%|█▊        | 110/615 [10:45<2:35:20, 18.46s/it]"
     ]
    },
    {
     "name": "stdout",
     "output_type": "stream",
     "text": [
      "{'loss': 0.0708, 'grad_norm': 0.39672955870628357, 'learning_rate': 1.642276422764228e-05, 'epoch': 0.54}\n"
     ]
    },
    {
     "name": "stderr",
     "output_type": "stream",
     "text": [
      " 20%|█▉        | 120/615 [12:18<1:19:38,  9.65s/it]"
     ]
    },
    {
     "name": "stdout",
     "output_type": "stream",
     "text": [
      "{'loss': 0.0747, 'grad_norm': 0.674391508102417, 'learning_rate': 1.6097560975609757e-05, 'epoch': 0.59}\n"
     ]
    },
    {
     "name": "stderr",
     "output_type": "stream",
     "text": [
      " 21%|██        | 130/615 [13:28<1:00:27,  7.48s/it]"
     ]
    },
    {
     "name": "stdout",
     "output_type": "stream",
     "text": [
      "{'loss': 0.0569, 'grad_norm': 4.362966060638428, 'learning_rate': 1.5772357723577235e-05, 'epoch': 0.63}\n"
     ]
    },
    {
     "name": "stderr",
     "output_type": "stream",
     "text": [
      " 23%|██▎       | 140/615 [14:30<44:09,  5.58s/it]  "
     ]
    },
    {
     "name": "stdout",
     "output_type": "stream",
     "text": [
      "{'loss': 0.041, 'grad_norm': 0.26869073510169983, 'learning_rate': 1.5447154471544717e-05, 'epoch': 0.68}\n"
     ]
    },
    {
     "name": "stderr",
     "output_type": "stream",
     "text": [
      " 24%|██▍       | 150/615 [15:29<47:59,  6.19s/it]"
     ]
    },
    {
     "name": "stdout",
     "output_type": "stream",
     "text": [
      "{'loss': 0.048, 'grad_norm': 2.698367118835449, 'learning_rate': 1.5121951219512196e-05, 'epoch': 0.73}\n"
     ]
    },
    {
     "name": "stderr",
     "output_type": "stream",
     "text": [
      " 26%|██▌       | 160/615 [16:25<44:07,  5.82s/it]"
     ]
    },
    {
     "name": "stdout",
     "output_type": "stream",
     "text": [
      "{'loss': 0.0307, 'grad_norm': 0.23180370032787323, 'learning_rate': 1.4796747967479676e-05, 'epoch': 0.78}\n"
     ]
    },
    {
     "name": "stderr",
     "output_type": "stream",
     "text": [
      " 28%|██▊       | 170/615 [17:19<37:49,  5.10s/it]"
     ]
    },
    {
     "name": "stdout",
     "output_type": "stream",
     "text": [
      "{'loss': 0.0756, 'grad_norm': 4.427389621734619, 'learning_rate': 1.4471544715447157e-05, 'epoch': 0.83}\n"
     ]
    },
    {
     "name": "stderr",
     "output_type": "stream",
     "text": [
      " 29%|██▉       | 180/615 [18:10<38:14,  5.27s/it]"
     ]
    },
    {
     "name": "stdout",
     "output_type": "stream",
     "text": [
      "{'loss': 0.0415, 'grad_norm': 8.300189971923828, 'learning_rate': 1.4146341463414635e-05, 'epoch': 0.88}\n"
     ]
    },
    {
     "name": "stderr",
     "output_type": "stream",
     "text": [
      " 31%|███       | 190/615 [19:39<1:14:34, 10.53s/it]"
     ]
    },
    {
     "name": "stdout",
     "output_type": "stream",
     "text": [
      "{'loss': 0.1028, 'grad_norm': 8.463193893432617, 'learning_rate': 1.3821138211382115e-05, 'epoch': 0.93}\n"
     ]
    },
    {
     "name": "stderr",
     "output_type": "stream",
     "text": [
      " 33%|███▎      | 200/615 [20:54<55:29,  8.02s/it]  "
     ]
    },
    {
     "name": "stdout",
     "output_type": "stream",
     "text": [
      "{'loss': 0.0667, 'grad_norm': 0.12615372240543365, 'learning_rate': 1.3495934959349594e-05, 'epoch': 0.98}\n"
     ]
    },
    {
     "name": "stderr",
     "output_type": "stream",
     "text": [
      "                                                 \n",
      " 33%|███▎      | 205/615 [23:10<47:09,  6.90s/it]"
     ]
    },
    {
     "name": "stdout",
     "output_type": "stream",
     "text": [
      "{'eval_loss': 0.030097730457782745, 'eval_accuracy': 0.9939024390243902, 'eval_f1': 0.9938999886878395, 'eval_runtime': 100.7952, 'eval_samples_per_second': 8.135, 'eval_steps_per_second': 0.516, 'epoch': 1.0}\n"
     ]
    },
    {
     "name": "stderr",
     "output_type": "stream",
     "text": [
      "c:\\Users\\user\\miniconda3\\envs\\nut_class_env\\lib\\site-packages\\torch\\utils\\data\\dataloader.py:666: UserWarning: 'pin_memory' argument is set as true but no accelerator is found, then device pinned memory won't be used.\n",
      "  warnings.warn(warn_msg)\n",
      " 34%|███▍      | 210/615 [24:12<2:01:03, 17.94s/it]"
     ]
    },
    {
     "name": "stdout",
     "output_type": "stream",
     "text": [
      "{'loss': 0.0798, 'grad_norm': 2.8848116397857666, 'learning_rate': 1.3170731707317076e-05, 'epoch': 1.02}\n"
     ]
    },
    {
     "name": "stderr",
     "output_type": "stream",
     "text": [
      " 36%|███▌      | 220/615 [25:33<50:08,  7.62s/it]  "
     ]
    },
    {
     "name": "stdout",
     "output_type": "stream",
     "text": [
      "{'loss': 0.0261, 'grad_norm': 3.706219434738159, 'learning_rate': 1.2845528455284555e-05, 'epoch': 1.07}\n"
     ]
    },
    {
     "name": "stderr",
     "output_type": "stream",
     "text": [
      " 37%|███▋      | 230/615 [26:34<39:25,  6.14s/it]"
     ]
    },
    {
     "name": "stdout",
     "output_type": "stream",
     "text": [
      "{'loss': 0.0132, 'grad_norm': 0.256814569234848, 'learning_rate': 1.2520325203252033e-05, 'epoch': 1.12}\n"
     ]
    },
    {
     "name": "stderr",
     "output_type": "stream",
     "text": [
      " 39%|███▉      | 240/615 [27:36<35:12,  5.63s/it]"
     ]
    },
    {
     "name": "stdout",
     "output_type": "stream",
     "text": [
      "{'loss': 0.0385, 'grad_norm': 0.10007163137197495, 'learning_rate': 1.2195121951219513e-05, 'epoch': 1.17}\n"
     ]
    },
    {
     "name": "stderr",
     "output_type": "stream",
     "text": [
      " 41%|████      | 250/615 [28:31<35:13,  5.79s/it]"
     ]
    },
    {
     "name": "stdout",
     "output_type": "stream",
     "text": [
      "{'loss': 0.0382, 'grad_norm': 0.13221238553524017, 'learning_rate': 1.1869918699186992e-05, 'epoch': 1.22}\n"
     ]
    },
    {
     "name": "stderr",
     "output_type": "stream",
     "text": [
      " 42%|████▏     | 260/615 [29:25<30:55,  5.23s/it]"
     ]
    },
    {
     "name": "stdout",
     "output_type": "stream",
     "text": [
      "{'loss': 0.0334, 'grad_norm': 8.592293739318848, 'learning_rate': 1.1544715447154474e-05, 'epoch': 1.27}\n"
     ]
    },
    {
     "name": "stderr",
     "output_type": "stream",
     "text": [
      " 44%|████▍     | 270/615 [30:14<29:04,  5.06s/it]"
     ]
    },
    {
     "name": "stdout",
     "output_type": "stream",
     "text": [
      "{'loss': 0.0093, 'grad_norm': 0.14628095924854279, 'learning_rate': 1.1219512195121953e-05, 'epoch': 1.32}\n"
     ]
    },
    {
     "name": "stderr",
     "output_type": "stream",
     "text": [
      " 46%|████▌     | 280/615 [31:12<31:43,  5.68s/it]"
     ]
    },
    {
     "name": "stdout",
     "output_type": "stream",
     "text": [
      "{'loss': 0.0086, 'grad_norm': 0.15606772899627686, 'learning_rate': 1.0894308943089431e-05, 'epoch': 1.37}\n"
     ]
    },
    {
     "name": "stderr",
     "output_type": "stream",
     "text": [
      " 47%|████▋     | 290/615 [32:11<32:26,  5.99s/it]"
     ]
    },
    {
     "name": "stdout",
     "output_type": "stream",
     "text": [
      "{'loss': 0.025, 'grad_norm': 0.12069474160671234, 'learning_rate': 1.0569105691056911e-05, 'epoch': 1.41}\n"
     ]
    },
    {
     "name": "stderr",
     "output_type": "stream",
     "text": [
      " 49%|████▉     | 300/615 [33:02<26:04,  4.97s/it]"
     ]
    },
    {
     "name": "stdout",
     "output_type": "stream",
     "text": [
      "{'loss': 0.0104, 'grad_norm': 0.07139445096254349, 'learning_rate': 1.024390243902439e-05, 'epoch': 1.46}\n"
     ]
    },
    {
     "name": "stderr",
     "output_type": "stream",
     "text": [
      " 50%|█████     | 310/615 [33:51<24:19,  4.79s/it]"
     ]
    },
    {
     "name": "stdout",
     "output_type": "stream",
     "text": [
      "{'loss': 0.0072, 'grad_norm': 0.05818052962422371, 'learning_rate': 9.91869918699187e-06, 'epoch': 1.51}\n"
     ]
    },
    {
     "name": "stderr",
     "output_type": "stream",
     "text": [
      " 52%|█████▏    | 320/615 [34:41<26:25,  5.38s/it]"
     ]
    },
    {
     "name": "stdout",
     "output_type": "stream",
     "text": [
      "{'loss': 0.0158, 'grad_norm': 0.06166370213031769, 'learning_rate': 9.59349593495935e-06, 'epoch': 1.56}\n"
     ]
    },
    {
     "name": "stderr",
     "output_type": "stream",
     "text": [
      " 54%|█████▎    | 330/615 [35:30<22:28,  4.73s/it]"
     ]
    },
    {
     "name": "stdout",
     "output_type": "stream",
     "text": [
      "{'loss': 0.0065, 'grad_norm': 0.06753739714622498, 'learning_rate': 9.268292682926831e-06, 'epoch': 1.61}\n"
     ]
    },
    {
     "name": "stderr",
     "output_type": "stream",
     "text": [
      " 55%|█████▌    | 340/615 [36:20<25:05,  5.48s/it]"
     ]
    },
    {
     "name": "stdout",
     "output_type": "stream",
     "text": [
      "{'loss': 0.0517, 'grad_norm': 0.0951601192355156, 'learning_rate': 8.94308943089431e-06, 'epoch': 1.66}\n"
     ]
    },
    {
     "name": "stderr",
     "output_type": "stream",
     "text": [
      " 57%|█████▋    | 350/615 [37:11<22:22,  5.07s/it]"
     ]
    },
    {
     "name": "stdout",
     "output_type": "stream",
     "text": [
      "{'loss': 0.0059, 'grad_norm': 0.07053299993276596, 'learning_rate': 8.617886178861789e-06, 'epoch': 1.71}\n"
     ]
    },
    {
     "name": "stderr",
     "output_type": "stream",
     "text": [
      " 59%|█████▊    | 360/615 [38:01<22:40,  5.34s/it]"
     ]
    },
    {
     "name": "stdout",
     "output_type": "stream",
     "text": [
      "{'loss': 0.0064, 'grad_norm': 0.056401077657938004, 'learning_rate': 8.292682926829268e-06, 'epoch': 1.76}\n"
     ]
    },
    {
     "name": "stderr",
     "output_type": "stream",
     "text": [
      " 60%|██████    | 370/615 [38:48<19:35,  4.80s/it]"
     ]
    },
    {
     "name": "stdout",
     "output_type": "stream",
     "text": [
      "{'loss': 0.0057, 'grad_norm': 0.1311776489019394, 'learning_rate': 7.967479674796748e-06, 'epoch': 1.8}\n"
     ]
    },
    {
     "name": "stderr",
     "output_type": "stream",
     "text": [
      " 62%|██████▏   | 380/615 [39:38<18:59,  4.85s/it]"
     ]
    },
    {
     "name": "stdout",
     "output_type": "stream",
     "text": [
      "{'loss': 0.0055, 'grad_norm': 0.11856084316968918, 'learning_rate': 7.64227642276423e-06, 'epoch': 1.85}\n"
     ]
    },
    {
     "name": "stderr",
     "output_type": "stream",
     "text": [
      " 63%|██████▎   | 390/615 [40:25<17:40,  4.72s/it]"
     ]
    },
    {
     "name": "stdout",
     "output_type": "stream",
     "text": [
      "{'loss': 0.0062, 'grad_norm': 0.8391358852386475, 'learning_rate': 7.317073170731707e-06, 'epoch': 1.9}\n"
     ]
    },
    {
     "name": "stderr",
     "output_type": "stream",
     "text": [
      " 65%|██████▌   | 400/615 [41:15<17:42,  4.94s/it]"
     ]
    },
    {
     "name": "stdout",
     "output_type": "stream",
     "text": [
      "{'loss': 0.0282, 'grad_norm': 0.06625353544950485, 'learning_rate': 6.991869918699188e-06, 'epoch': 1.95}\n"
     ]
    },
    {
     "name": "stderr",
     "output_type": "stream",
     "text": [
      " 67%|██████▋   | 410/615 [42:15<18:24,  5.39s/it]"
     ]
    },
    {
     "name": "stdout",
     "output_type": "stream",
     "text": [
      "{'loss': 0.0055, 'grad_norm': 0.049556195735931396, 'learning_rate': 6.666666666666667e-06, 'epoch': 2.0}\n"
     ]
    },
    {
     "name": "stderr",
     "output_type": "stream",
     "text": [
      "                                                 \n",
      " 67%|██████▋   | 410/615 [43:23<18:24,  5.39s/it]"
     ]
    },
    {
     "name": "stdout",
     "output_type": "stream",
     "text": [
      "{'eval_loss': 0.00890576746314764, 'eval_accuracy': 0.9975609756097561, 'eval_f1': 0.9975612101509927, 'eval_runtime': 68.53, 'eval_samples_per_second': 11.966, 'eval_steps_per_second': 0.759, 'epoch': 2.0}\n"
     ]
    },
    {
     "name": "stderr",
     "output_type": "stream",
     "text": [
      "c:\\Users\\user\\miniconda3\\envs\\nut_class_env\\lib\\site-packages\\torch\\utils\\data\\dataloader.py:666: UserWarning: 'pin_memory' argument is set as true but no accelerator is found, then device pinned memory won't be used.\n",
      "  warnings.warn(warn_msg)\n",
      " 68%|██████▊   | 420/615 [44:17<19:11,  5.90s/it]  "
     ]
    },
    {
     "name": "stdout",
     "output_type": "stream",
     "text": [
      "{'loss': 0.0148, 'grad_norm': 0.07391249388456345, 'learning_rate': 6.341463414634147e-06, 'epoch': 2.05}\n"
     ]
    },
    {
     "name": "stderr",
     "output_type": "stream",
     "text": [
      " 70%|██████▉   | 430/615 [45:02<14:06,  4.58s/it]"
     ]
    },
    {
     "name": "stdout",
     "output_type": "stream",
     "text": [
      "{'loss': 0.005, 'grad_norm': 0.0528334379196167, 'learning_rate': 6.016260162601627e-06, 'epoch': 2.1}\n"
     ]
    },
    {
     "name": "stderr",
     "output_type": "stream",
     "text": [
      " 72%|███████▏  | 440/615 [45:52<14:08,  4.85s/it]"
     ]
    },
    {
     "name": "stdout",
     "output_type": "stream",
     "text": [
      "{'loss': 0.0047, 'grad_norm': 0.04471154138445854, 'learning_rate': 5.691056910569106e-06, 'epoch': 2.15}\n"
     ]
    },
    {
     "name": "stderr",
     "output_type": "stream",
     "text": [
      " 73%|███████▎  | 450/615 [46:40<12:31,  4.55s/it]"
     ]
    },
    {
     "name": "stdout",
     "output_type": "stream",
     "text": [
      "{'loss': 0.0095, 'grad_norm': 0.051254525780677795, 'learning_rate': 5.365853658536586e-06, 'epoch': 2.2}\n"
     ]
    },
    {
     "name": "stderr",
     "output_type": "stream",
     "text": [
      " 75%|███████▍  | 460/615 [47:33<13:39,  5.29s/it]"
     ]
    },
    {
     "name": "stdout",
     "output_type": "stream",
     "text": [
      "{'loss': 0.006, 'grad_norm': 0.04381261393427849, 'learning_rate': 5.040650406504065e-06, 'epoch': 2.24}\n"
     ]
    },
    {
     "name": "stderr",
     "output_type": "stream",
     "text": [
      " 76%|███████▋  | 470/615 [48:22<11:35,  4.80s/it]"
     ]
    },
    {
     "name": "stdout",
     "output_type": "stream",
     "text": [
      "{'loss': 0.0041, 'grad_norm': 0.045422475785017014, 'learning_rate': 4.715447154471545e-06, 'epoch': 2.29}\n"
     ]
    },
    {
     "name": "stderr",
     "output_type": "stream",
     "text": [
      " 78%|███████▊  | 480/615 [49:11<10:55,  4.86s/it]"
     ]
    },
    {
     "name": "stdout",
     "output_type": "stream",
     "text": [
      "{'loss': 0.0043, 'grad_norm': 0.044410113245248795, 'learning_rate': 4.390243902439025e-06, 'epoch': 2.34}\n"
     ]
    },
    {
     "name": "stderr",
     "output_type": "stream",
     "text": [
      " 80%|███████▉  | 490/615 [49:57<09:28,  4.54s/it]"
     ]
    },
    {
     "name": "stdout",
     "output_type": "stream",
     "text": [
      "{'loss': 0.004, 'grad_norm': 0.04373467341065407, 'learning_rate': 4.0650406504065046e-06, 'epoch': 2.39}\n"
     ]
    },
    {
     "name": "stderr",
     "output_type": "stream",
     "text": [
      " 81%|████████▏ | 500/615 [50:48<09:03,  4.73s/it]"
     ]
    },
    {
     "name": "stdout",
     "output_type": "stream",
     "text": [
      "{'loss': 0.0095, 'grad_norm': 5.790186882019043, 'learning_rate': 3.7398373983739838e-06, 'epoch': 2.44}\n"
     ]
    },
    {
     "name": "stderr",
     "output_type": "stream",
     "text": [
      " 83%|████████▎ | 510/615 [51:38<09:12,  5.27s/it]"
     ]
    },
    {
     "name": "stdout",
     "output_type": "stream",
     "text": [
      "{'loss': 0.0041, 'grad_norm': 0.04808785393834114, 'learning_rate': 3.414634146341464e-06, 'epoch': 2.49}\n"
     ]
    },
    {
     "name": "stderr",
     "output_type": "stream",
     "text": [
      " 85%|████████▍ | 520/615 [52:29<08:22,  5.29s/it]"
     ]
    },
    {
     "name": "stdout",
     "output_type": "stream",
     "text": [
      "{'loss': 0.0039, 'grad_norm': 0.05654521659016609, 'learning_rate': 3.0894308943089435e-06, 'epoch': 2.54}\n"
     ]
    },
    {
     "name": "stderr",
     "output_type": "stream",
     "text": [
      " 86%|████████▌ | 530/615 [53:21<07:15,  5.13s/it]"
     ]
    },
    {
     "name": "stdout",
     "output_type": "stream",
     "text": [
      "{'loss': 0.0137, 'grad_norm': 5.164434432983398, 'learning_rate': 2.764227642276423e-06, 'epoch': 2.59}\n"
     ]
    },
    {
     "name": "stderr",
     "output_type": "stream",
     "text": [
      " 88%|████████▊ | 540/615 [54:13<06:28,  5.18s/it]"
     ]
    },
    {
     "name": "stdout",
     "output_type": "stream",
     "text": [
      "{'loss': 0.0036, 'grad_norm': 0.0381176695227623, 'learning_rate': 2.4390243902439027e-06, 'epoch': 2.63}\n"
     ]
    },
    {
     "name": "stderr",
     "output_type": "stream",
     "text": [
      " 89%|████████▉ | 550/615 [55:02<05:16,  4.87s/it]"
     ]
    },
    {
     "name": "stdout",
     "output_type": "stream",
     "text": [
      "{'loss': 0.0037, 'grad_norm': 0.03954417258501053, 'learning_rate': 2.1138211382113824e-06, 'epoch': 2.68}\n"
     ]
    },
    {
     "name": "stderr",
     "output_type": "stream",
     "text": [
      " 91%|█████████ | 560/615 [55:53<04:40,  5.11s/it]"
     ]
    },
    {
     "name": "stdout",
     "output_type": "stream",
     "text": [
      "{'loss': 0.004, 'grad_norm': 0.04365215450525284, 'learning_rate': 1.788617886178862e-06, 'epoch': 2.73}\n"
     ]
    },
    {
     "name": "stderr",
     "output_type": "stream",
     "text": [
      " 93%|█████████▎| 570/615 [56:46<03:52,  5.17s/it]"
     ]
    },
    {
     "name": "stdout",
     "output_type": "stream",
     "text": [
      "{'loss': 0.0038, 'grad_norm': 0.040008097887039185, 'learning_rate': 1.4634146341463414e-06, 'epoch': 2.78}\n"
     ]
    },
    {
     "name": "stderr",
     "output_type": "stream",
     "text": [
      " 94%|█████████▍| 580/615 [57:37<02:53,  4.94s/it]"
     ]
    },
    {
     "name": "stdout",
     "output_type": "stream",
     "text": [
      "{'loss': 0.0035, 'grad_norm': 0.03714326396584511, 'learning_rate': 1.1382113821138213e-06, 'epoch': 2.83}\n"
     ]
    },
    {
     "name": "stderr",
     "output_type": "stream",
     "text": [
      " 96%|█████████▌| 590/615 [58:29<02:05,  5.01s/it]"
     ]
    },
    {
     "name": "stdout",
     "output_type": "stream",
     "text": [
      "{'loss': 0.0063, 'grad_norm': 0.038279786705970764, 'learning_rate': 8.130081300813009e-07, 'epoch': 2.88}\n"
     ]
    },
    {
     "name": "stderr",
     "output_type": "stream",
     "text": [
      " 98%|█████████▊| 600/615 [59:18<01:12,  4.81s/it]"
     ]
    },
    {
     "name": "stdout",
     "output_type": "stream",
     "text": [
      "{'loss': 0.0079, 'grad_norm': 0.06631714105606079, 'learning_rate': 4.878048780487805e-07, 'epoch': 2.93}\n"
     ]
    },
    {
     "name": "stderr",
     "output_type": "stream",
     "text": [
      " 99%|█████████▉| 610/615 [1:00:09<00:24,  4.88s/it]"
     ]
    },
    {
     "name": "stdout",
     "output_type": "stream",
     "text": [
      "{'loss': 0.0038, 'grad_norm': 0.03889930248260498, 'learning_rate': 1.6260162601626018e-07, 'epoch': 2.98}\n"
     ]
    },
    {
     "name": "stderr",
     "output_type": "stream",
     "text": [
      "100%|██████████| 615/615 [1:00:35<00:00,  4.99s/it]c:\\Users\\user\\miniconda3\\envs\\nut_class_env\\lib\\site-packages\\torch\\utils\\data\\dataloader.py:666: UserWarning: 'pin_memory' argument is set as true but no accelerator is found, then device pinned memory won't be used.\n",
      "  warnings.warn(warn_msg)\n",
      "                                                   \n",
      "100%|██████████| 615/615 [1:01:47<00:00,  4.99s/it]"
     ]
    },
    {
     "name": "stdout",
     "output_type": "stream",
     "text": [
      "{'eval_loss': 0.0046887509524822235, 'eval_accuracy': 1.0, 'eval_f1': 1.0, 'eval_runtime': 70.9264, 'eval_samples_per_second': 11.561, 'eval_steps_per_second': 0.733, 'epoch': 3.0}\n"
     ]
    },
    {
     "name": "stderr",
     "output_type": "stream",
     "text": [
      "100%|██████████| 615/615 [1:01:48<00:00,  6.03s/it]\n"
     ]
    },
    {
     "name": "stdout",
     "output_type": "stream",
     "text": [
      "{'train_runtime': 3708.9044, 'train_samples_per_second': 2.653, 'train_steps_per_second': 0.166, 'train_loss': 0.11536047829360496, 'epoch': 3.0}\n",
      "✅ Model and tokenizer saved to C:\\Users\\user\\Desktop\\MLOPS AI Projects\\NUTRITION RAG CHATBOT\\machine_learning\\models\\distilbert-classifier-v1\n"
     ]
    }
   ],
   "source": [
    "\n",
    "# 10. Train\n",
    "# ================================\n",
    "trainer.train()\n",
    "# ================================\n",
    "# 11. Save Final Model\n",
    "# ================================\n",
    "SAVE_DIR = r\"C:\\Users\\user\\Desktop\\MLOPS AI Projects\\NUTRITION RAG CHATBOT\\machine_learning\\models\\distilbert-classifier-v1\"\n",
    "\n",
    "trainer.save_model(SAVE_DIR)       # saves model + config\n",
    "tokenizer.save_pretrained(SAVE_DIR)\n",
    "\n",
    "print(f\"✅ Model and tokenizer saved to {SAVE_DIR}\")"
   ]
  },
  {
   "cell_type": "markdown",
   "id": "9b8c5e82",
   "metadata": {},
   "source": [
    "#### Loading Model"
   ]
  },
  {
   "cell_type": "code",
   "execution_count": 23,
   "id": "7bb4e7b5",
   "metadata": {},
   "outputs": [
    {
     "name": "stdout",
     "output_type": "stream",
     "text": [
      "{'query': 'Compare the vitamin C in mango and guava.', 'label': 'comparison', 'confidence': 0.9977}\n",
      "{'query': 'I need a diet plan for type 2 diabetes.', 'label': 'therapy', 'confidence': 0.996}\n",
      "{'query': 'What is the nutrient composition of sorghum?', 'label': 'general', 'confidence': 0.9974}\n",
      "{'query': 'Can a kidney patient eat high protein foods?', 'label': 'therapy', 'confidence': 0.9051}\n"
     ]
    }
   ],
   "source": [
    "# ================================\n",
    "# 1. Imports\n",
    "# ================================\n",
    "from transformers import AutoTokenizer, AutoModelForSequenceClassification, pipeline\n",
    "\n",
    "# Path to your saved model\n",
    "model_path = r\"C:\\Users\\user\\Desktop\\MLOPS AI Projects\\NUTRITION RAG CHATBOT\\machine_learning\\models\\distilbert-classifier-v1\"\n",
    "\n",
    "# ================================\n",
    "# 2. Load Model & Tokenizer\n",
    "# ================================\n",
    "tokenizer = AutoTokenizer.from_pretrained(model_path)\n",
    "model = AutoModelForSequenceClassification.from_pretrained(model_path)\n",
    "\n",
    "# ================================\n",
    "# 3. Create Pipeline\n",
    "# ================================\n",
    "classifier = pipeline(\"text-classification\", model=model, tokenizer=tokenizer)\n",
    "\n",
    "# ================================\n",
    "# 4. Helper Function\n",
    "# ================================\n",
    "def predict_query(query: str):\n",
    "    result = classifier(query)[0]  # only take the first prediction\n",
    "    label = result[\"label\"]\n",
    "    score = round(result[\"score\"], 4)\n",
    "    return {\"query\": query, \"label\": label, \"confidence\": score}\n",
    "\n",
    "# ================================\n",
    "# 5. Example Usage\n",
    "# ================================\n",
    "queries = [\n",
    "    \"Compare the vitamin C in mango and guava.\",\n",
    "    \"I need a diet plan for type 2 diabetes.\",\n",
    "    \"What is the nutrient composition of sorghum?\",\n",
    "    \"Can a kidney patient eat high protein foods?\"\n",
    "]\n",
    "\n",
    "for q in queries:\n",
    "    print(predict_query(q))"
   ]
  },
  {
   "cell_type": "code",
   "execution_count": null,
   "id": "bbadb1d4",
   "metadata": {},
   "outputs": [],
   "source": []
  }
 ],
 "metadata": {
  "kernelspec": {
   "display_name": "nut_class_env",
   "language": "python",
   "name": "python3"
  },
  "language_info": {
   "codemirror_mode": {
    "name": "ipython",
    "version": 3
   },
   "file_extension": ".py",
   "mimetype": "text/x-python",
   "name": "python",
   "nbconvert_exporter": "python",
   "pygments_lexer": "ipython3",
   "version": "3.10.18"
  }
 },
 "nbformat": 4,
 "nbformat_minor": 5
}
